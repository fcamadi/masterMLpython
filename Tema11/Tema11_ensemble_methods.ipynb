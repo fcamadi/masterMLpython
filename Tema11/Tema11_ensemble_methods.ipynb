{
 "cells": [
  {
   "cell_type": "markdown",
   "id": "e59fae31-6a9d-4849-85e2-0e6e30ac4e0b",
   "metadata": {},
   "source": [
    "# Tema 11 - Ejercicio 2\n",
    "## Mejorando un modelo de machine learning\n",
    "\n",
    "2. Usando los diferentes métodos de meta-aprendizaje propuestos en el\n",
    "capítulo 14 (bagging, boosting, random forests), elabore modelos con el\n",
    "dataset de la prueba de evaluación del tema 5.\n"
   ]
  },
  {
   "cell_type": "markdown",
   "id": "7e1b4033-d449-486e-bf1f-f700023e7461",
   "metadata": {},
   "source": [
    "Importamos dependencias"
   ]
  },
  {
   "cell_type": "code",
   "execution_count": 1,
   "id": "ae6bc110-4470-4489-9577-56e8fc6f8a5e",
   "metadata": {},
   "outputs": [],
   "source": [
    "import pandas as pd\n",
    "import numpy as np\n",
    "import matplotlib.pyplot as plt\n",
    "from matplotlib.colors import ListedColormap\n",
    "import matplotlib.patches as mpatches\n",
    "import seaborn as sb\n",
    "\n",
    "%matplotlib inline\n",
    "plt.rcParams['figure.figsize'] = (16, 9)\n",
    "plt.style.use('ggplot')\n",
    "\n",
    "from sklearn.model_selection import train_test_split\n",
    "from sklearn.tree import DecisionTreeClassifier\n",
    "#in the doc: \"Able to handle both numerical and categorical data. However, the scikit-learn implementation does not support categorical variables for now.\"\n",
    "from sklearn.preprocessing import OneHotEncoder  \n",
    "\n",
    "from sklearn.metrics import accuracy_score, confusion_matrix, classification_report"
   ]
  },
  {
   "cell_type": "code",
   "execution_count": 2,
   "id": "a1021cf5-f6cc-41a8-8475-6f01b165bca1",
   "metadata": {},
   "outputs": [],
   "source": [
    "# Surpress warnings:\n",
    "def warn(*args, **kwargs):\n",
    "    pass\n",
    "import warnings\n",
    "warnings.warn = warn"
   ]
  },
  {
   "cell_type": "markdown",
   "id": "352f6462-6857-4961-8c66-f99d415b13b5",
   "metadata": {},
   "source": [
    "## Paso 1: importar datos"
   ]
  },
  {
   "cell_type": "markdown",
   "id": "aa81d2cb-0be0-41ce-8bbf-c0c5323125ad",
   "metadata": {},
   "source": [
    "Importamos el fichero (lo exportamos previamente en RStudio)"
   ]
  },
  {
   "cell_type": "code",
   "execution_count": 3,
   "id": "b4e5c498-6852-4659-bf45-75e29cd2c39f",
   "metadata": {},
   "outputs": [],
   "source": [
    "carseats_0 = pd.read_csv(r\"carseats.csv\",sep=',')"
   ]
  },
  {
   "cell_type": "markdown",
   "id": "de08a195-3bea-460d-9e40-602ec6a532c9",
   "metadata": {},
   "source": [
    "## Paso 2: procesar datos"
   ]
  },
  {
   "cell_type": "code",
   "execution_count": 4,
   "id": "fa6edab2-7808-4196-b42f-89b763a9f0a1",
   "metadata": {},
   "outputs": [
    {
     "data": {
      "text/html": [
       "<div>\n",
       "<style scoped>\n",
       "    .dataframe tbody tr th:only-of-type {\n",
       "        vertical-align: middle;\n",
       "    }\n",
       "\n",
       "    .dataframe tbody tr th {\n",
       "        vertical-align: top;\n",
       "    }\n",
       "\n",
       "    .dataframe thead th {\n",
       "        text-align: right;\n",
       "    }\n",
       "</style>\n",
       "<table border=\"1\" class=\"dataframe\">\n",
       "  <thead>\n",
       "    <tr style=\"text-align: right;\">\n",
       "      <th></th>\n",
       "      <th>Unnamed: 0</th>\n",
       "      <th>Sales</th>\n",
       "      <th>CompPrice</th>\n",
       "      <th>Income</th>\n",
       "      <th>Advertising</th>\n",
       "      <th>Population</th>\n",
       "      <th>Price</th>\n",
       "      <th>Age</th>\n",
       "      <th>Education</th>\n",
       "    </tr>\n",
       "  </thead>\n",
       "  <tbody>\n",
       "    <tr>\n",
       "      <th>count</th>\n",
       "      <td>400.000000</td>\n",
       "      <td>400.000000</td>\n",
       "      <td>400.000000</td>\n",
       "      <td>400.000000</td>\n",
       "      <td>400.000000</td>\n",
       "      <td>400.000000</td>\n",
       "      <td>400.000000</td>\n",
       "      <td>400.000000</td>\n",
       "      <td>400.000000</td>\n",
       "    </tr>\n",
       "    <tr>\n",
       "      <th>mean</th>\n",
       "      <td>200.500000</td>\n",
       "      <td>7.496325</td>\n",
       "      <td>124.975000</td>\n",
       "      <td>68.657500</td>\n",
       "      <td>6.635000</td>\n",
       "      <td>264.840000</td>\n",
       "      <td>115.795000</td>\n",
       "      <td>53.322500</td>\n",
       "      <td>13.900000</td>\n",
       "    </tr>\n",
       "    <tr>\n",
       "      <th>std</th>\n",
       "      <td>115.614301</td>\n",
       "      <td>2.824115</td>\n",
       "      <td>15.334512</td>\n",
       "      <td>27.986037</td>\n",
       "      <td>6.650364</td>\n",
       "      <td>147.376436</td>\n",
       "      <td>23.676664</td>\n",
       "      <td>16.200297</td>\n",
       "      <td>2.620528</td>\n",
       "    </tr>\n",
       "    <tr>\n",
       "      <th>min</th>\n",
       "      <td>1.000000</td>\n",
       "      <td>0.000000</td>\n",
       "      <td>77.000000</td>\n",
       "      <td>21.000000</td>\n",
       "      <td>0.000000</td>\n",
       "      <td>10.000000</td>\n",
       "      <td>24.000000</td>\n",
       "      <td>25.000000</td>\n",
       "      <td>10.000000</td>\n",
       "    </tr>\n",
       "    <tr>\n",
       "      <th>25%</th>\n",
       "      <td>100.750000</td>\n",
       "      <td>5.390000</td>\n",
       "      <td>115.000000</td>\n",
       "      <td>42.750000</td>\n",
       "      <td>0.000000</td>\n",
       "      <td>139.000000</td>\n",
       "      <td>100.000000</td>\n",
       "      <td>39.750000</td>\n",
       "      <td>12.000000</td>\n",
       "    </tr>\n",
       "    <tr>\n",
       "      <th>50%</th>\n",
       "      <td>200.500000</td>\n",
       "      <td>7.490000</td>\n",
       "      <td>125.000000</td>\n",
       "      <td>69.000000</td>\n",
       "      <td>5.000000</td>\n",
       "      <td>272.000000</td>\n",
       "      <td>117.000000</td>\n",
       "      <td>54.500000</td>\n",
       "      <td>14.000000</td>\n",
       "    </tr>\n",
       "    <tr>\n",
       "      <th>75%</th>\n",
       "      <td>300.250000</td>\n",
       "      <td>9.320000</td>\n",
       "      <td>135.000000</td>\n",
       "      <td>91.000000</td>\n",
       "      <td>12.000000</td>\n",
       "      <td>398.500000</td>\n",
       "      <td>131.000000</td>\n",
       "      <td>66.000000</td>\n",
       "      <td>16.000000</td>\n",
       "    </tr>\n",
       "    <tr>\n",
       "      <th>max</th>\n",
       "      <td>400.000000</td>\n",
       "      <td>16.270000</td>\n",
       "      <td>175.000000</td>\n",
       "      <td>120.000000</td>\n",
       "      <td>29.000000</td>\n",
       "      <td>509.000000</td>\n",
       "      <td>191.000000</td>\n",
       "      <td>80.000000</td>\n",
       "      <td>18.000000</td>\n",
       "    </tr>\n",
       "  </tbody>\n",
       "</table>\n",
       "</div>"
      ],
      "text/plain": [
       "       Unnamed: 0       Sales   CompPrice      Income  Advertising  \\\n",
       "count  400.000000  400.000000  400.000000  400.000000   400.000000   \n",
       "mean   200.500000    7.496325  124.975000   68.657500     6.635000   \n",
       "std    115.614301    2.824115   15.334512   27.986037     6.650364   \n",
       "min      1.000000    0.000000   77.000000   21.000000     0.000000   \n",
       "25%    100.750000    5.390000  115.000000   42.750000     0.000000   \n",
       "50%    200.500000    7.490000  125.000000   69.000000     5.000000   \n",
       "75%    300.250000    9.320000  135.000000   91.000000    12.000000   \n",
       "max    400.000000   16.270000  175.000000  120.000000    29.000000   \n",
       "\n",
       "       Population       Price         Age   Education  \n",
       "count  400.000000  400.000000  400.000000  400.000000  \n",
       "mean   264.840000  115.795000   53.322500   13.900000  \n",
       "std    147.376436   23.676664   16.200297    2.620528  \n",
       "min     10.000000   24.000000   25.000000   10.000000  \n",
       "25%    139.000000  100.000000   39.750000   12.000000  \n",
       "50%    272.000000  117.000000   54.500000   14.000000  \n",
       "75%    398.500000  131.000000   66.000000   16.000000  \n",
       "max    509.000000  191.000000   80.000000   18.000000  "
      ]
     },
     "execution_count": 4,
     "metadata": {},
     "output_type": "execute_result"
    }
   ],
   "source": [
    "carseats_0.describe()"
   ]
  },
  {
   "cell_type": "markdown",
   "id": "ad1ea48f-25ed-41c2-81d5-7836579ff12d",
   "metadata": {},
   "source": [
    "Vemos que tenemos un campo \"unnamed\", y que las variables categóricas no aparecen. <br>\n",
    "Para mostrar algunas estadísticas sobre ellas:"
   ]
  },
  {
   "cell_type": "code",
   "execution_count": 5,
   "id": "ddc67635-39ef-4036-b430-f64b46145bcf",
   "metadata": {},
   "outputs": [
    {
     "data": {
      "text/html": [
       "<div>\n",
       "<style scoped>\n",
       "    .dataframe tbody tr th:only-of-type {\n",
       "        vertical-align: middle;\n",
       "    }\n",
       "\n",
       "    .dataframe tbody tr th {\n",
       "        vertical-align: top;\n",
       "    }\n",
       "\n",
       "    .dataframe thead th {\n",
       "        text-align: right;\n",
       "    }\n",
       "</style>\n",
       "<table border=\"1\" class=\"dataframe\">\n",
       "  <thead>\n",
       "    <tr style=\"text-align: right;\">\n",
       "      <th></th>\n",
       "      <th>ShelveLoc</th>\n",
       "      <th>Urban</th>\n",
       "      <th>US</th>\n",
       "    </tr>\n",
       "  </thead>\n",
       "  <tbody>\n",
       "    <tr>\n",
       "      <th>count</th>\n",
       "      <td>400</td>\n",
       "      <td>400</td>\n",
       "      <td>400</td>\n",
       "    </tr>\n",
       "    <tr>\n",
       "      <th>unique</th>\n",
       "      <td>3</td>\n",
       "      <td>2</td>\n",
       "      <td>2</td>\n",
       "    </tr>\n",
       "    <tr>\n",
       "      <th>top</th>\n",
       "      <td>Medium</td>\n",
       "      <td>Yes</td>\n",
       "      <td>Yes</td>\n",
       "    </tr>\n",
       "    <tr>\n",
       "      <th>freq</th>\n",
       "      <td>219</td>\n",
       "      <td>282</td>\n",
       "      <td>258</td>\n",
       "    </tr>\n",
       "  </tbody>\n",
       "</table>\n",
       "</div>"
      ],
      "text/plain": [
       "       ShelveLoc Urban   US\n",
       "count        400   400  400\n",
       "unique         3     2    2\n",
       "top       Medium   Yes  Yes\n",
       "freq         219   282  258"
      ]
     },
     "execution_count": 5,
     "metadata": {},
     "output_type": "execute_result"
    }
   ],
   "source": [
    "# We have some categorical variables. To show them\n",
    "carseats_0.describe(include='object')"
   ]
  },
  {
   "cell_type": "markdown",
   "id": "61e83241-8a59-43d5-bbab-f6e9833000ab",
   "metadata": {},
   "source": [
    "Lo primero que hay que hacer es eliminar la primera columna, que no sirve para nada:"
   ]
  },
  {
   "cell_type": "code",
   "execution_count": 6,
   "id": "e50e1f19-946e-4984-a702-2020e0e537ea",
   "metadata": {},
   "outputs": [],
   "source": [
    "#remove first column\n",
    "carseats = carseats_0.drop(carseats_0.columns[0], axis=1)"
   ]
  },
  {
   "cell_type": "code",
   "execution_count": 7,
   "id": "6147bcb2-b9d8-4a90-af3f-65811d5da926",
   "metadata": {},
   "outputs": [
    {
     "data": {
      "text/html": [
       "<div>\n",
       "<style scoped>\n",
       "    .dataframe tbody tr th:only-of-type {\n",
       "        vertical-align: middle;\n",
       "    }\n",
       "\n",
       "    .dataframe tbody tr th {\n",
       "        vertical-align: top;\n",
       "    }\n",
       "\n",
       "    .dataframe thead th {\n",
       "        text-align: right;\n",
       "    }\n",
       "</style>\n",
       "<table border=\"1\" class=\"dataframe\">\n",
       "  <thead>\n",
       "    <tr style=\"text-align: right;\">\n",
       "      <th></th>\n",
       "      <th>Sales</th>\n",
       "      <th>CompPrice</th>\n",
       "      <th>Income</th>\n",
       "      <th>Advertising</th>\n",
       "      <th>Population</th>\n",
       "      <th>Price</th>\n",
       "      <th>ShelveLoc</th>\n",
       "      <th>Age</th>\n",
       "      <th>Education</th>\n",
       "      <th>Urban</th>\n",
       "      <th>US</th>\n",
       "    </tr>\n",
       "  </thead>\n",
       "  <tbody>\n",
       "    <tr>\n",
       "      <th>0</th>\n",
       "      <td>9.50</td>\n",
       "      <td>138</td>\n",
       "      <td>73</td>\n",
       "      <td>11</td>\n",
       "      <td>276</td>\n",
       "      <td>120</td>\n",
       "      <td>Bad</td>\n",
       "      <td>42</td>\n",
       "      <td>17</td>\n",
       "      <td>Yes</td>\n",
       "      <td>Yes</td>\n",
       "    </tr>\n",
       "    <tr>\n",
       "      <th>1</th>\n",
       "      <td>11.22</td>\n",
       "      <td>111</td>\n",
       "      <td>48</td>\n",
       "      <td>16</td>\n",
       "      <td>260</td>\n",
       "      <td>83</td>\n",
       "      <td>Good</td>\n",
       "      <td>65</td>\n",
       "      <td>10</td>\n",
       "      <td>Yes</td>\n",
       "      <td>Yes</td>\n",
       "    </tr>\n",
       "    <tr>\n",
       "      <th>2</th>\n",
       "      <td>10.06</td>\n",
       "      <td>113</td>\n",
       "      <td>35</td>\n",
       "      <td>10</td>\n",
       "      <td>269</td>\n",
       "      <td>80</td>\n",
       "      <td>Medium</td>\n",
       "      <td>59</td>\n",
       "      <td>12</td>\n",
       "      <td>Yes</td>\n",
       "      <td>Yes</td>\n",
       "    </tr>\n",
       "    <tr>\n",
       "      <th>3</th>\n",
       "      <td>7.40</td>\n",
       "      <td>117</td>\n",
       "      <td>100</td>\n",
       "      <td>4</td>\n",
       "      <td>466</td>\n",
       "      <td>97</td>\n",
       "      <td>Medium</td>\n",
       "      <td>55</td>\n",
       "      <td>14</td>\n",
       "      <td>Yes</td>\n",
       "      <td>Yes</td>\n",
       "    </tr>\n",
       "    <tr>\n",
       "      <th>4</th>\n",
       "      <td>4.15</td>\n",
       "      <td>141</td>\n",
       "      <td>64</td>\n",
       "      <td>3</td>\n",
       "      <td>340</td>\n",
       "      <td>128</td>\n",
       "      <td>Bad</td>\n",
       "      <td>38</td>\n",
       "      <td>13</td>\n",
       "      <td>Yes</td>\n",
       "      <td>No</td>\n",
       "    </tr>\n",
       "  </tbody>\n",
       "</table>\n",
       "</div>"
      ],
      "text/plain": [
       "   Sales  CompPrice  Income  Advertising  Population  Price ShelveLoc  Age  \\\n",
       "0   9.50        138      73           11         276    120       Bad   42   \n",
       "1  11.22        111      48           16         260     83      Good   65   \n",
       "2  10.06        113      35           10         269     80    Medium   59   \n",
       "3   7.40        117     100            4         466     97    Medium   55   \n",
       "4   4.15        141      64            3         340    128       Bad   38   \n",
       "\n",
       "   Education Urban   US  \n",
       "0         17   Yes  Yes  \n",
       "1         10   Yes  Yes  \n",
       "2         12   Yes  Yes  \n",
       "3         14   Yes  Yes  \n",
       "4         13   Yes   No  "
      ]
     },
     "execution_count": 7,
     "metadata": {},
     "output_type": "execute_result"
    }
   ],
   "source": [
    "carseats.head(5)"
   ]
  },
  {
   "cell_type": "markdown",
   "id": "dd1cb335-6e4d-4f19-aa1c-1e26e65d82db",
   "metadata": {},
   "source": [
    "Debido a que la implementación de sckit-learn no puede tratar variables categóricas, hay que transformar las 3 variables categóricas mediante **\"one hot encoding\"**"
   ]
  },
  {
   "cell_type": "code",
   "execution_count": 8,
   "id": "9070ed13-6b6e-4201-bc02-d6a720548dab",
   "metadata": {},
   "outputs": [],
   "source": [
    "carseats_cat = carseats.select_dtypes(include='object')"
   ]
  },
  {
   "cell_type": "code",
   "execution_count": 9,
   "id": "cc686825-0d3c-4861-96ad-696e00e766e8",
   "metadata": {},
   "outputs": [],
   "source": [
    "encoder = OneHotEncoder(sparse_output=False, handle_unknown='error')"
   ]
  },
  {
   "cell_type": "code",
   "execution_count": 10,
   "id": "d00467e2-ce14-491e-b8b6-441fb887bc3f",
   "metadata": {},
   "outputs": [],
   "source": [
    "carseats_cat_encoded = encoder.fit_transform(carseats_cat)"
   ]
  },
  {
   "cell_type": "code",
   "execution_count": 11,
   "id": "8046f64a-6603-40e0-a547-a5cb4b078d55",
   "metadata": {},
   "outputs": [],
   "source": [
    "#categorical columns\n",
    "#carseats_cat.columns"
   ]
  },
  {
   "cell_type": "code",
   "execution_count": 12,
   "id": "5acfb16d-b154-4adf-a94b-5de152a9b8a0",
   "metadata": {},
   "outputs": [
    {
     "name": "stdout",
     "output_type": "stream",
     "text": [
      "['Bad' 'Good' 'Medium']\n",
      "['No' 'Yes']\n",
      "['No' 'Yes']\n"
     ]
    }
   ],
   "source": [
    "#Categories the encoder found:\n",
    "for cat in encoder.categories_:\n",
    "    print(cat)"
   ]
  },
  {
   "cell_type": "code",
   "execution_count": 13,
   "id": "512baa88-d06a-4b3b-9047-98f02377fa91",
   "metadata": {},
   "outputs": [],
   "source": [
    "#more pythonic style:\n",
    "categorical_columns = [f\"{col}_{cat}\" for i, col in enumerate(carseats_cat.columns) for cat in encoder.categories_[i]]\n",
    "#categorical_columns"
   ]
  },
  {
   "cell_type": "code",
   "execution_count": 14,
   "id": "f27c4b21-549f-4bbd-8d28-9de9ef315114",
   "metadata": {},
   "outputs": [],
   "source": [
    "#put the one-hot encoded features into their own dataframe\n",
    "one_hot_features = pd.DataFrame(carseats_cat_encoded, columns=categorical_columns)\n",
    "#one_hot_features.head(5)"
   ]
  },
  {
   "cell_type": "code",
   "execution_count": 15,
   "id": "7090bf01-e8ee-4553-8cca-06f2118b87eb",
   "metadata": {},
   "outputs": [],
   "source": [
    "#dataframe with only numerical features\n",
    "carseats = carseats.select_dtypes(exclude='object')\n",
    "#carseats.head(5)"
   ]
  },
  {
   "cell_type": "code",
   "execution_count": 16,
   "id": "d9c676e1-6b38-45bb-81c2-861506978630",
   "metadata": {},
   "outputs": [],
   "source": [
    "#Putting all together\n",
    "carseats =  carseats.join(one_hot_features)\n",
    "#carseats.head(5)"
   ]
  },
  {
   "cell_type": "code",
   "execution_count": 17,
   "id": "ad3637c0-83e9-47b7-8936-ac3ca3e02db1",
   "metadata": {},
   "outputs": [],
   "source": [
    "#carseats.describe()"
   ]
  },
  {
   "cell_type": "markdown",
   "id": "fe69aa38-107e-4a68-b41f-dd4c8e931f6f",
   "metadata": {},
   "source": [
    "Finalmente, queda tranformar la variable numérica \"Sales\" en una variable categórica tipo \"Sí\"/\"No\". Al igual que en R, consideramos que si el valor es superior a la media, el valor será \"Sí\"."
   ]
  },
  {
   "cell_type": "code",
   "execution_count": 18,
   "id": "35c9fce1-bc51-4ed6-9e63-b9bb093af58a",
   "metadata": {},
   "outputs": [
    {
     "data": {
      "text/plain": [
       "7.496325000000001"
      ]
     },
     "execution_count": 18,
     "metadata": {},
     "output_type": "execute_result"
    }
   ],
   "source": [
    "sales_mean = np.mean(carseats[\"Sales\"])\n",
    "sales_mean"
   ]
  },
  {
   "cell_type": "code",
   "execution_count": 19,
   "id": "88541659-b6b6-40e0-ae2a-42fc5327a74e",
   "metadata": {},
   "outputs": [
    {
     "data": {
      "text/plain": [
       "16.27"
      ]
     },
     "execution_count": 19,
     "metadata": {},
     "output_type": "execute_result"
    }
   ],
   "source": [
    "sales_max = np.max(carseats[\"Sales\"])\n",
    "sales_max"
   ]
  },
  {
   "cell_type": "code",
   "execution_count": 20,
   "id": "179acd46-ac27-4c32-8f5b-9667f3d98f75",
   "metadata": {},
   "outputs": [
    {
     "data": {
      "text/plain": [
       "0      Yes\n",
       "1      Yes\n",
       "2      Yes\n",
       "3       No\n",
       "4       No\n",
       "      ... \n",
       "170    Yes\n",
       "171    Yes\n",
       "172    Yes\n",
       "173     No\n",
       "174    NaN\n",
       "Name: SalesCat, Length: 175, dtype: category\n",
       "Categories (2, object): ['No' < 'Yes']"
      ]
     },
     "execution_count": 20,
     "metadata": {},
     "output_type": "execute_result"
    }
   ],
   "source": [
    "#use pd.cut\n",
    "carseats[\"SalesCat\"] = pd.cut(x=carseats[\"Sales\"], bins=[0.0, sales_mean, sales_max], labels=[\"No\", \"Yes\"])\n",
    "carseats[\"SalesCat\"].head(175)"
   ]
  },
  {
   "cell_type": "markdown",
   "id": "1aebb64d-c7ef-4cf6-943e-60079a013ab8",
   "metadata": {},
   "source": [
    "Por alguna extraña razón, en la fila 174, en lugar de transformar 0.0 en \"No\", se obtiene un Nan:"
   ]
  },
  {
   "cell_type": "code",
   "execution_count": 21,
   "id": "721c4cf3-3dc0-444c-9d90-4861ea47f7c8",
   "metadata": {},
   "outputs": [
    {
     "data": {
      "text/plain": [
       "Index([174], dtype='int64')"
      ]
     },
     "execution_count": 21,
     "metadata": {},
     "output_type": "execute_result"
    }
   ],
   "source": [
    "#find nan in SalesCat \n",
    "carseats.loc[pd.isna(carseats[\"SalesCat\"]), :].index  "
   ]
  },
  {
   "cell_type": "markdown",
   "id": "ea443154-5982-4f42-8d98-4697cc5e7003",
   "metadata": {},
   "source": [
    "Como es evidente que 0.0 es menor que la media, asignamos \"No\" de manera manual"
   ]
  },
  {
   "cell_type": "code",
   "execution_count": 22,
   "id": "e4bb410f-0218-46a9-94a6-c5d893ef4e7c",
   "metadata": {},
   "outputs": [
    {
     "data": {
      "text/plain": [
       "'No'"
      ]
     },
     "execution_count": 22,
     "metadata": {},
     "output_type": "execute_result"
    }
   ],
   "source": [
    "#For a reason I cannot get, pd.cut above transforms the value in row 174 from 0.0 into \"NaN\":\n",
    "# ..\n",
    "# 173     No\n",
    "# 174    NaN\n",
    "# As the original value was 0.0 < sales_mean, we assign \"No\" manually\n",
    "carseats[\"SalesCat\"][174] = \"No\"\n",
    "carseats[\"SalesCat\"][174]"
   ]
  },
  {
   "cell_type": "code",
   "execution_count": 23,
   "id": "f561946d-af8b-4feb-8110-021cf46b4e47",
   "metadata": {},
   "outputs": [
    {
     "data": {
      "text/html": [
       "<div>\n",
       "<style scoped>\n",
       "    .dataframe tbody tr th:only-of-type {\n",
       "        vertical-align: middle;\n",
       "    }\n",
       "\n",
       "    .dataframe tbody tr th {\n",
       "        vertical-align: top;\n",
       "    }\n",
       "\n",
       "    .dataframe thead th {\n",
       "        text-align: right;\n",
       "    }\n",
       "</style>\n",
       "<table border=\"1\" class=\"dataframe\">\n",
       "  <thead>\n",
       "    <tr style=\"text-align: right;\">\n",
       "      <th></th>\n",
       "      <th>Sales</th>\n",
       "      <th>CompPrice</th>\n",
       "      <th>Income</th>\n",
       "      <th>Advertising</th>\n",
       "      <th>Population</th>\n",
       "      <th>Price</th>\n",
       "      <th>Age</th>\n",
       "      <th>Education</th>\n",
       "      <th>ShelveLoc_Bad</th>\n",
       "      <th>ShelveLoc_Good</th>\n",
       "      <th>ShelveLoc_Medium</th>\n",
       "      <th>Urban_No</th>\n",
       "      <th>Urban_Yes</th>\n",
       "      <th>US_No</th>\n",
       "      <th>US_Yes</th>\n",
       "      <th>SalesCat</th>\n",
       "    </tr>\n",
       "  </thead>\n",
       "  <tbody>\n",
       "    <tr>\n",
       "      <th>0</th>\n",
       "      <td>9.50</td>\n",
       "      <td>138</td>\n",
       "      <td>73</td>\n",
       "      <td>11</td>\n",
       "      <td>276</td>\n",
       "      <td>120</td>\n",
       "      <td>42</td>\n",
       "      <td>17</td>\n",
       "      <td>1.0</td>\n",
       "      <td>0.0</td>\n",
       "      <td>0.0</td>\n",
       "      <td>0.0</td>\n",
       "      <td>1.0</td>\n",
       "      <td>0.0</td>\n",
       "      <td>1.0</td>\n",
       "      <td>Yes</td>\n",
       "    </tr>\n",
       "    <tr>\n",
       "      <th>1</th>\n",
       "      <td>11.22</td>\n",
       "      <td>111</td>\n",
       "      <td>48</td>\n",
       "      <td>16</td>\n",
       "      <td>260</td>\n",
       "      <td>83</td>\n",
       "      <td>65</td>\n",
       "      <td>10</td>\n",
       "      <td>0.0</td>\n",
       "      <td>1.0</td>\n",
       "      <td>0.0</td>\n",
       "      <td>0.0</td>\n",
       "      <td>1.0</td>\n",
       "      <td>0.0</td>\n",
       "      <td>1.0</td>\n",
       "      <td>Yes</td>\n",
       "    </tr>\n",
       "    <tr>\n",
       "      <th>2</th>\n",
       "      <td>10.06</td>\n",
       "      <td>113</td>\n",
       "      <td>35</td>\n",
       "      <td>10</td>\n",
       "      <td>269</td>\n",
       "      <td>80</td>\n",
       "      <td>59</td>\n",
       "      <td>12</td>\n",
       "      <td>0.0</td>\n",
       "      <td>0.0</td>\n",
       "      <td>1.0</td>\n",
       "      <td>0.0</td>\n",
       "      <td>1.0</td>\n",
       "      <td>0.0</td>\n",
       "      <td>1.0</td>\n",
       "      <td>Yes</td>\n",
       "    </tr>\n",
       "    <tr>\n",
       "      <th>3</th>\n",
       "      <td>7.40</td>\n",
       "      <td>117</td>\n",
       "      <td>100</td>\n",
       "      <td>4</td>\n",
       "      <td>466</td>\n",
       "      <td>97</td>\n",
       "      <td>55</td>\n",
       "      <td>14</td>\n",
       "      <td>0.0</td>\n",
       "      <td>0.0</td>\n",
       "      <td>1.0</td>\n",
       "      <td>0.0</td>\n",
       "      <td>1.0</td>\n",
       "      <td>0.0</td>\n",
       "      <td>1.0</td>\n",
       "      <td>No</td>\n",
       "    </tr>\n",
       "    <tr>\n",
       "      <th>4</th>\n",
       "      <td>4.15</td>\n",
       "      <td>141</td>\n",
       "      <td>64</td>\n",
       "      <td>3</td>\n",
       "      <td>340</td>\n",
       "      <td>128</td>\n",
       "      <td>38</td>\n",
       "      <td>13</td>\n",
       "      <td>1.0</td>\n",
       "      <td>0.0</td>\n",
       "      <td>0.0</td>\n",
       "      <td>0.0</td>\n",
       "      <td>1.0</td>\n",
       "      <td>1.0</td>\n",
       "      <td>0.0</td>\n",
       "      <td>No</td>\n",
       "    </tr>\n",
       "    <tr>\n",
       "      <th>...</th>\n",
       "      <td>...</td>\n",
       "      <td>...</td>\n",
       "      <td>...</td>\n",
       "      <td>...</td>\n",
       "      <td>...</td>\n",
       "      <td>...</td>\n",
       "      <td>...</td>\n",
       "      <td>...</td>\n",
       "      <td>...</td>\n",
       "      <td>...</td>\n",
       "      <td>...</td>\n",
       "      <td>...</td>\n",
       "      <td>...</td>\n",
       "      <td>...</td>\n",
       "      <td>...</td>\n",
       "      <td>...</td>\n",
       "    </tr>\n",
       "    <tr>\n",
       "      <th>170</th>\n",
       "      <td>8.01</td>\n",
       "      <td>128</td>\n",
       "      <td>39</td>\n",
       "      <td>12</td>\n",
       "      <td>356</td>\n",
       "      <td>118</td>\n",
       "      <td>71</td>\n",
       "      <td>10</td>\n",
       "      <td>0.0</td>\n",
       "      <td>0.0</td>\n",
       "      <td>1.0</td>\n",
       "      <td>0.0</td>\n",
       "      <td>1.0</td>\n",
       "      <td>0.0</td>\n",
       "      <td>1.0</td>\n",
       "      <td>Yes</td>\n",
       "    </tr>\n",
       "    <tr>\n",
       "      <th>171</th>\n",
       "      <td>12.49</td>\n",
       "      <td>93</td>\n",
       "      <td>106</td>\n",
       "      <td>12</td>\n",
       "      <td>416</td>\n",
       "      <td>55</td>\n",
       "      <td>75</td>\n",
       "      <td>15</td>\n",
       "      <td>0.0</td>\n",
       "      <td>0.0</td>\n",
       "      <td>1.0</td>\n",
       "      <td>0.0</td>\n",
       "      <td>1.0</td>\n",
       "      <td>0.0</td>\n",
       "      <td>1.0</td>\n",
       "      <td>Yes</td>\n",
       "    </tr>\n",
       "    <tr>\n",
       "      <th>172</th>\n",
       "      <td>9.03</td>\n",
       "      <td>104</td>\n",
       "      <td>102</td>\n",
       "      <td>13</td>\n",
       "      <td>123</td>\n",
       "      <td>110</td>\n",
       "      <td>35</td>\n",
       "      <td>16</td>\n",
       "      <td>0.0</td>\n",
       "      <td>1.0</td>\n",
       "      <td>0.0</td>\n",
       "      <td>0.0</td>\n",
       "      <td>1.0</td>\n",
       "      <td>0.0</td>\n",
       "      <td>1.0</td>\n",
       "      <td>Yes</td>\n",
       "    </tr>\n",
       "    <tr>\n",
       "      <th>173</th>\n",
       "      <td>6.38</td>\n",
       "      <td>135</td>\n",
       "      <td>91</td>\n",
       "      <td>5</td>\n",
       "      <td>207</td>\n",
       "      <td>128</td>\n",
       "      <td>66</td>\n",
       "      <td>18</td>\n",
       "      <td>0.0</td>\n",
       "      <td>0.0</td>\n",
       "      <td>1.0</td>\n",
       "      <td>0.0</td>\n",
       "      <td>1.0</td>\n",
       "      <td>0.0</td>\n",
       "      <td>1.0</td>\n",
       "      <td>No</td>\n",
       "    </tr>\n",
       "    <tr>\n",
       "      <th>174</th>\n",
       "      <td>0.00</td>\n",
       "      <td>139</td>\n",
       "      <td>24</td>\n",
       "      <td>0</td>\n",
       "      <td>358</td>\n",
       "      <td>185</td>\n",
       "      <td>79</td>\n",
       "      <td>15</td>\n",
       "      <td>0.0</td>\n",
       "      <td>0.0</td>\n",
       "      <td>1.0</td>\n",
       "      <td>1.0</td>\n",
       "      <td>0.0</td>\n",
       "      <td>1.0</td>\n",
       "      <td>0.0</td>\n",
       "      <td>No</td>\n",
       "    </tr>\n",
       "  </tbody>\n",
       "</table>\n",
       "<p>175 rows × 16 columns</p>\n",
       "</div>"
      ],
      "text/plain": [
       "     Sales  CompPrice  Income  Advertising  Population  Price  Age  Education  \\\n",
       "0     9.50        138      73           11         276    120   42         17   \n",
       "1    11.22        111      48           16         260     83   65         10   \n",
       "2    10.06        113      35           10         269     80   59         12   \n",
       "3     7.40        117     100            4         466     97   55         14   \n",
       "4     4.15        141      64            3         340    128   38         13   \n",
       "..     ...        ...     ...          ...         ...    ...  ...        ...   \n",
       "170   8.01        128      39           12         356    118   71         10   \n",
       "171  12.49         93     106           12         416     55   75         15   \n",
       "172   9.03        104     102           13         123    110   35         16   \n",
       "173   6.38        135      91            5         207    128   66         18   \n",
       "174   0.00        139      24            0         358    185   79         15   \n",
       "\n",
       "     ShelveLoc_Bad  ShelveLoc_Good  ShelveLoc_Medium  Urban_No  Urban_Yes  \\\n",
       "0              1.0             0.0               0.0       0.0        1.0   \n",
       "1              0.0             1.0               0.0       0.0        1.0   \n",
       "2              0.0             0.0               1.0       0.0        1.0   \n",
       "3              0.0             0.0               1.0       0.0        1.0   \n",
       "4              1.0             0.0               0.0       0.0        1.0   \n",
       "..             ...             ...               ...       ...        ...   \n",
       "170            0.0             0.0               1.0       0.0        1.0   \n",
       "171            0.0             0.0               1.0       0.0        1.0   \n",
       "172            0.0             1.0               0.0       0.0        1.0   \n",
       "173            0.0             0.0               1.0       0.0        1.0   \n",
       "174            0.0             0.0               1.0       1.0        0.0   \n",
       "\n",
       "     US_No  US_Yes SalesCat  \n",
       "0      0.0     1.0      Yes  \n",
       "1      0.0     1.0      Yes  \n",
       "2      0.0     1.0      Yes  \n",
       "3      0.0     1.0       No  \n",
       "4      1.0     0.0       No  \n",
       "..     ...     ...      ...  \n",
       "170    0.0     1.0      Yes  \n",
       "171    0.0     1.0      Yes  \n",
       "172    0.0     1.0      Yes  \n",
       "173    0.0     1.0       No  \n",
       "174    1.0     0.0       No  \n",
       "\n",
       "[175 rows x 16 columns]"
      ]
     },
     "execution_count": 23,
     "metadata": {},
     "output_type": "execute_result"
    }
   ],
   "source": [
    "carseats.head(175)"
   ]
  },
  {
   "cell_type": "markdown",
   "id": "b95f873d-ff71-48ac-87cd-d98346d5c933",
   "metadata": {},
   "source": [
    "(Todo ok ahora)"
   ]
  },
  {
   "cell_type": "code",
   "execution_count": 24,
   "id": "51c48efc-db8f-4b60-b083-bf56ee32b525",
   "metadata": {},
   "outputs": [],
   "source": [
    "# features and target\n",
    "y = carseats[\"SalesCat\"]\n",
    "X = carseats.drop(\"Sales\",axis=1).drop(\"SalesCat\",axis=1)\n"
   ]
  },
  {
   "cell_type": "code",
   "execution_count": 25,
   "id": "96d119c9-07e1-4499-894b-e774f9ffb564",
   "metadata": {},
   "outputs": [],
   "source": [
    "#to check if there are nan\n",
    "#y.isnull().any().any()"
   ]
  },
  {
   "cell_type": "markdown",
   "id": "c942b59c-9b6c-4384-8943-baf5c838c256",
   "metadata": {},
   "source": [
    "Ahora ya podemos separar los datos en dos conjuntos diferentes (entrenamiento y test)"
   ]
  },
  {
   "cell_type": "code",
   "execution_count": 26,
   "id": "c0290cd1-9d7b-4a13-a15d-e1722f4e22eb",
   "metadata": {},
   "outputs": [
    {
     "name": "stdout",
     "output_type": "stream",
     "text": [
      "x_train.shape: (300, 14), x_test.shape: (100, 14), y_train.shape: (300,), y_test.shape: (100,)\n"
     ]
    }
   ],
   "source": [
    "x_train, x_test, y_train, y_test = train_test_split(X, y, test_size=0.25, random_state=10, shuffle=True, stratify=y)\n",
    "print(f\"x_train.shape: {x_train.shape}, x_test.shape: {x_test.shape}, y_train.shape: {y_train.shape}, y_test.shape: {y_test.shape}\") "
   ]
  },
  {
   "cell_type": "markdown",
   "id": "47c4aef9-12a0-45fc-8dcf-99a3b046977e",
   "metadata": {},
   "source": [
    "## Aplicación de técnicas \"ensemble\""
   ]
  },
  {
   "cell_type": "code",
   "execution_count": 27,
   "id": "ebeacb84-b56e-462a-9ec4-4ea3fe5fbb89",
   "metadata": {},
   "outputs": [],
   "source": [
    "# aux. function not really needed now\n",
    "def classifier_testing(clf, X_train, X_test, y_train, y_test):\n",
    "    # Training\n",
    "    clf.fit(X_train, y_train)\n",
    "  \n",
    "    #Predictions\n",
    "    y_pred = clf.predict(X_test)\n",
    "\n",
    "    #Accuracy\n",
    "    clf_accuracy_score = accuracy_score(y_test, y_pred)\n",
    "    print(\"Accuracy Score:\\n\", clf_accuracy_score, \"\\n\")\n",
    "\n",
    "    #Classification Report\n",
    "    class_rep = classification_report(y_test, y_pred)\n",
    "    print(\"Classification Report:\\n\", class_rep, \"\\n\")\n",
    "\n",
    "    #Confusion Matrix\n",
    "    conf_mtx = confusion_matrix(y_test, y_pred)\n",
    "    print(\"Confusion Matrix:\\n\", conf_mtx, \"\\n\")"
   ]
  },
  {
   "cell_type": "markdown",
   "id": "c1089a39-b10e-4b0a-8ecd-01e67168175f",
   "metadata": {},
   "source": [
    "### Bagging\n",
    "\n",
    "https://scikit-learn.org/stable/modules/generated/sklearn.ensemble.BaggingClassifier.html#sklearn.ensemble.BaggingClassifier"
   ]
  },
  {
   "cell_type": "code",
   "execution_count": 28,
   "id": "4d2f9014-bdf4-4d84-a9a5-199a49e07149",
   "metadata": {},
   "outputs": [],
   "source": [
    "from sklearn.ensemble import BaggingClassifier"
   ]
  },
  {
   "cell_type": "code",
   "execution_count": 29,
   "id": "fd5a39cb-9b08-4749-b985-6cb0729a8732",
   "metadata": {},
   "outputs": [],
   "source": [
    "weak_learner = DecisionTreeClassifier(criterion='entropy', max_leaf_nodes=25)\n",
    "\n",
    "bagging = BaggingClassifier(weak_learner,                      # If None, then the base estimator is a DecisionTreeClassifier. (but anyway, we explicitly show it)\n",
    "                            n_estimators = 200,                # The number of base estimators in the ensemble. default= 10 .. increase to 20, 50 .. it improves result :)\n",
    "                            max_samples = 0.5,                 # If float, then draw max_samples * X.shape[0] samples.\n",
    "                            max_features = 0.5,                # The number of features to draw from X to train each base estimator\n",
    "                            random_state = 123\n",
    "                            )               "
   ]
  },
  {
   "cell_type": "code",
   "execution_count": 30,
   "id": "68bdd55b-62cb-40e9-8ae4-080245febb50",
   "metadata": {},
   "outputs": [
    {
     "data": {
      "text/plain": [
       "200"
      ]
     },
     "execution_count": 30,
     "metadata": {},
     "output_type": "execute_result"
    }
   ],
   "source": [
    "bagging.fit(x_train, y_train)\n",
    "len(bagging.estimators_)"
   ]
  },
  {
   "cell_type": "code",
   "execution_count": 31,
   "id": "5a38467a-39ed-40e2-a4bf-2fb95a8eeaaa",
   "metadata": {},
   "outputs": [],
   "source": [
    "#prediction\n",
    "y_pred = bagging.predict(x_test)"
   ]
  },
  {
   "cell_type": "code",
   "execution_count": 32,
   "id": "6595f12d-ac41-4c23-8659-f3c14791b6e1",
   "metadata": {},
   "outputs": [
    {
     "name": "stdout",
     "output_type": "stream",
     "text": [
      "Confusion Matrix:\n",
      " [[42  8]\n",
      " [18 32]] \n",
      "\n"
     ]
    }
   ],
   "source": [
    "#Confusion Matrix\n",
    "conf_mtx = confusion_matrix(y_test, y_pred)\n",
    "print(\"Confusion Matrix:\\n\", conf_mtx, \"\\n\")"
   ]
  },
  {
   "cell_type": "code",
   "execution_count": 33,
   "id": "588f4420-2ce8-417d-9ded-4e28ab5b6396",
   "metadata": {},
   "outputs": [
    {
     "name": "stdout",
     "output_type": "stream",
     "text": [
      "Accuracy Score:\n",
      " 0.74 \n",
      "\n"
     ]
    }
   ],
   "source": [
    "#Accuracy\n",
    "clf_accuracy_score = accuracy_score(y_test, y_pred)\n",
    "print(\"Accuracy Score:\\n\", clf_accuracy_score, \"\\n\")\n"
   ]
  },
  {
   "cell_type": "markdown",
   "id": "26eb5787-3010-4146-b5c9-0e330dccc7ea",
   "metadata": {},
   "source": [
    "Mejor resultado:  max_leaf_nodes=25, n_estimators = 200, max_samples = 0.5, max_features = 0.5\n",
    "\n",
    "Accuracy Score: </br>\n",
    " 0.78  (algunas veces 0.76, otras 0.77 .. otras 0.72 ... antes de añadir random_state = 123)\n",
    "\n",
    "Confusion Matrix: </br>\n",
    " [[45   5] </br>\n",
    " [17 33]] "
   ]
  },
  {
   "cell_type": "markdown",
   "id": "d0a2143d-de2c-4afc-84da-871d17219cfb",
   "metadata": {},
   "source": [
    "</br>\n",
    "\n",
    "**Resultado previo sin bagging:**\n",
    "\n",
    "Accuracy Score:\n",
    " 0.72 \n",
    "\n",
    "Classification Report:\n",
    "               precision    recall  f1-score   support\n",
    "\n",
    "          No       0.70      0.76      0.73        50\n",
    "         Yes       0.74      0.68      0.71        50\n",
    "\n",
    "    accuracy                           0.72       100\n",
    "   macro avg       0.72      0.72      0.72       100\n",
    "weighted avg       0.72      0.72      0.72       100\n",
    " \n",
    "\n",
    "Confusion Matrix:</br>\n",
    " [[38 12]</br>\n",
    " [16 34]] \n",
    "\n",
    "El resultado es muy parecido al obtenido en R (con pequeñas diferencias según el valor de max_leaf_nodes), pero ligeramente inferior.\n",
    "\n",
    "En R:\n",
    "        Reference\n",
    "  Prediction No Yes\n",
    "      No   41 16\n",
    "      Yes   9 33\n",
    "\n",
    "    Accuracy : 0.7475\n",
    "\n",
    "En R, con bagging, se obtuvo 0.78 también."
   ]
  },
  {
   "cell_type": "markdown",
   "id": "6d2968b4-5e76-49cf-9712-80a2906c94ef",
   "metadata": {},
   "source": [
    "### Boosting"
   ]
  },
  {
   "cell_type": "markdown",
   "id": "79b844d4-13fa-44e3-a434-7bb9aae65eb7",
   "metadata": {},
   "source": [
    "**Adaboost**, como en R:\n",
    "\n",
    "https://scikit-learn.org/stable/auto_examples/ensemble/plot_adaboost_multiclass.html#sphx-glr-auto-examples-ensemble-plot-adaboost-multiclass-py  <br>"
   ]
  },
  {
   "cell_type": "code",
   "execution_count": 34,
   "id": "81d39b8e-d9e6-40fd-b3ba-858491abbf63",
   "metadata": {},
   "outputs": [],
   "source": [
    "from sklearn.ensemble import AdaBoostClassifier"
   ]
  },
  {
   "cell_type": "code",
   "execution_count": 35,
   "id": "b971572f-a7ac-4839-9b5f-30f8b172ed7d",
   "metadata": {},
   "outputs": [],
   "source": [
    "weak_learner = DecisionTreeClassifier(criterion='entropy', max_leaf_nodes=25)\n",
    "n_estimators = 200"
   ]
  },
  {
   "cell_type": "code",
   "execution_count": 36,
   "id": "8f76db52-d931-49a6-a0dd-c9cfd0221b63",
   "metadata": {},
   "outputs": [],
   "source": [
    "adaboost_clf = AdaBoostClassifier(\n",
    "    estimator = weak_learner,\n",
    "    n_estimators = n_estimators,\n",
    "    random_state = 123,\n",
    ")"
   ]
  },
  {
   "cell_type": "code",
   "execution_count": 37,
   "id": "c168c14a-d709-4a6f-9ea8-e0026bfde7a2",
   "metadata": {},
   "outputs": [
    {
     "data": {
      "text/plain": [
       "200"
      ]
     },
     "execution_count": 37,
     "metadata": {},
     "output_type": "execute_result"
    }
   ],
   "source": [
    "adaboost_clf.fit(x_train, y_train)\n",
    "len(adaboost_clf.estimators_)"
   ]
  },
  {
   "cell_type": "code",
   "execution_count": 38,
   "id": "55f2d53e-bcc8-482f-b76a-ab675224e77c",
   "metadata": {},
   "outputs": [],
   "source": [
    "#prediction\n",
    "y_pred = adaboost_clf.predict(x_test)"
   ]
  },
  {
   "cell_type": "code",
   "execution_count": 39,
   "id": "c2debd65-b18b-4ce5-929e-2031469d377d",
   "metadata": {},
   "outputs": [
    {
     "name": "stdout",
     "output_type": "stream",
     "text": [
      "Confusion Matrix:\n",
      " [[43  7]\n",
      " [11 39]] \n",
      "\n"
     ]
    }
   ],
   "source": [
    "#Confusion Matrix\n",
    "conf_mtx = confusion_matrix(y_test, y_pred)\n",
    "print(\"Confusion Matrix:\\n\", conf_mtx, \"\\n\")"
   ]
  },
  {
   "cell_type": "code",
   "execution_count": 40,
   "id": "1c4715cd-b1ee-4b42-8c31-cb067432f08b",
   "metadata": {},
   "outputs": [
    {
     "name": "stdout",
     "output_type": "stream",
     "text": [
      "Accuracy Score:\n",
      " 0.82 \n",
      "\n"
     ]
    }
   ],
   "source": [
    "#Accuracy\n",
    "clf_accuracy_score = accuracy_score(y_test, y_pred)\n",
    "print(\"Accuracy Score:\\n\", clf_accuracy_score, \"\\n\")"
   ]
  },
  {
   "cell_type": "markdown",
   "id": "a52cfbe4-e4d6-43a4-9f79-95bf09e99d35",
   "metadata": {},
   "source": [
    "Con boosting el resultado es ligeramente mejor que en R (eligiendo max_leaf_nodes=8, y también con 25)\n",
    "\n",
    "En R:<br>\n",
    "&emsp; &emsp; &emsp; &emsp; Reference<br>\n",
    "&emsp; Prediction  No Yes<br>\n",
    "&emsp; &emsp; &emsp; No &emsp; 43  15<br>\n",
    "&emsp; &emsp; &emsp; Yes &emsp;7  34<br>\n",
    "                                        \n",
    "&emsp; &emsp; Accuracy : 0.7778<br>"
   ]
  },
  {
   "cell_type": "markdown",
   "id": "08d71b9e-8b52-4163-8f84-a59b2a9ed6d3",
   "metadata": {},
   "source": [
    "### Random Forest\n",
    "\n",
    "https://scikit-learn.org/stable/modules/generated/sklearn.ensemble.RandomForestClassifier.html#sklearn.ensemble.RandomForestClassifier"
   ]
  },
  {
   "cell_type": "code",
   "execution_count": 41,
   "id": "169eab47-6596-48ad-8b48-0bbf44597603",
   "metadata": {},
   "outputs": [],
   "source": [
    "from sklearn.ensemble import RandomForestClassifier"
   ]
  },
  {
   "cell_type": "code",
   "execution_count": 42,
   "id": "71b53362-ed15-4aaf-9b29-c822a2972e84",
   "metadata": {},
   "outputs": [
    {
     "data": {
      "text/plain": [
       "200"
      ]
     },
     "execution_count": 42,
     "metadata": {},
     "output_type": "execute_result"
    }
   ],
   "source": [
    "rf = RandomForestClassifier(n_estimators = 200,   # The number of trees in the forest. default 100\n",
    "                            #max_depth=50,         # The maximum depth of the tree. If None, then nodes are expanded until all leaves are pure or until all leaves contain less than min_samples_split samples.\n",
    "                            random_state = 123)\n",
    "\n",
    "rf.fit(x_train, y_train)\n",
    "len(rf.estimators_)"
   ]
  },
  {
   "cell_type": "code",
   "execution_count": 43,
   "id": "94673531-571d-4690-a6a9-231a5cc12902",
   "metadata": {},
   "outputs": [],
   "source": [
    "#prediction\n",
    "y_pred = rf.predict(x_test)"
   ]
  },
  {
   "cell_type": "code",
   "execution_count": 44,
   "id": "f5b82a2b-eef3-4c83-b3c9-893942b8dfc6",
   "metadata": {},
   "outputs": [
    {
     "name": "stdout",
     "output_type": "stream",
     "text": [
      "Confusion Matrix:\n",
      " [[42  8]\n",
      " [18 32]] \n",
      "\n"
     ]
    }
   ],
   "source": [
    "#Confusion Matrix\n",
    "conf_mtx = confusion_matrix(y_test, y_pred)\n",
    "print(\"Confusion Matrix:\\n\", conf_mtx, \"\\n\")"
   ]
  },
  {
   "cell_type": "code",
   "execution_count": 45,
   "id": "a1d9bc79-610b-4069-86ab-2a13d9a2d574",
   "metadata": {},
   "outputs": [
    {
     "name": "stdout",
     "output_type": "stream",
     "text": [
      "Accuracy Score:\n",
      " 0.74 \n",
      "\n"
     ]
    }
   ],
   "source": [
    "#Accuracy\n",
    "clf_accuracy_score = accuracy_score(y_test, y_pred)\n",
    "print(\"Accuracy Score:\\n\", clf_accuracy_score, \"\\n\")"
   ]
  },
  {
   "cell_type": "markdown",
   "id": "5f138c36-04aa-452d-ac50-d71604f57ae1",
   "metadata": {},
   "source": [
    "TBD:\n",
    "\n",
    "usar GridSearchCV\n"
   ]
  }
 ],
 "metadata": {
  "kernelspec": {
   "display_name": "Python 3 (ipykernel)",
   "language": "python",
   "name": "python3"
  },
  "language_info": {
   "codemirror_mode": {
    "name": "ipython",
    "version": 3
   },
   "file_extension": ".py",
   "mimetype": "text/x-python",
   "name": "python",
   "nbconvert_exporter": "python",
   "pygments_lexer": "ipython3",
   "version": "3.11.8"
  }
 },
 "nbformat": 4,
 "nbformat_minor": 5
}
