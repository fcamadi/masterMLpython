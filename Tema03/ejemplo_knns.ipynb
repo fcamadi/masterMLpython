{
 "cells": [
  {
   "cell_type": "markdown",
   "id": "dda3bca4-3ce4-4a50-93f5-8d4d17d706ba",
   "metadata": {},
   "source": [
    "# Tema3 - Ejercicio\n",
    "\n",
    "La base de datos Diabetes in Pima Indian Women, incluida en la librería MASS, contiene una muestra de 532 pacientes en edad adulta utilizada para realizar un estudio sobre la diabetes.\n",
    "\n",
    "[Exportados los registros desde RStudio. Fichero pima.csv]\n"
   ]
  },
  {
   "cell_type": "markdown",
   "id": "96e6edcb-b8af-4622-b416-1fc078af7ea9",
   "metadata": {},
   "source": [
    "# Paso 2: Eexplorar y preparar los datos\n",
    "\n",
    "\n",
    "Examinar su contenido (estructura y algunos registros) de los datasets Pima.tr y Pima.te:"
   ]
  },
  {
   "cell_type": "code",
   "execution_count": null,
   "id": "a927c295-56a3-4228-ab05-993f0559388c",
   "metadata": {},
   "outputs": [],
   "source": []
  }
 ],
 "metadata": {
  "kernelspec": {
   "display_name": "Python 3 (ipykernel)",
   "language": "python",
   "name": "python3"
  },
  "language_info": {
   "codemirror_mode": {
    "name": "ipython",
    "version": 3
   },
   "file_extension": ".py",
   "mimetype": "text/x-python",
   "name": "python",
   "nbconvert_exporter": "python",
   "pygments_lexer": "ipython3",
   "version": "3.12.8"
  }
 },
 "nbformat": 4,
 "nbformat_minor": 5
}
