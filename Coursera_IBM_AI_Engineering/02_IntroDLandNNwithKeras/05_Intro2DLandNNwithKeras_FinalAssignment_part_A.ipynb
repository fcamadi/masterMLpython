{
 "cells": [
  {
   "cell_type": "markdown",
   "id": "f305d594-f12a-48d3-9050-0e4a5c5851d5",
   "metadata": {},
   "source": [
    "# Part A - Baseline model \n",
    "\n",
    "Build a baseline model (5 marks) \n",
    "\n",
    "Use the Keras library to build a neural network with the following:\n",
    "\n",
    "- One hidden layer of 10 nodes, and a ReLU activation function\n",
    "\n",
    "- Use the adam optimizer and the mean squared error  as the loss function.\n",
    "\n",
    "1. Randomly split the data into a training and test sets by holding 30% of the data for testing. You can use the train_test_split helper function from Scikit-learn.\n",
    "\n",
    "2. Train the model on the training data using 50 epochs.\n",
    "\n",
    "3. Evaluate the model on the test data and compute the mean squared error between the predicted concrete strength and the actual concrete strength. You can use the mean_squared_error function from Scikit-learn.\n",
    "\n",
    "4. Repeat steps 1 - 3, 50 times, i.e., create a list of 50 mean squared errors.\n",
    "\n",
    "5. Report the mean and the standard deviation of the mean squared errors.\n",
    "\n",
    "Submit your Jupyter Notebook with your code and comments."
   ]
  },
  {
   "cell_type": "code",
   "execution_count": 1,
   "id": "4f367f20-facf-44b0-8fef-59f21214c059",
   "metadata": {},
   "outputs": [
    {
     "name": "stderr",
     "output_type": "stream",
     "text": [
      "2025-01-21 18:37:51.695796: E external/local_xla/xla/stream_executor/cuda/cuda_fft.cc:477] Unable to register cuFFT factory: Attempting to register factory for plugin cuFFT when one has already been registered\n",
      "WARNING: All log messages before absl::InitializeLog() is called are written to STDERR\n",
      "E0000 00:00:1737481071.719729  680176 cuda_dnn.cc:8310] Unable to register cuDNN factory: Attempting to register factory for plugin cuDNN when one has already been registered\n",
      "E0000 00:00:1737481071.726849  680176 cuda_blas.cc:1418] Unable to register cuBLAS factory: Attempting to register factory for plugin cuBLAS when one has already been registered\n",
      "2025-01-21 18:37:51.750439: I tensorflow/core/platform/cpu_feature_guard.cc:210] This TensorFlow binary is optimized to use available CPU instructions in performance-critical operations.\n",
      "To enable the following instructions: AVX2 FMA, in other operations, rebuild TensorFlow with the appropriate compiler flags.\n"
     ]
    }
   ],
   "source": [
    "#import libraries\n",
    "import pandas as pd\n",
    "import numpy as np\n",
    "import keras\n",
    "\n",
    "from keras.models import Sequential\n",
    "from keras.layers import Dense, Input\n",
    "\n",
    "from sklearn.model_selection import train_test_split\n",
    "\n",
    "import warnings\n",
    "warnings.simplefilter('ignore', FutureWarning)"
   ]
  },
  {
   "cell_type": "markdown",
   "id": "bd6cadcd-5ce8-4e49-86b6-a1a196f73206",
   "metadata": {},
   "source": [
    "### Import and check data"
   ]
  },
  {
   "cell_type": "code",
   "execution_count": 2,
   "id": "b3afb1e3-b33d-4ecc-856a-790fd3b9f06b",
   "metadata": {},
   "outputs": [
    {
     "data": {
      "text/plain": [
       "(1030, 9)"
      ]
     },
     "execution_count": 2,
     "metadata": {},
     "output_type": "execute_result"
    }
   ],
   "source": [
    "# download the data and read it into a pandas dataframe.\n",
    "concrete_data = pd.read_csv(\"concrete_data.csv\")\n",
    "\n",
    "concrete_data.shape"
   ]
  },
  {
   "cell_type": "code",
   "execution_count": 3,
   "id": "04ee37ff-d7fd-42d1-a252-20cb93962f42",
   "metadata": {},
   "outputs": [
    {
     "data": {
      "text/html": [
       "<div>\n",
       "<style scoped>\n",
       "    .dataframe tbody tr th:only-of-type {\n",
       "        vertical-align: middle;\n",
       "    }\n",
       "\n",
       "    .dataframe tbody tr th {\n",
       "        vertical-align: top;\n",
       "    }\n",
       "\n",
       "    .dataframe thead th {\n",
       "        text-align: right;\n",
       "    }\n",
       "</style>\n",
       "<table border=\"1\" class=\"dataframe\">\n",
       "  <thead>\n",
       "    <tr style=\"text-align: right;\">\n",
       "      <th></th>\n",
       "      <th>Cement</th>\n",
       "      <th>Blast Furnace Slag</th>\n",
       "      <th>Fly Ash</th>\n",
       "      <th>Water</th>\n",
       "      <th>Superplasticizer</th>\n",
       "      <th>Coarse Aggregate</th>\n",
       "      <th>Fine Aggregate</th>\n",
       "      <th>Age</th>\n",
       "      <th>Strength</th>\n",
       "    </tr>\n",
       "  </thead>\n",
       "  <tbody>\n",
       "    <tr>\n",
       "      <th>0</th>\n",
       "      <td>540.0</td>\n",
       "      <td>0.0</td>\n",
       "      <td>0.0</td>\n",
       "      <td>162.0</td>\n",
       "      <td>2.5</td>\n",
       "      <td>1040.0</td>\n",
       "      <td>676.0</td>\n",
       "      <td>28</td>\n",
       "      <td>79.99</td>\n",
       "    </tr>\n",
       "    <tr>\n",
       "      <th>1</th>\n",
       "      <td>540.0</td>\n",
       "      <td>0.0</td>\n",
       "      <td>0.0</td>\n",
       "      <td>162.0</td>\n",
       "      <td>2.5</td>\n",
       "      <td>1055.0</td>\n",
       "      <td>676.0</td>\n",
       "      <td>28</td>\n",
       "      <td>61.89</td>\n",
       "    </tr>\n",
       "    <tr>\n",
       "      <th>2</th>\n",
       "      <td>332.5</td>\n",
       "      <td>142.5</td>\n",
       "      <td>0.0</td>\n",
       "      <td>228.0</td>\n",
       "      <td>0.0</td>\n",
       "      <td>932.0</td>\n",
       "      <td>594.0</td>\n",
       "      <td>270</td>\n",
       "      <td>40.27</td>\n",
       "    </tr>\n",
       "    <tr>\n",
       "      <th>3</th>\n",
       "      <td>332.5</td>\n",
       "      <td>142.5</td>\n",
       "      <td>0.0</td>\n",
       "      <td>228.0</td>\n",
       "      <td>0.0</td>\n",
       "      <td>932.0</td>\n",
       "      <td>594.0</td>\n",
       "      <td>365</td>\n",
       "      <td>41.05</td>\n",
       "    </tr>\n",
       "    <tr>\n",
       "      <th>4</th>\n",
       "      <td>198.6</td>\n",
       "      <td>132.4</td>\n",
       "      <td>0.0</td>\n",
       "      <td>192.0</td>\n",
       "      <td>0.0</td>\n",
       "      <td>978.4</td>\n",
       "      <td>825.5</td>\n",
       "      <td>360</td>\n",
       "      <td>44.30</td>\n",
       "    </tr>\n",
       "  </tbody>\n",
       "</table>\n",
       "</div>"
      ],
      "text/plain": [
       "   Cement  Blast Furnace Slag  Fly Ash  Water  Superplasticizer  \\\n",
       "0   540.0                 0.0      0.0  162.0               2.5   \n",
       "1   540.0                 0.0      0.0  162.0               2.5   \n",
       "2   332.5               142.5      0.0  228.0               0.0   \n",
       "3   332.5               142.5      0.0  228.0               0.0   \n",
       "4   198.6               132.4      0.0  192.0               0.0   \n",
       "\n",
       "   Coarse Aggregate  Fine Aggregate  Age  Strength  \n",
       "0            1040.0           676.0   28     79.99  \n",
       "1            1055.0           676.0   28     61.89  \n",
       "2             932.0           594.0  270     40.27  \n",
       "3             932.0           594.0  365     41.05  \n",
       "4             978.4           825.5  360     44.30  "
      ]
     },
     "execution_count": 3,
     "metadata": {},
     "output_type": "execute_result"
    }
   ],
   "source": [
    "concrete_data.head()"
   ]
  },
  {
   "cell_type": "code",
   "execution_count": 4,
   "id": "44ebec61-0f8e-48bc-b02a-e5286a217ff8",
   "metadata": {},
   "outputs": [
    {
     "data": {
      "text/html": [
       "<div>\n",
       "<style scoped>\n",
       "    .dataframe tbody tr th:only-of-type {\n",
       "        vertical-align: middle;\n",
       "    }\n",
       "\n",
       "    .dataframe tbody tr th {\n",
       "        vertical-align: top;\n",
       "    }\n",
       "\n",
       "    .dataframe thead th {\n",
       "        text-align: right;\n",
       "    }\n",
       "</style>\n",
       "<table border=\"1\" class=\"dataframe\">\n",
       "  <thead>\n",
       "    <tr style=\"text-align: right;\">\n",
       "      <th></th>\n",
       "      <th>Cement</th>\n",
       "      <th>Blast Furnace Slag</th>\n",
       "      <th>Fly Ash</th>\n",
       "      <th>Water</th>\n",
       "      <th>Superplasticizer</th>\n",
       "      <th>Coarse Aggregate</th>\n",
       "      <th>Fine Aggregate</th>\n",
       "      <th>Age</th>\n",
       "      <th>Strength</th>\n",
       "    </tr>\n",
       "  </thead>\n",
       "  <tbody>\n",
       "    <tr>\n",
       "      <th>1025</th>\n",
       "      <td>276.4</td>\n",
       "      <td>116.0</td>\n",
       "      <td>90.3</td>\n",
       "      <td>179.6</td>\n",
       "      <td>8.9</td>\n",
       "      <td>870.1</td>\n",
       "      <td>768.3</td>\n",
       "      <td>28</td>\n",
       "      <td>44.28</td>\n",
       "    </tr>\n",
       "    <tr>\n",
       "      <th>1026</th>\n",
       "      <td>322.2</td>\n",
       "      <td>0.0</td>\n",
       "      <td>115.6</td>\n",
       "      <td>196.0</td>\n",
       "      <td>10.4</td>\n",
       "      <td>817.9</td>\n",
       "      <td>813.4</td>\n",
       "      <td>28</td>\n",
       "      <td>31.18</td>\n",
       "    </tr>\n",
       "    <tr>\n",
       "      <th>1027</th>\n",
       "      <td>148.5</td>\n",
       "      <td>139.4</td>\n",
       "      <td>108.6</td>\n",
       "      <td>192.7</td>\n",
       "      <td>6.1</td>\n",
       "      <td>892.4</td>\n",
       "      <td>780.0</td>\n",
       "      <td>28</td>\n",
       "      <td>23.70</td>\n",
       "    </tr>\n",
       "    <tr>\n",
       "      <th>1028</th>\n",
       "      <td>159.1</td>\n",
       "      <td>186.7</td>\n",
       "      <td>0.0</td>\n",
       "      <td>175.6</td>\n",
       "      <td>11.3</td>\n",
       "      <td>989.6</td>\n",
       "      <td>788.9</td>\n",
       "      <td>28</td>\n",
       "      <td>32.77</td>\n",
       "    </tr>\n",
       "    <tr>\n",
       "      <th>1029</th>\n",
       "      <td>260.9</td>\n",
       "      <td>100.5</td>\n",
       "      <td>78.3</td>\n",
       "      <td>200.6</td>\n",
       "      <td>8.6</td>\n",
       "      <td>864.5</td>\n",
       "      <td>761.5</td>\n",
       "      <td>28</td>\n",
       "      <td>32.40</td>\n",
       "    </tr>\n",
       "  </tbody>\n",
       "</table>\n",
       "</div>"
      ],
      "text/plain": [
       "      Cement  Blast Furnace Slag  Fly Ash  Water  Superplasticizer  \\\n",
       "1025   276.4               116.0     90.3  179.6               8.9   \n",
       "1026   322.2                 0.0    115.6  196.0              10.4   \n",
       "1027   148.5               139.4    108.6  192.7               6.1   \n",
       "1028   159.1               186.7      0.0  175.6              11.3   \n",
       "1029   260.9               100.5     78.3  200.6               8.6   \n",
       "\n",
       "      Coarse Aggregate  Fine Aggregate  Age  Strength  \n",
       "1025             870.1           768.3   28     44.28  \n",
       "1026             817.9           813.4   28     31.18  \n",
       "1027             892.4           780.0   28     23.70  \n",
       "1028             989.6           788.9   28     32.77  \n",
       "1029             864.5           761.5   28     32.40  "
      ]
     },
     "execution_count": 4,
     "metadata": {},
     "output_type": "execute_result"
    }
   ],
   "source": [
    "concrete_data.tail()"
   ]
  },
  {
   "cell_type": "code",
   "execution_count": 5,
   "id": "43fa46d6-d051-493b-bb72-78b0433aa2f4",
   "metadata": {},
   "outputs": [
    {
     "data": {
      "text/plain": [
       "Cement                0\n",
       "Blast Furnace Slag    0\n",
       "Fly Ash               0\n",
       "Water                 0\n",
       "Superplasticizer      0\n",
       "Coarse Aggregate      0\n",
       "Fine Aggregate        0\n",
       "Age                   0\n",
       "Strength              0\n",
       "dtype: int64"
      ]
     },
     "execution_count": 5,
     "metadata": {},
     "output_type": "execute_result"
    }
   ],
   "source": [
    "concrete_data.isnull().sum()"
   ]
  },
  {
   "cell_type": "markdown",
   "id": "fa29003e-177d-4e11-aec7-0801ac810e4c",
   "metadata": {},
   "source": [
    "The file looks ready to be used :)"
   ]
  },
  {
   "cell_type": "markdown",
   "id": "1c4f4188-9a3d-4400-b983-1d84dcf2281a",
   "metadata": {},
   "source": [
    "#### Split data into predictors and target"
   ]
  },
  {
   "cell_type": "code",
   "execution_count": 6,
   "id": "697ed987-b12f-48f4-9139-1710b0eecfce",
   "metadata": {},
   "outputs": [
    {
     "data": {
      "text/plain": [
       "Index(['Cement', 'Blast Furnace Slag', 'Fly Ash', 'Water', 'Superplasticizer',\n",
       "       'Coarse Aggregate', 'Fine Aggregate', 'Age', 'Strength'],\n",
       "      dtype='object')"
      ]
     },
     "execution_count": 6,
     "metadata": {},
     "output_type": "execute_result"
    }
   ],
   "source": [
    "concrete_data.columns"
   ]
  },
  {
   "cell_type": "code",
   "execution_count": 7,
   "id": "c83cd534-697a-4853-92ab-416e7db0bb00",
   "metadata": {},
   "outputs": [
    {
     "name": "stdout",
     "output_type": "stream",
     "text": [
      "predictors shape: (1030, 8)\n",
      "target shape: (1030,)\n"
     ]
    }
   ],
   "source": [
    "predictors = concrete_data[concrete_data.columns[concrete_data.columns != 'Strength']] \n",
    "target = concrete_data['Strength'] \n",
    "print(f\"predictors shape: {predictors.shape}\")\n",
    "print(f\"target shape: {target.shape}\")"
   ]
  },
  {
   "cell_type": "markdown",
   "id": "3a98174a-49f7-423c-81e2-6c241c473ce4",
   "metadata": {},
   "source": [
    "### Build the neural network"
   ]
  },
  {
   "cell_type": "code",
   "execution_count": 8,
   "id": "93b5491b-a3db-4f84-91ba-282a98def55c",
   "metadata": {},
   "outputs": [],
   "source": [
    "# define regression model\n",
    "def regression_model():\n",
    "    # create model\n",
    "    model = Sequential()\n",
    "    model.add(Input(shape=(8,)))\n",
    "    model.add(Dense(10, activation='relu'))\n",
    "    model.add(Dense(1))\n",
    "    \n",
    "    # compile model\n",
    "    model.compile(optimizer='adam', loss='mean_squared_error')   \n",
    "    return model"
   ]
  },
  {
   "cell_type": "markdown",
   "id": "9c848d42-83a4-41f8-b116-3ca3acc4043b",
   "metadata": {},
   "source": [
    "### Train and test the model"
   ]
  },
  {
   "cell_type": "code",
   "execution_count": 9,
   "id": "7a22357b-dfec-4844-b035-5e325e85945d",
   "metadata": {},
   "outputs": [
    {
     "name": "stderr",
     "output_type": "stream",
     "text": [
      "2025-01-21 18:37:55.061642: E external/local_xla/xla/stream_executor/cuda/cuda_driver.cc:152] failed call to cuInit: INTERNAL: CUDA error: Failed call to cuInit: UNKNOWN ERROR (303)\n"
     ]
    }
   ],
   "source": [
    "# build the model\n",
    "model = regression_model()"
   ]
  },
  {
   "cell_type": "code",
   "execution_count": 10,
   "id": "8c90c8e3-91db-42cd-838c-c2c5da1a4286",
   "metadata": {},
   "outputs": [
    {
     "data": {
      "text/html": [
       "<pre style=\"white-space:pre;overflow-x:auto;line-height:normal;font-family:Menlo,'DejaVu Sans Mono',consolas,'Courier New',monospace\"><span style=\"font-weight: bold\">Model: \"sequential\"</span>\n",
       "</pre>\n"
      ],
      "text/plain": [
       "\u001b[1mModel: \"sequential\"\u001b[0m\n"
      ]
     },
     "metadata": {},
     "output_type": "display_data"
    },
    {
     "data": {
      "text/html": [
       "<pre style=\"white-space:pre;overflow-x:auto;line-height:normal;font-family:Menlo,'DejaVu Sans Mono',consolas,'Courier New',monospace\">┏━━━━━━━━━━━━━━━━━━━━━━━━━━━━━━━━━┳━━━━━━━━━━━━━━━━━━━━━━━━┳━━━━━━━━━━━━━━━┓\n",
       "┃<span style=\"font-weight: bold\"> Layer (type)                    </span>┃<span style=\"font-weight: bold\"> Output Shape           </span>┃<span style=\"font-weight: bold\">       Param # </span>┃\n",
       "┡━━━━━━━━━━━━━━━━━━━━━━━━━━━━━━━━━╇━━━━━━━━━━━━━━━━━━━━━━━━╇━━━━━━━━━━━━━━━┩\n",
       "│ dense (<span style=\"color: #0087ff; text-decoration-color: #0087ff\">Dense</span>)                   │ (<span style=\"color: #00d7ff; text-decoration-color: #00d7ff\">None</span>, <span style=\"color: #00af00; text-decoration-color: #00af00\">10</span>)             │            <span style=\"color: #00af00; text-decoration-color: #00af00\">90</span> │\n",
       "├─────────────────────────────────┼────────────────────────┼───────────────┤\n",
       "│ dense_1 (<span style=\"color: #0087ff; text-decoration-color: #0087ff\">Dense</span>)                 │ (<span style=\"color: #00d7ff; text-decoration-color: #00d7ff\">None</span>, <span style=\"color: #00af00; text-decoration-color: #00af00\">1</span>)              │            <span style=\"color: #00af00; text-decoration-color: #00af00\">11</span> │\n",
       "└─────────────────────────────────┴────────────────────────┴───────────────┘\n",
       "</pre>\n"
      ],
      "text/plain": [
       "┏━━━━━━━━━━━━━━━━━━━━━━━━━━━━━━━━━┳━━━━━━━━━━━━━━━━━━━━━━━━┳━━━━━━━━━━━━━━━┓\n",
       "┃\u001b[1m \u001b[0m\u001b[1mLayer (type)                   \u001b[0m\u001b[1m \u001b[0m┃\u001b[1m \u001b[0m\u001b[1mOutput Shape          \u001b[0m\u001b[1m \u001b[0m┃\u001b[1m \u001b[0m\u001b[1m      Param #\u001b[0m\u001b[1m \u001b[0m┃\n",
       "┡━━━━━━━━━━━━━━━━━━━━━━━━━━━━━━━━━╇━━━━━━━━━━━━━━━━━━━━━━━━╇━━━━━━━━━━━━━━━┩\n",
       "│ dense (\u001b[38;5;33mDense\u001b[0m)                   │ (\u001b[38;5;45mNone\u001b[0m, \u001b[38;5;34m10\u001b[0m)             │            \u001b[38;5;34m90\u001b[0m │\n",
       "├─────────────────────────────────┼────────────────────────┼───────────────┤\n",
       "│ dense_1 (\u001b[38;5;33mDense\u001b[0m)                 │ (\u001b[38;5;45mNone\u001b[0m, \u001b[38;5;34m1\u001b[0m)              │            \u001b[38;5;34m11\u001b[0m │\n",
       "└─────────────────────────────────┴────────────────────────┴───────────────┘\n"
      ]
     },
     "metadata": {},
     "output_type": "display_data"
    },
    {
     "data": {
      "text/html": [
       "<pre style=\"white-space:pre;overflow-x:auto;line-height:normal;font-family:Menlo,'DejaVu Sans Mono',consolas,'Courier New',monospace\"><span style=\"font-weight: bold\"> Total params: </span><span style=\"color: #00af00; text-decoration-color: #00af00\">101</span> (404.00 B)\n",
       "</pre>\n"
      ],
      "text/plain": [
       "\u001b[1m Total params: \u001b[0m\u001b[38;5;34m101\u001b[0m (404.00 B)\n"
      ]
     },
     "metadata": {},
     "output_type": "display_data"
    },
    {
     "data": {
      "text/html": [
       "<pre style=\"white-space:pre;overflow-x:auto;line-height:normal;font-family:Menlo,'DejaVu Sans Mono',consolas,'Courier New',monospace\"><span style=\"font-weight: bold\"> Trainable params: </span><span style=\"color: #00af00; text-decoration-color: #00af00\">101</span> (404.00 B)\n",
       "</pre>\n"
      ],
      "text/plain": [
       "\u001b[1m Trainable params: \u001b[0m\u001b[38;5;34m101\u001b[0m (404.00 B)\n"
      ]
     },
     "metadata": {},
     "output_type": "display_data"
    },
    {
     "data": {
      "text/html": [
       "<pre style=\"white-space:pre;overflow-x:auto;line-height:normal;font-family:Menlo,'DejaVu Sans Mono',consolas,'Courier New',monospace\"><span style=\"font-weight: bold\"> Non-trainable params: </span><span style=\"color: #00af00; text-decoration-color: #00af00\">0</span> (0.00 B)\n",
       "</pre>\n"
      ],
      "text/plain": [
       "\u001b[1m Non-trainable params: \u001b[0m\u001b[38;5;34m0\u001b[0m (0.00 B)\n"
      ]
     },
     "metadata": {},
     "output_type": "display_data"
    },
    {
     "name": "stdout",
     "output_type": "stream",
     "text": [
      "None\n"
     ]
    }
   ],
   "source": [
    "# inspect the model\n",
    "print(model.summary())"
   ]
  },
  {
   "cell_type": "code",
   "execution_count": 11,
   "id": "d845cd2e-979a-4e3d-a562-16c30b37a3d0",
   "metadata": {},
   "outputs": [],
   "source": [
    "#i) Split the data randomly\n",
    "x_train, x_test, y_train, y_test = train_test_split(predictors, target, test_size=0.3, random_state = 9)"
   ]
  },
  {
   "cell_type": "code",
   "execution_count": 12,
   "id": "0a85a5dc-90b5-4a6b-8375-0dce39c06665",
   "metadata": {},
   "outputs": [
    {
     "name": "stdout",
     "output_type": "stream",
     "text": [
      "x_train.shape: (721, 8), x_test.shape: (309, 8), y_train.shape: (721,), y_test.shape: (309,)\n"
     ]
    }
   ],
   "source": [
    "print(f\"x_train.shape: {x_train.shape}, x_test.shape: {x_test.shape}, y_train.shape: {y_train.shape}, y_test.shape: {y_test.shape}\")"
   ]
  },
  {
   "cell_type": "code",
   "execution_count": 13,
   "id": "7e0e0c48-102d-403f-959c-75745535edb2",
   "metadata": {},
   "outputs": [
    {
     "name": "stdout",
     "output_type": "stream",
     "text": [
      "Epoch 1/50\n",
      "23/23 - 1s - 42ms/step - loss: 25100.3281 - val_loss: 12252.2383\n",
      "Epoch 2/50\n",
      "23/23 - 0s - 6ms/step - loss: 6078.7461 - val_loss: 2152.0583\n",
      "Epoch 3/50\n",
      "23/23 - 0s - 6ms/step - loss: 1163.8477 - val_loss: 809.8466\n",
      "Epoch 4/50\n",
      "23/23 - 0s - 5ms/step - loss: 770.9557 - val_loss: 784.9658\n",
      "Epoch 5/50\n",
      "23/23 - 0s - 6ms/step - loss: 745.4727 - val_loss: 758.5526\n",
      "Epoch 6/50\n",
      "23/23 - 0s - 5ms/step - loss: 718.1478 - val_loss: 737.4070\n",
      "Epoch 7/50\n",
      "23/23 - 0s - 6ms/step - loss: 692.3880 - val_loss: 714.9540\n",
      "Epoch 8/50\n",
      "23/23 - 0s - 5ms/step - loss: 666.7967 - val_loss: 692.5121\n",
      "Epoch 9/50\n",
      "23/23 - 0s - 5ms/step - loss: 640.8186 - val_loss: 671.7390\n",
      "Epoch 10/50\n",
      "23/23 - 0s - 5ms/step - loss: 616.3515 - val_loss: 650.0067\n",
      "Epoch 11/50\n",
      "23/23 - 0s - 5ms/step - loss: 592.1005 - val_loss: 628.9905\n",
      "Epoch 12/50\n",
      "23/23 - 0s - 5ms/step - loss: 568.2179 - val_loss: 607.9261\n",
      "Epoch 13/50\n",
      "23/23 - 0s - 5ms/step - loss: 545.3815 - val_loss: 588.2196\n",
      "Epoch 14/50\n",
      "23/23 - 0s - 6ms/step - loss: 523.0853 - val_loss: 569.1442\n",
      "Epoch 15/50\n",
      "23/23 - 0s - 6ms/step - loss: 502.2078 - val_loss: 549.3341\n",
      "Epoch 16/50\n",
      "23/23 - 0s - 5ms/step - loss: 481.8156 - val_loss: 529.4286\n",
      "Epoch 17/50\n",
      "23/23 - 0s - 5ms/step - loss: 462.3650 - val_loss: 509.7866\n",
      "Epoch 18/50\n",
      "23/23 - 0s - 5ms/step - loss: 441.8510 - val_loss: 492.2787\n",
      "Epoch 19/50\n",
      "23/23 - 0s - 5ms/step - loss: 422.6247 - val_loss: 475.1770\n",
      "Epoch 20/50\n",
      "23/23 - 0s - 5ms/step - loss: 407.0471 - val_loss: 457.6499\n",
      "Epoch 21/50\n",
      "23/23 - 0s - 5ms/step - loss: 388.2929 - val_loss: 441.9604\n",
      "Epoch 22/50\n",
      "23/23 - 0s - 6ms/step - loss: 372.3532 - val_loss: 424.7297\n",
      "Epoch 23/50\n",
      "23/23 - 0s - 7ms/step - loss: 357.8509 - val_loss: 410.1551\n",
      "Epoch 24/50\n",
      "23/23 - 0s - 5ms/step - loss: 344.6265 - val_loss: 394.5560\n",
      "Epoch 25/50\n",
      "23/23 - 0s - 5ms/step - loss: 330.3007 - val_loss: 381.2734\n",
      "Epoch 26/50\n",
      "23/23 - 0s - 5ms/step - loss: 316.9876 - val_loss: 368.9396\n",
      "Epoch 27/50\n",
      "23/23 - 0s - 5ms/step - loss: 305.2795 - val_loss: 354.9817\n",
      "Epoch 28/50\n",
      "23/23 - 0s - 5ms/step - loss: 295.5742 - val_loss: 343.8886\n",
      "Epoch 29/50\n",
      "23/23 - 0s - 5ms/step - loss: 285.1057 - val_loss: 331.3087\n",
      "Epoch 30/50\n",
      "23/23 - 0s - 5ms/step - loss: 273.0065 - val_loss: 320.7278\n",
      "Epoch 31/50\n",
      "23/23 - 0s - 6ms/step - loss: 264.1953 - val_loss: 310.0786\n",
      "Epoch 32/50\n",
      "23/23 - 0s - 5ms/step - loss: 253.9241 - val_loss: 299.9282\n",
      "Epoch 33/50\n",
      "23/23 - 0s - 5ms/step - loss: 246.7301 - val_loss: 288.9334\n",
      "Epoch 34/50\n",
      "23/23 - 0s - 5ms/step - loss: 238.8122 - val_loss: 281.5824\n",
      "Epoch 35/50\n",
      "23/23 - 0s - 5ms/step - loss: 231.3983 - val_loss: 274.8185\n",
      "Epoch 36/50\n",
      "23/23 - 0s - 5ms/step - loss: 225.9557 - val_loss: 265.6374\n",
      "Epoch 37/50\n",
      "23/23 - 0s - 5ms/step - loss: 217.9470 - val_loss: 259.4937\n",
      "Epoch 38/50\n",
      "23/23 - 0s - 5ms/step - loss: 212.4717 - val_loss: 251.8175\n",
      "Epoch 39/50\n",
      "23/23 - 0s - 6ms/step - loss: 206.9858 - val_loss: 245.5434\n",
      "Epoch 40/50\n",
      "23/23 - 0s - 5ms/step - loss: 202.8239 - val_loss: 243.1855\n",
      "Epoch 41/50\n",
      "23/23 - 0s - 5ms/step - loss: 197.3793 - val_loss: 233.3142\n",
      "Epoch 42/50\n",
      "23/23 - 0s - 5ms/step - loss: 194.5834 - val_loss: 231.0646\n",
      "Epoch 43/50\n",
      "23/23 - 0s - 5ms/step - loss: 189.2136 - val_loss: 224.2406\n",
      "Epoch 44/50\n",
      "23/23 - 0s - 5ms/step - loss: 185.4026 - val_loss: 222.9813\n",
      "Epoch 45/50\n",
      "23/23 - 0s - 5ms/step - loss: 183.7535 - val_loss: 215.3844\n",
      "Epoch 46/50\n",
      "23/23 - 0s - 7ms/step - loss: 180.3400 - val_loss: 211.1634\n",
      "Epoch 47/50\n",
      "23/23 - 0s - 13ms/step - loss: 178.8092 - val_loss: 207.8032\n",
      "Epoch 48/50\n",
      "23/23 - 0s - 8ms/step - loss: 174.6695 - val_loss: 206.1001\n",
      "Epoch 49/50\n",
      "23/23 - 0s - 7ms/step - loss: 170.1599 - val_loss: 202.5057\n",
      "Epoch 50/50\n",
      "23/23 - 0s - 6ms/step - loss: 167.6351 - val_loss: 199.3756\n",
      "CPU times: user 8.19 s, sys: 546 ms, total: 8.73 s\n",
      "Wall time: 7.64 s\n"
     ]
    },
    {
     "data": {
      "text/plain": [
       "<keras.src.callbacks.history.History at 0x7f84f1822630>"
      ]
     },
     "execution_count": 13,
     "metadata": {},
     "output_type": "execute_result"
    }
   ],
   "source": [
    "%%time\n",
    "#ii) fit the model\n",
    "model.fit(x_train, y_train, validation_data=(x_test, y_test), epochs=50, verbose=2)"
   ]
  },
  {
   "cell_type": "code",
   "execution_count": 14,
   "id": "ac08fa3f-e670-41f0-965c-98d23a4acf68",
   "metadata": {},
   "outputs": [
    {
     "name": "stdout",
     "output_type": "stream",
     "text": [
      "10/10 - 0s - 8ms/step - loss: 199.3756\n",
      "MSE: 199.3756103515625\n"
     ]
    }
   ],
   "source": [
    "#iii) evaluate the model\n",
    "mse = model.evaluate(x_test, y_test, verbose=2)\n",
    "print(f\"MSE: {mse}\")"
   ]
  },
  {
   "cell_type": "markdown",
   "id": "4a580587-e291-40f1-92e7-3a015f9a798e",
   "metadata": {},
   "source": [
    "### Repeat steps i) to iii) 50 times and show mean and standard deviation of the results"
   ]
  },
  {
   "cell_type": "code",
   "execution_count": 15,
   "id": "06bf6329-3f9b-4398-9d5d-7206090c00b0",
   "metadata": {},
   "outputs": [],
   "source": [
    "model = regression_model()\n",
    "mean_squared_errors = []"
   ]
  },
  {
   "cell_type": "code",
   "execution_count": 16,
   "id": "f7e58b5b-0582-47a1-906d-031fe6eeb079",
   "metadata": {},
   "outputs": [
    {
     "name": "stdout",
     "output_type": "stream",
     "text": [
      "CPU times: user 6min 7s, sys: 20.7 s, total: 6min 28s\n",
      "Wall time: 5min 27s\n"
     ]
    }
   ],
   "source": [
    "%%time\n",
    "\n",
    "for i in range(50):\n",
    "    # i) split data\n",
    "    x_train, x_test, y_train, y_test = train_test_split(predictors, target, test_size=0.3, random_state=9)\n",
    "    ## ii) fit model\n",
    "    model.fit(x_train, y_train, validation_data=(x_test, y_test), epochs=50, verbose=0)\n",
    "    # iii) evaluate model\n",
    "    mse = model.evaluate(x_test, y_test, verbose=0)\n",
    "    mean_squared_errors.append(mse)"
   ]
  },
  {
   "cell_type": "markdown",
   "id": "d6801140-f4f4-45a0-95c5-c41660c6c2c3",
   "metadata": {},
   "source": [
    "Calculate mean and std. deviation"
   ]
  },
  {
   "cell_type": "code",
   "execution_count": 17,
   "id": "a70c0fb5-09c0-43df-8ee7-7e8b5f760003",
   "metadata": {},
   "outputs": [
    {
     "name": "stdout",
     "output_type": "stream",
     "text": [
      "Mean of calculated mse: 77.25257614135742\n",
      "Standard deviation of calculated mse: 72.64313537076397\n"
     ]
    }
   ],
   "source": [
    "#Calculate the mean and standard deviation of the mean squared errors\n",
    "mse_mean = np.mean(mean_squared_errors)\n",
    "mse_std = np.std(mean_squared_errors)\n",
    "\n",
    "print(f\"Mean of calculated mse: {mse_mean}\")\n",
    "print(f\"Standard deviation of calculated mse: {mse_std}\")"
   ]
  },
  {
   "cell_type": "markdown",
   "id": "da395132-2a38-4f2a-b7e9-494236f36571",
   "metadata": {},
   "source": [
    "                                                                            "
   ]
  },
  {
   "cell_type": "markdown",
   "id": "4c30d943-7bb9-4f4f-8800-990140e9294d",
   "metadata": {},
   "source": [
    "**Executions:**"
   ]
  },
  {
   "cell_type": "markdown",
   "id": "dc3eaec2-5a08-4eb5-9fff-46ca0653286e",
   "metadata": {},
   "source": [
    "First execution:<br>\n",
    "Mean of calculated mse: 66.65317337036133 <br>\n",
    "Std. deviation of calculated mse: 64.99147919799374 <br>\n",
    "CPU times: user 6min 11s, sys: 19.4 s, total: 6min 31s\n",
    "Wall time: 5min 33s\n",
    "<br>\n",
    "<br>\n",
    "Second execution:<br>\n",
    "Mean of calculated mse:  77.25257614135742  <br>\n",
    "Std. deviation of calculated mse:  72.64313537076397 <br>\n",
    "CPU times: user 6min 7s, sys: 20.7 s, total: 6min 28s\n",
    "Wall time: 5min 27s"
   ]
  }
 ],
 "metadata": {
  "kernelspec": {
   "display_name": "Python 3 (ipykernel)",
   "language": "python",
   "name": "python3"
  },
  "language_info": {
   "codemirror_mode": {
    "name": "ipython",
    "version": 3
   },
   "file_extension": ".py",
   "mimetype": "text/x-python",
   "name": "python",
   "nbconvert_exporter": "python",
   "pygments_lexer": "ipython3",
   "version": "3.12.8"
  }
 },
 "nbformat": 4,
 "nbformat_minor": 5
}
