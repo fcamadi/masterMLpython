{
 "cells": [
  {
   "cell_type": "markdown",
   "metadata": {},
   "source": [
    "<a href=\"https://cognitiveclass.ai\"><img src=\"https://cf-courses-data.s3.us.cloud-object-storage.appdomain.cloud/IBMDeveloperSkillsNetwork-DL0101EN-SkillsNetwork/images/IDSN-logo.png\" width=\"400\"> </a>\n",
    "\n",
    "# Regression Models with Keras\n",
    "\n",
    "Estimated time needed: **45** mins\n"
   ]
  },
  {
   "cell_type": "markdown",
   "metadata": {},
   "source": [
    "## Introduction\n"
   ]
  },
  {
   "cell_type": "markdown",
   "metadata": {},
   "source": [
    "As we discussed in the videos, despite the popularity of more powerful libraries such as PyToch and TensorFlow, they are not easy to use and have a steep learning curve. So, for people who are just starting to learn deep learning, there is no better library to use other than the Keras library. \n",
    "\n",
    "Keras is a high-level API for building deep learning models. It has gained favor for its ease of use and syntactic simplicity facilitating fast development. As you will see in this lab and the other labs in this course, building a very complex deep learning network can be achieved with Keras with only few lines of code. You will appreciate Keras even more, once you learn how to build deep models using PyTorch and TensorFlow in the other courses.\n",
    "\n",
    "So, in this lab, you will learn how to use the Keras library to build a regression model.\n"
   ]
  },
  {
   "cell_type": "markdown",
   "metadata": {},
   "source": [
    "## Objectives for this Notebook    \n",
    "* How to use the Keras library to build a regression model\n",
    "* Download and clean the data set\n",
    "* Build a neural network\n",
    "* Train and test the network     \n",
    "\n"
   ]
  },
  {
   "cell_type": "markdown",
   "metadata": {},
   "source": [
    "## Table of Contents\n",
    "\n",
    "<div class=\"alert alert-block alert-info\" style=\"margin-top: 20px\">\n",
    "\n",
    "<font size = 3>\n",
    "    \n",
    "1. <a href=\"#item31\">Download and Clean the Data Set</a>  \n",
    "2. <a href=\"#item32\">Import Keras Packages</a>\n",
    "3. <a href=\"#item33\">Build a Neural Network</a>\n",
    "4. <a href=\"#item34\">Train and Test the Network</a>  \n",
    "\n",
    "</font>\n",
    "</div>\n"
   ]
  },
  {
   "cell_type": "markdown",
   "metadata": {},
   "source": [
    "<a id=\"item31\"></a>\n"
   ]
  },
  {
   "cell_type": "markdown",
   "metadata": {},
   "source": [
    "## Download and Clean the  Data Set\n"
   ]
  },
  {
   "cell_type": "markdown",
   "metadata": {},
   "source": [
    "Let's start by importing the <em>pandas</em> and the Numpy libraries.\n"
   ]
  },
  {
   "cell_type": "code",
   "execution_count": 1,
   "metadata": {},
   "outputs": [],
   "source": [
    "# All Libraries required for this lab are listed below. The libraries pre-installed on Skills Network Labs are commented. \n",
    "# If you run this notebook on a different environment, e.g. your desktop, you may need to uncomment and install certain libraries.\n",
    "\n",
    "#!pip install numpy==2.0.2\n",
    "#!pip install pandas==2.2.2\n",
    "#!pip install tensorflow_cpu==2.18.0\n"
   ]
  },
  {
   "cell_type": "markdown",
   "metadata": {},
   "source": [
    "##### To use Keras, you will also need to install a backend framework – such as TensorFlow.\n",
    "\n",
    "If you install TensorFlow 2.16 or above, it will install Keras by default.\n",
    "\n",
    "We are using the CPU version of tensorflow since we are dealing with smaller datasets. \n",
    "You may install the GPU version of tensorflow on your machine to accelarate the processing of larger datasets\n"
   ]
  },
  {
   "cell_type": "code",
   "execution_count": 2,
   "metadata": {},
   "outputs": [
    {
     "name": "stderr",
     "output_type": "stream",
     "text": [
      "2025-01-20 19:00:58.874463: E external/local_xla/xla/stream_executor/cuda/cuda_fft.cc:477] Unable to register cuFFT factory: Attempting to register factory for plugin cuFFT when one has already been registered\n",
      "WARNING: All log messages before absl::InitializeLog() is called are written to STDERR\n",
      "E0000 00:00:1737396058.915132   32115 cuda_dnn.cc:8310] Unable to register cuDNN factory: Attempting to register factory for plugin cuDNN when one has already been registered\n",
      "E0000 00:00:1737396058.928654   32115 cuda_blas.cc:1418] Unable to register cuBLAS factory: Attempting to register factory for plugin cuBLAS when one has already been registered\n",
      "2025-01-20 19:00:58.966584: I tensorflow/core/platform/cpu_feature_guard.cc:210] This TensorFlow binary is optimized to use available CPU instructions in performance-critical operations.\n",
      "To enable the following instructions: AVX2 FMA, in other operations, rebuild TensorFlow with the appropriate compiler flags.\n"
     ]
    }
   ],
   "source": [
    "import pandas as pd\n",
    "import numpy as np\n",
    "import keras\n",
    "\n",
    "import warnings\n",
    "warnings.simplefilter('ignore', FutureWarning)"
   ]
  },
  {
   "cell_type": "markdown",
   "metadata": {},
   "source": [
    "We will be playing around with the same dataset that we used in the videos.\n",
    "\n",
    "<strong>The dataset is about the compressive strength of different samples of concrete based on the volumes of the different ingredients that were used to make them. Ingredients include:</strong>\n",
    "\n",
    "* Cement\n",
    "* Blast furnace slag\n",
    "* Fly ash\n",
    "* Water\n",
    "* Superplasticizer\n",
    "* Coarse aggregate\n",
    "* Fine aggregate\n"
   ]
  },
  {
   "cell_type": "markdown",
   "metadata": {},
   "source": [
    "Let's download the data and read it into a <em>pandas</em> dataframe.\n"
   ]
  },
  {
   "cell_type": "code",
   "execution_count": 3,
   "metadata": {},
   "outputs": [
    {
     "data": {
      "text/html": [
       "<div>\n",
       "<style scoped>\n",
       "    .dataframe tbody tr th:only-of-type {\n",
       "        vertical-align: middle;\n",
       "    }\n",
       "\n",
       "    .dataframe tbody tr th {\n",
       "        vertical-align: top;\n",
       "    }\n",
       "\n",
       "    .dataframe thead th {\n",
       "        text-align: right;\n",
       "    }\n",
       "</style>\n",
       "<table border=\"1\" class=\"dataframe\">\n",
       "  <thead>\n",
       "    <tr style=\"text-align: right;\">\n",
       "      <th></th>\n",
       "      <th>Cement</th>\n",
       "      <th>Blast Furnace Slag</th>\n",
       "      <th>Fly Ash</th>\n",
       "      <th>Water</th>\n",
       "      <th>Superplasticizer</th>\n",
       "      <th>Coarse Aggregate</th>\n",
       "      <th>Fine Aggregate</th>\n",
       "      <th>Age</th>\n",
       "      <th>Strength</th>\n",
       "    </tr>\n",
       "  </thead>\n",
       "  <tbody>\n",
       "    <tr>\n",
       "      <th>0</th>\n",
       "      <td>540.0</td>\n",
       "      <td>0.0</td>\n",
       "      <td>0.0</td>\n",
       "      <td>162.0</td>\n",
       "      <td>2.5</td>\n",
       "      <td>1040.0</td>\n",
       "      <td>676.0</td>\n",
       "      <td>28</td>\n",
       "      <td>79.99</td>\n",
       "    </tr>\n",
       "    <tr>\n",
       "      <th>1</th>\n",
       "      <td>540.0</td>\n",
       "      <td>0.0</td>\n",
       "      <td>0.0</td>\n",
       "      <td>162.0</td>\n",
       "      <td>2.5</td>\n",
       "      <td>1055.0</td>\n",
       "      <td>676.0</td>\n",
       "      <td>28</td>\n",
       "      <td>61.89</td>\n",
       "    </tr>\n",
       "    <tr>\n",
       "      <th>2</th>\n",
       "      <td>332.5</td>\n",
       "      <td>142.5</td>\n",
       "      <td>0.0</td>\n",
       "      <td>228.0</td>\n",
       "      <td>0.0</td>\n",
       "      <td>932.0</td>\n",
       "      <td>594.0</td>\n",
       "      <td>270</td>\n",
       "      <td>40.27</td>\n",
       "    </tr>\n",
       "    <tr>\n",
       "      <th>3</th>\n",
       "      <td>332.5</td>\n",
       "      <td>142.5</td>\n",
       "      <td>0.0</td>\n",
       "      <td>228.0</td>\n",
       "      <td>0.0</td>\n",
       "      <td>932.0</td>\n",
       "      <td>594.0</td>\n",
       "      <td>365</td>\n",
       "      <td>41.05</td>\n",
       "    </tr>\n",
       "    <tr>\n",
       "      <th>4</th>\n",
       "      <td>198.6</td>\n",
       "      <td>132.4</td>\n",
       "      <td>0.0</td>\n",
       "      <td>192.0</td>\n",
       "      <td>0.0</td>\n",
       "      <td>978.4</td>\n",
       "      <td>825.5</td>\n",
       "      <td>360</td>\n",
       "      <td>44.30</td>\n",
       "    </tr>\n",
       "  </tbody>\n",
       "</table>\n",
       "</div>"
      ],
      "text/plain": [
       "   Cement  Blast Furnace Slag  Fly Ash  Water  Superplasticizer  \\\n",
       "0   540.0                 0.0      0.0  162.0               2.5   \n",
       "1   540.0                 0.0      0.0  162.0               2.5   \n",
       "2   332.5               142.5      0.0  228.0               0.0   \n",
       "3   332.5               142.5      0.0  228.0               0.0   \n",
       "4   198.6               132.4      0.0  192.0               0.0   \n",
       "\n",
       "   Coarse Aggregate  Fine Aggregate  Age  Strength  \n",
       "0            1040.0           676.0   28     79.99  \n",
       "1            1055.0           676.0   28     61.89  \n",
       "2             932.0           594.0  270     40.27  \n",
       "3             932.0           594.0  365     41.05  \n",
       "4             978.4           825.5  360     44.30  "
      ]
     },
     "execution_count": 3,
     "metadata": {},
     "output_type": "execute_result"
    }
   ],
   "source": [
    "filepath='https://s3-api.us-geo.objectstorage.softlayer.net/cf-courses-data/CognitiveClass/DL0101EN/labs/data/concrete_data.csv'\n",
    "concrete_data = pd.read_csv(filepath)\n",
    "\n",
    "concrete_data.head()"
   ]
  },
  {
   "cell_type": "markdown",
   "metadata": {},
   "source": [
    "So the first concrete sample has 540 cubic meter of cement, 0 cubic meter of blast furnace slag, 0 cubic meter of fly ash, 162 cubic meter of water, 2.5 cubic meter of superplaticizer, 1040 cubic meter of coarse aggregate, 676 cubic meter of fine aggregate. Such a concrete mix which is 28 days old, has a compressive strength of 79.99 MPa. \n"
   ]
  },
  {
   "cell_type": "markdown",
   "metadata": {},
   "source": [
    "#### Let's check how many data points we have\n"
   ]
  },
  {
   "cell_type": "code",
   "execution_count": 4,
   "metadata": {},
   "outputs": [
    {
     "data": {
      "text/plain": [
       "(1030, 9)"
      ]
     },
     "execution_count": 4,
     "metadata": {},
     "output_type": "execute_result"
    }
   ],
   "source": [
    "concrete_data.shape"
   ]
  },
  {
   "cell_type": "markdown",
   "metadata": {},
   "source": [
    "So, there are approximately 1000 samples to train our model on. Because of the few samples, we have to be careful not to overfit the training data.\n"
   ]
  },
  {
   "cell_type": "markdown",
   "metadata": {},
   "source": [
    "Let's check the dataset for any missing values.\n"
   ]
  },
  {
   "cell_type": "code",
   "execution_count": 5,
   "metadata": {},
   "outputs": [
    {
     "data": {
      "text/html": [
       "<div>\n",
       "<style scoped>\n",
       "    .dataframe tbody tr th:only-of-type {\n",
       "        vertical-align: middle;\n",
       "    }\n",
       "\n",
       "    .dataframe tbody tr th {\n",
       "        vertical-align: top;\n",
       "    }\n",
       "\n",
       "    .dataframe thead th {\n",
       "        text-align: right;\n",
       "    }\n",
       "</style>\n",
       "<table border=\"1\" class=\"dataframe\">\n",
       "  <thead>\n",
       "    <tr style=\"text-align: right;\">\n",
       "      <th></th>\n",
       "      <th>Cement</th>\n",
       "      <th>Blast Furnace Slag</th>\n",
       "      <th>Fly Ash</th>\n",
       "      <th>Water</th>\n",
       "      <th>Superplasticizer</th>\n",
       "      <th>Coarse Aggregate</th>\n",
       "      <th>Fine Aggregate</th>\n",
       "      <th>Age</th>\n",
       "      <th>Strength</th>\n",
       "    </tr>\n",
       "  </thead>\n",
       "  <tbody>\n",
       "    <tr>\n",
       "      <th>count</th>\n",
       "      <td>1030.000000</td>\n",
       "      <td>1030.000000</td>\n",
       "      <td>1030.000000</td>\n",
       "      <td>1030.000000</td>\n",
       "      <td>1030.000000</td>\n",
       "      <td>1030.000000</td>\n",
       "      <td>1030.000000</td>\n",
       "      <td>1030.000000</td>\n",
       "      <td>1030.000000</td>\n",
       "    </tr>\n",
       "    <tr>\n",
       "      <th>mean</th>\n",
       "      <td>281.167864</td>\n",
       "      <td>73.895825</td>\n",
       "      <td>54.188350</td>\n",
       "      <td>181.567282</td>\n",
       "      <td>6.204660</td>\n",
       "      <td>972.918932</td>\n",
       "      <td>773.580485</td>\n",
       "      <td>45.662136</td>\n",
       "      <td>35.817961</td>\n",
       "    </tr>\n",
       "    <tr>\n",
       "      <th>std</th>\n",
       "      <td>104.506364</td>\n",
       "      <td>86.279342</td>\n",
       "      <td>63.997004</td>\n",
       "      <td>21.354219</td>\n",
       "      <td>5.973841</td>\n",
       "      <td>77.753954</td>\n",
       "      <td>80.175980</td>\n",
       "      <td>63.169912</td>\n",
       "      <td>16.705742</td>\n",
       "    </tr>\n",
       "    <tr>\n",
       "      <th>min</th>\n",
       "      <td>102.000000</td>\n",
       "      <td>0.000000</td>\n",
       "      <td>0.000000</td>\n",
       "      <td>121.800000</td>\n",
       "      <td>0.000000</td>\n",
       "      <td>801.000000</td>\n",
       "      <td>594.000000</td>\n",
       "      <td>1.000000</td>\n",
       "      <td>2.330000</td>\n",
       "    </tr>\n",
       "    <tr>\n",
       "      <th>25%</th>\n",
       "      <td>192.375000</td>\n",
       "      <td>0.000000</td>\n",
       "      <td>0.000000</td>\n",
       "      <td>164.900000</td>\n",
       "      <td>0.000000</td>\n",
       "      <td>932.000000</td>\n",
       "      <td>730.950000</td>\n",
       "      <td>7.000000</td>\n",
       "      <td>23.710000</td>\n",
       "    </tr>\n",
       "    <tr>\n",
       "      <th>50%</th>\n",
       "      <td>272.900000</td>\n",
       "      <td>22.000000</td>\n",
       "      <td>0.000000</td>\n",
       "      <td>185.000000</td>\n",
       "      <td>6.400000</td>\n",
       "      <td>968.000000</td>\n",
       "      <td>779.500000</td>\n",
       "      <td>28.000000</td>\n",
       "      <td>34.445000</td>\n",
       "    </tr>\n",
       "    <tr>\n",
       "      <th>75%</th>\n",
       "      <td>350.000000</td>\n",
       "      <td>142.950000</td>\n",
       "      <td>118.300000</td>\n",
       "      <td>192.000000</td>\n",
       "      <td>10.200000</td>\n",
       "      <td>1029.400000</td>\n",
       "      <td>824.000000</td>\n",
       "      <td>56.000000</td>\n",
       "      <td>46.135000</td>\n",
       "    </tr>\n",
       "    <tr>\n",
       "      <th>max</th>\n",
       "      <td>540.000000</td>\n",
       "      <td>359.400000</td>\n",
       "      <td>200.100000</td>\n",
       "      <td>247.000000</td>\n",
       "      <td>32.200000</td>\n",
       "      <td>1145.000000</td>\n",
       "      <td>992.600000</td>\n",
       "      <td>365.000000</td>\n",
       "      <td>82.600000</td>\n",
       "    </tr>\n",
       "  </tbody>\n",
       "</table>\n",
       "</div>"
      ],
      "text/plain": [
       "            Cement  Blast Furnace Slag      Fly Ash        Water  \\\n",
       "count  1030.000000         1030.000000  1030.000000  1030.000000   \n",
       "mean    281.167864           73.895825    54.188350   181.567282   \n",
       "std     104.506364           86.279342    63.997004    21.354219   \n",
       "min     102.000000            0.000000     0.000000   121.800000   \n",
       "25%     192.375000            0.000000     0.000000   164.900000   \n",
       "50%     272.900000           22.000000     0.000000   185.000000   \n",
       "75%     350.000000          142.950000   118.300000   192.000000   \n",
       "max     540.000000          359.400000   200.100000   247.000000   \n",
       "\n",
       "       Superplasticizer  Coarse Aggregate  Fine Aggregate          Age  \\\n",
       "count       1030.000000       1030.000000     1030.000000  1030.000000   \n",
       "mean           6.204660        972.918932      773.580485    45.662136   \n",
       "std            5.973841         77.753954       80.175980    63.169912   \n",
       "min            0.000000        801.000000      594.000000     1.000000   \n",
       "25%            0.000000        932.000000      730.950000     7.000000   \n",
       "50%            6.400000        968.000000      779.500000    28.000000   \n",
       "75%           10.200000       1029.400000      824.000000    56.000000   \n",
       "max           32.200000       1145.000000      992.600000   365.000000   \n",
       "\n",
       "          Strength  \n",
       "count  1030.000000  \n",
       "mean     35.817961  \n",
       "std      16.705742  \n",
       "min       2.330000  \n",
       "25%      23.710000  \n",
       "50%      34.445000  \n",
       "75%      46.135000  \n",
       "max      82.600000  "
      ]
     },
     "execution_count": 5,
     "metadata": {},
     "output_type": "execute_result"
    }
   ],
   "source": [
    "concrete_data.describe()"
   ]
  },
  {
   "cell_type": "code",
   "execution_count": 6,
   "metadata": {},
   "outputs": [
    {
     "data": {
      "text/plain": [
       "Cement                0\n",
       "Blast Furnace Slag    0\n",
       "Fly Ash               0\n",
       "Water                 0\n",
       "Superplasticizer      0\n",
       "Coarse Aggregate      0\n",
       "Fine Aggregate        0\n",
       "Age                   0\n",
       "Strength              0\n",
       "dtype: int64"
      ]
     },
     "execution_count": 6,
     "metadata": {},
     "output_type": "execute_result"
    }
   ],
   "source": [
    "concrete_data.isnull().sum()"
   ]
  },
  {
   "cell_type": "markdown",
   "metadata": {},
   "source": [
    "The data looks very clean and is ready to be used to build our model.\n"
   ]
  },
  {
   "cell_type": "markdown",
   "metadata": {},
   "source": [
    "#### Split data into predictors and target\n"
   ]
  },
  {
   "cell_type": "markdown",
   "metadata": {},
   "source": [
    "The target variable in this problem is the concrete sample strength. Therefore, our predictors will be all the other columns.\n"
   ]
  },
  {
   "cell_type": "code",
   "execution_count": 7,
   "metadata": {},
   "outputs": [],
   "source": [
    "concrete_data_columns = concrete_data.columns  # why?"
   ]
  },
  {
   "cell_type": "code",
   "execution_count": 8,
   "metadata": {},
   "outputs": [],
   "source": [
    "predictors = concrete_data[concrete_data_columns[concrete_data_columns != 'Strength']] # all columns except Strength\n",
    "target = concrete_data['Strength'] # Strength column"
   ]
  },
  {
   "cell_type": "markdown",
   "metadata": {},
   "source": [
    "<a id=\"item2\"></a>\n"
   ]
  },
  {
   "cell_type": "markdown",
   "metadata": {},
   "source": [
    "Let's do a quick sanity check of the predictors and the target dataframes.\n"
   ]
  },
  {
   "cell_type": "code",
   "execution_count": 9,
   "metadata": {},
   "outputs": [
    {
     "data": {
      "text/html": [
       "<div>\n",
       "<style scoped>\n",
       "    .dataframe tbody tr th:only-of-type {\n",
       "        vertical-align: middle;\n",
       "    }\n",
       "\n",
       "    .dataframe tbody tr th {\n",
       "        vertical-align: top;\n",
       "    }\n",
       "\n",
       "    .dataframe thead th {\n",
       "        text-align: right;\n",
       "    }\n",
       "</style>\n",
       "<table border=\"1\" class=\"dataframe\">\n",
       "  <thead>\n",
       "    <tr style=\"text-align: right;\">\n",
       "      <th></th>\n",
       "      <th>Cement</th>\n",
       "      <th>Blast Furnace Slag</th>\n",
       "      <th>Fly Ash</th>\n",
       "      <th>Water</th>\n",
       "      <th>Superplasticizer</th>\n",
       "      <th>Coarse Aggregate</th>\n",
       "      <th>Fine Aggregate</th>\n",
       "      <th>Age</th>\n",
       "    </tr>\n",
       "  </thead>\n",
       "  <tbody>\n",
       "    <tr>\n",
       "      <th>0</th>\n",
       "      <td>540.0</td>\n",
       "      <td>0.0</td>\n",
       "      <td>0.0</td>\n",
       "      <td>162.0</td>\n",
       "      <td>2.5</td>\n",
       "      <td>1040.0</td>\n",
       "      <td>676.0</td>\n",
       "      <td>28</td>\n",
       "    </tr>\n",
       "    <tr>\n",
       "      <th>1</th>\n",
       "      <td>540.0</td>\n",
       "      <td>0.0</td>\n",
       "      <td>0.0</td>\n",
       "      <td>162.0</td>\n",
       "      <td>2.5</td>\n",
       "      <td>1055.0</td>\n",
       "      <td>676.0</td>\n",
       "      <td>28</td>\n",
       "    </tr>\n",
       "    <tr>\n",
       "      <th>2</th>\n",
       "      <td>332.5</td>\n",
       "      <td>142.5</td>\n",
       "      <td>0.0</td>\n",
       "      <td>228.0</td>\n",
       "      <td>0.0</td>\n",
       "      <td>932.0</td>\n",
       "      <td>594.0</td>\n",
       "      <td>270</td>\n",
       "    </tr>\n",
       "    <tr>\n",
       "      <th>3</th>\n",
       "      <td>332.5</td>\n",
       "      <td>142.5</td>\n",
       "      <td>0.0</td>\n",
       "      <td>228.0</td>\n",
       "      <td>0.0</td>\n",
       "      <td>932.0</td>\n",
       "      <td>594.0</td>\n",
       "      <td>365</td>\n",
       "    </tr>\n",
       "    <tr>\n",
       "      <th>4</th>\n",
       "      <td>198.6</td>\n",
       "      <td>132.4</td>\n",
       "      <td>0.0</td>\n",
       "      <td>192.0</td>\n",
       "      <td>0.0</td>\n",
       "      <td>978.4</td>\n",
       "      <td>825.5</td>\n",
       "      <td>360</td>\n",
       "    </tr>\n",
       "  </tbody>\n",
       "</table>\n",
       "</div>"
      ],
      "text/plain": [
       "   Cement  Blast Furnace Slag  Fly Ash  Water  Superplasticizer  \\\n",
       "0   540.0                 0.0      0.0  162.0               2.5   \n",
       "1   540.0                 0.0      0.0  162.0               2.5   \n",
       "2   332.5               142.5      0.0  228.0               0.0   \n",
       "3   332.5               142.5      0.0  228.0               0.0   \n",
       "4   198.6               132.4      0.0  192.0               0.0   \n",
       "\n",
       "   Coarse Aggregate  Fine Aggregate  Age  \n",
       "0            1040.0           676.0   28  \n",
       "1            1055.0           676.0   28  \n",
       "2             932.0           594.0  270  \n",
       "3             932.0           594.0  365  \n",
       "4             978.4           825.5  360  "
      ]
     },
     "execution_count": 9,
     "metadata": {},
     "output_type": "execute_result"
    }
   ],
   "source": [
    "predictors.head()"
   ]
  },
  {
   "cell_type": "code",
   "execution_count": 10,
   "metadata": {},
   "outputs": [
    {
     "data": {
      "text/plain": [
       "0    79.99\n",
       "1    61.89\n",
       "2    40.27\n",
       "3    41.05\n",
       "4    44.30\n",
       "Name: Strength, dtype: float64"
      ]
     },
     "execution_count": 10,
     "metadata": {},
     "output_type": "execute_result"
    }
   ],
   "source": [
    "target.head()"
   ]
  },
  {
   "cell_type": "markdown",
   "metadata": {},
   "source": [
    "Finally, the last step is to normalize the data by substracting the mean and dividing by the standard deviation.\n"
   ]
  },
  {
   "cell_type": "code",
   "execution_count": 11,
   "metadata": {},
   "outputs": [
    {
     "data": {
      "text/html": [
       "<div>\n",
       "<style scoped>\n",
       "    .dataframe tbody tr th:only-of-type {\n",
       "        vertical-align: middle;\n",
       "    }\n",
       "\n",
       "    .dataframe tbody tr th {\n",
       "        vertical-align: top;\n",
       "    }\n",
       "\n",
       "    .dataframe thead th {\n",
       "        text-align: right;\n",
       "    }\n",
       "</style>\n",
       "<table border=\"1\" class=\"dataframe\">\n",
       "  <thead>\n",
       "    <tr style=\"text-align: right;\">\n",
       "      <th></th>\n",
       "      <th>Cement</th>\n",
       "      <th>Blast Furnace Slag</th>\n",
       "      <th>Fly Ash</th>\n",
       "      <th>Water</th>\n",
       "      <th>Superplasticizer</th>\n",
       "      <th>Coarse Aggregate</th>\n",
       "      <th>Fine Aggregate</th>\n",
       "      <th>Age</th>\n",
       "    </tr>\n",
       "  </thead>\n",
       "  <tbody>\n",
       "    <tr>\n",
       "      <th>0</th>\n",
       "      <td>2.476712</td>\n",
       "      <td>-0.856472</td>\n",
       "      <td>-0.846733</td>\n",
       "      <td>-0.916319</td>\n",
       "      <td>-0.620147</td>\n",
       "      <td>0.862735</td>\n",
       "      <td>-1.217079</td>\n",
       "      <td>-0.279597</td>\n",
       "    </tr>\n",
       "    <tr>\n",
       "      <th>1</th>\n",
       "      <td>2.476712</td>\n",
       "      <td>-0.856472</td>\n",
       "      <td>-0.846733</td>\n",
       "      <td>-0.916319</td>\n",
       "      <td>-0.620147</td>\n",
       "      <td>1.055651</td>\n",
       "      <td>-1.217079</td>\n",
       "      <td>-0.279597</td>\n",
       "    </tr>\n",
       "    <tr>\n",
       "      <th>2</th>\n",
       "      <td>0.491187</td>\n",
       "      <td>0.795140</td>\n",
       "      <td>-0.846733</td>\n",
       "      <td>2.174405</td>\n",
       "      <td>-1.038638</td>\n",
       "      <td>-0.526262</td>\n",
       "      <td>-2.239829</td>\n",
       "      <td>3.551340</td>\n",
       "    </tr>\n",
       "    <tr>\n",
       "      <th>3</th>\n",
       "      <td>0.491187</td>\n",
       "      <td>0.795140</td>\n",
       "      <td>-0.846733</td>\n",
       "      <td>2.174405</td>\n",
       "      <td>-1.038638</td>\n",
       "      <td>-0.526262</td>\n",
       "      <td>-2.239829</td>\n",
       "      <td>5.055221</td>\n",
       "    </tr>\n",
       "    <tr>\n",
       "      <th>4</th>\n",
       "      <td>-0.790075</td>\n",
       "      <td>0.678079</td>\n",
       "      <td>-0.846733</td>\n",
       "      <td>0.488555</td>\n",
       "      <td>-1.038638</td>\n",
       "      <td>0.070492</td>\n",
       "      <td>0.647569</td>\n",
       "      <td>4.976069</td>\n",
       "    </tr>\n",
       "  </tbody>\n",
       "</table>\n",
       "</div>"
      ],
      "text/plain": [
       "     Cement  Blast Furnace Slag   Fly Ash     Water  Superplasticizer  \\\n",
       "0  2.476712           -0.856472 -0.846733 -0.916319         -0.620147   \n",
       "1  2.476712           -0.856472 -0.846733 -0.916319         -0.620147   \n",
       "2  0.491187            0.795140 -0.846733  2.174405         -1.038638   \n",
       "3  0.491187            0.795140 -0.846733  2.174405         -1.038638   \n",
       "4 -0.790075            0.678079 -0.846733  0.488555         -1.038638   \n",
       "\n",
       "   Coarse Aggregate  Fine Aggregate       Age  \n",
       "0          0.862735       -1.217079 -0.279597  \n",
       "1          1.055651       -1.217079 -0.279597  \n",
       "2         -0.526262       -2.239829  3.551340  \n",
       "3         -0.526262       -2.239829  5.055221  \n",
       "4          0.070492        0.647569  4.976069  "
      ]
     },
     "execution_count": 11,
     "metadata": {},
     "output_type": "execute_result"
    }
   ],
   "source": [
    "predictors_norm = (predictors - predictors.mean()) / predictors.std()\n",
    "predictors_norm.head()"
   ]
  },
  {
   "cell_type": "markdown",
   "metadata": {},
   "source": [
    "Let's save the number of predictors to *n_cols* since we will need this number when building our network.\n"
   ]
  },
  {
   "cell_type": "code",
   "execution_count": 12,
   "metadata": {},
   "outputs": [
    {
     "name": "stdout",
     "output_type": "stream",
     "text": [
      "n_cols: 8\n"
     ]
    }
   ],
   "source": [
    "n_cols = predictors_norm.shape[1] # number of predictors\n",
    "print(f\"n_cols: {n_cols}\")"
   ]
  },
  {
   "cell_type": "markdown",
   "metadata": {},
   "source": [
    "<a id=\"item1\"></a>\n"
   ]
  },
  {
   "cell_type": "markdown",
   "metadata": {},
   "source": [
    "<a id='item32'></a>\n"
   ]
  },
  {
   "cell_type": "markdown",
   "metadata": {},
   "source": [
    "##  Import Keras Packages\n",
    "\n",
    "##### Let's import the rest of the packages from the Keras library that we will need to build our regression model.\n"
   ]
  },
  {
   "cell_type": "code",
   "execution_count": 13,
   "metadata": {},
   "outputs": [],
   "source": [
    "from keras.models import Sequential\n",
    "from keras.layers import Dense, Input"
   ]
  },
  {
   "cell_type": "markdown",
   "metadata": {},
   "source": [
    "<a id='item33'></a>\n"
   ]
  },
  {
   "cell_type": "markdown",
   "metadata": {},
   "source": [
    "## Build a Neural Network\n"
   ]
  },
  {
   "cell_type": "markdown",
   "metadata": {},
   "source": [
    "Let's define a function that defines our regression model for us so that we can conveniently call it to create our model.\n"
   ]
  },
  {
   "cell_type": "code",
   "execution_count": 47,
   "metadata": {},
   "outputs": [],
   "source": [
    "# define regression model\n",
    "def regression_model(num_neurons):\n",
    "    # create model\n",
    "    model = Sequential()\n",
    "    model.add(Input(shape=(n_cols,)))\n",
    "    model.add(Dense(num_neurons, activation='relu'))\n",
    "    model.add(Dense(num_neurons, activation='relu'))\n",
    "    model.add(Dense(int(num_neurons/2), activation='relu'))\n",
    "    model.add(Dense(int(num_neurons/4), activation='relu'))\n",
    "    model.add(Dense(1))\n",
    "    \n",
    "    # compile model\n",
    "    model.compile(optimizer='adam', loss='mean_squared_error', metrics=['root_mean_squared_error'])   \n",
    "    return model"
   ]
  },
  {
   "cell_type": "markdown",
   "metadata": {},
   "source": [
    "The above function create a model that has two hidden layers, each of 50 hidden units. "
   ]
  },
  {
   "cell_type": "markdown",
   "metadata": {},
   "source": [
    "edit: changed to be a parameter"
   ]
  },
  {
   "cell_type": "markdown",
   "metadata": {},
   "source": [
    "edit: added 2 more hidden layers"
   ]
  },
  {
   "cell_type": "markdown",
   "metadata": {},
   "source": [
    "## Train and Test the Network\n"
   ]
  },
  {
   "cell_type": "markdown",
   "metadata": {},
   "source": [
    "Let's call the function now to create our model.\n"
   ]
  },
  {
   "cell_type": "code",
   "execution_count": 51,
   "metadata": {},
   "outputs": [],
   "source": [
    "# build the model\n",
    "model = regression_model(20)  #tried 50 (original value), 100, 20, and 10."
   ]
  },
  {
   "cell_type": "markdown",
   "metadata": {},
   "source": [
    "Next, we will train and test the model at the same time using the *fit* method. We will leave out 30% of the data for validation and we will train the model for 100 epochs.\n"
   ]
  },
  {
   "cell_type": "code",
   "execution_count": 50,
   "metadata": {},
   "outputs": [
    {
     "name": "stdout",
     "output_type": "stream",
     "text": [
      "Epoch 1/100\n",
      "23/23 - 2s - 79ms/step - loss: 1647.2056 - root_mean_squared_error: 40.5858 - val_loss: 1173.7905 - val_root_mean_squared_error: 34.2606\n",
      "Epoch 2/100\n",
      "23/23 - 0s - 20ms/step - loss: 1580.9933 - root_mean_squared_error: 39.7617 - val_loss: 1110.9331 - val_root_mean_squared_error: 33.3307\n",
      "Epoch 3/100\n",
      "23/23 - 0s - 7ms/step - loss: 1459.2810 - root_mean_squared_error: 38.2005 - val_loss: 992.0300 - val_root_mean_squared_error: 31.4965\n",
      "Epoch 4/100\n",
      "23/23 - 0s - 11ms/step - loss: 1238.6318 - root_mean_squared_error: 35.1942 - val_loss: 778.3945 - val_root_mean_squared_error: 27.8997\n",
      "Epoch 5/100\n",
      "23/23 - 0s - 10ms/step - loss: 888.3032 - root_mean_squared_error: 29.8044 - val_loss: 480.4262 - val_root_mean_squared_error: 21.9186\n",
      "Epoch 6/100\n",
      "23/23 - 0s - 8ms/step - loss: 506.7904 - root_mean_squared_error: 22.5120 - val_loss: 223.6177 - val_root_mean_squared_error: 14.9539\n",
      "Epoch 7/100\n",
      "23/23 - 0s - 7ms/step - loss: 311.7965 - root_mean_squared_error: 17.6578 - val_loss: 167.7811 - val_root_mean_squared_error: 12.9530\n",
      "Epoch 8/100\n",
      "23/23 - 0s - 7ms/step - loss: 267.6167 - root_mean_squared_error: 16.3590 - val_loss: 173.4502 - val_root_mean_squared_error: 13.1700\n",
      "Epoch 9/100\n",
      "23/23 - 0s - 12ms/step - loss: 240.3245 - root_mean_squared_error: 15.5024 - val_loss: 179.7365 - val_root_mean_squared_error: 13.4066\n",
      "Epoch 10/100\n",
      "23/23 - 0s - 6ms/step - loss: 225.5998 - root_mean_squared_error: 15.0200 - val_loss: 177.1566 - val_root_mean_squared_error: 13.3100\n",
      "Epoch 11/100\n",
      "23/23 - 0s - 7ms/step - loss: 216.1902 - root_mean_squared_error: 14.7034 - val_loss: 174.8875 - val_root_mean_squared_error: 13.2245\n",
      "Epoch 12/100\n",
      "23/23 - 0s - 7ms/step - loss: 206.4839 - root_mean_squared_error: 14.3695 - val_loss: 173.7103 - val_root_mean_squared_error: 13.1799\n",
      "Epoch 13/100\n",
      "23/23 - 0s - 7ms/step - loss: 200.6004 - root_mean_squared_error: 14.1633 - val_loss: 171.8105 - val_root_mean_squared_error: 13.1076\n",
      "Epoch 14/100\n",
      "23/23 - 0s - 13ms/step - loss: 194.5327 - root_mean_squared_error: 13.9475 - val_loss: 169.8956 - val_root_mean_squared_error: 13.0344\n",
      "Epoch 15/100\n",
      "23/23 - 0s - 7ms/step - loss: 189.2760 - root_mean_squared_error: 13.7578 - val_loss: 167.0844 - val_root_mean_squared_error: 12.9261\n",
      "Epoch 16/100\n",
      "23/23 - 0s - 6ms/step - loss: 183.9379 - root_mean_squared_error: 13.5624 - val_loss: 166.6149 - val_root_mean_squared_error: 12.9079\n",
      "Epoch 17/100\n",
      "23/23 - 0s - 7ms/step - loss: 179.7980 - root_mean_squared_error: 13.4089 - val_loss: 165.7072 - val_root_mean_squared_error: 12.8727\n",
      "Epoch 18/100\n",
      "23/23 - 0s - 7ms/step - loss: 175.3803 - root_mean_squared_error: 13.2431 - val_loss: 163.8572 - val_root_mean_squared_error: 12.8007\n",
      "Epoch 19/100\n",
      "23/23 - 0s - 7ms/step - loss: 172.3350 - root_mean_squared_error: 13.1276 - val_loss: 162.9169 - val_root_mean_squared_error: 12.7639\n",
      "Epoch 20/100\n",
      "23/23 - 0s - 7ms/step - loss: 169.4949 - root_mean_squared_error: 13.0190 - val_loss: 162.4924 - val_root_mean_squared_error: 12.7473\n",
      "Epoch 21/100\n",
      "23/23 - 0s - 6ms/step - loss: 165.9206 - root_mean_squared_error: 12.8810 - val_loss: 163.4063 - val_root_mean_squared_error: 12.7830\n",
      "Epoch 22/100\n",
      "23/23 - 0s - 6ms/step - loss: 164.0680 - root_mean_squared_error: 12.8089 - val_loss: 162.4814 - val_root_mean_squared_error: 12.7468\n",
      "Epoch 23/100\n",
      "23/23 - 0s - 6ms/step - loss: 161.3138 - root_mean_squared_error: 12.7009 - val_loss: 158.9226 - val_root_mean_squared_error: 12.6064\n",
      "Epoch 24/100\n",
      "23/23 - 0s - 6ms/step - loss: 159.7755 - root_mean_squared_error: 12.6402 - val_loss: 158.8549 - val_root_mean_squared_error: 12.6038\n",
      "Epoch 25/100\n",
      "23/23 - 0s - 6ms/step - loss: 157.5404 - root_mean_squared_error: 12.5515 - val_loss: 160.0425 - val_root_mean_squared_error: 12.6508\n",
      "Epoch 26/100\n",
      "23/23 - 0s - 6ms/step - loss: 155.5984 - root_mean_squared_error: 12.4739 - val_loss: 158.3580 - val_root_mean_squared_error: 12.5840\n",
      "Epoch 27/100\n",
      "23/23 - 0s - 6ms/step - loss: 153.6061 - root_mean_squared_error: 12.3938 - val_loss: 157.7917 - val_root_mean_squared_error: 12.5615\n",
      "Epoch 28/100\n",
      "23/23 - 0s - 6ms/step - loss: 151.6798 - root_mean_squared_error: 12.3158 - val_loss: 156.7711 - val_root_mean_squared_error: 12.5208\n",
      "Epoch 29/100\n",
      "23/23 - 0s - 13ms/step - loss: 150.7355 - root_mean_squared_error: 12.2774 - val_loss: 157.0997 - val_root_mean_squared_error: 12.5339\n",
      "Epoch 30/100\n",
      "23/23 - 1s - 23ms/step - loss: 148.9044 - root_mean_squared_error: 12.2026 - val_loss: 156.5990 - val_root_mean_squared_error: 12.5140\n",
      "Epoch 31/100\n",
      "23/23 - 0s - 6ms/step - loss: 147.5831 - root_mean_squared_error: 12.1484 - val_loss: 156.0364 - val_root_mean_squared_error: 12.4915\n",
      "Epoch 32/100\n",
      "23/23 - 0s - 6ms/step - loss: 145.4599 - root_mean_squared_error: 12.0607 - val_loss: 156.0627 - val_root_mean_squared_error: 12.4925\n",
      "Epoch 33/100\n",
      "23/23 - 0s - 6ms/step - loss: 144.0815 - root_mean_squared_error: 12.0034 - val_loss: 155.3705 - val_root_mean_squared_error: 12.4648\n",
      "Epoch 34/100\n",
      "23/23 - 0s - 7ms/step - loss: 142.4541 - root_mean_squared_error: 11.9354 - val_loss: 153.9726 - val_root_mean_squared_error: 12.4086\n",
      "Epoch 35/100\n",
      "23/23 - 0s - 6ms/step - loss: 140.9830 - root_mean_squared_error: 11.8736 - val_loss: 155.8977 - val_root_mean_squared_error: 12.4859\n",
      "Epoch 36/100\n",
      "23/23 - 0s - 8ms/step - loss: 139.1959 - root_mean_squared_error: 11.7981 - val_loss: 155.1692 - val_root_mean_squared_error: 12.4567\n",
      "Epoch 37/100\n",
      "23/23 - 0s - 10ms/step - loss: 138.2143 - root_mean_squared_error: 11.7565 - val_loss: 155.1690 - val_root_mean_squared_error: 12.4567\n",
      "Epoch 38/100\n",
      "23/23 - 0s - 8ms/step - loss: 136.4664 - root_mean_squared_error: 11.6819 - val_loss: 157.1158 - val_root_mean_squared_error: 12.5346\n",
      "Epoch 39/100\n",
      "23/23 - 0s - 7ms/step - loss: 135.0511 - root_mean_squared_error: 11.6212 - val_loss: 154.6534 - val_root_mean_squared_error: 12.4360\n",
      "Epoch 40/100\n",
      "23/23 - 0s - 7ms/step - loss: 133.5661 - root_mean_squared_error: 11.5571 - val_loss: 154.7775 - val_root_mean_squared_error: 12.4410\n",
      "Epoch 41/100\n",
      "23/23 - 0s - 7ms/step - loss: 132.6224 - root_mean_squared_error: 11.5162 - val_loss: 151.9333 - val_root_mean_squared_error: 12.3261\n",
      "Epoch 42/100\n",
      "23/23 - 0s - 6ms/step - loss: 131.3387 - root_mean_squared_error: 11.4603 - val_loss: 153.0004 - val_root_mean_squared_error: 12.3693\n",
      "Epoch 43/100\n",
      "23/23 - 0s - 7ms/step - loss: 129.6061 - root_mean_squared_error: 11.3845 - val_loss: 155.3223 - val_root_mean_squared_error: 12.4628\n",
      "Epoch 44/100\n",
      "23/23 - 0s - 7ms/step - loss: 128.4851 - root_mean_squared_error: 11.3351 - val_loss: 151.3887 - val_root_mean_squared_error: 12.3040\n",
      "Epoch 45/100\n",
      "23/23 - 0s - 6ms/step - loss: 127.3526 - root_mean_squared_error: 11.2851 - val_loss: 153.5288 - val_root_mean_squared_error: 12.3907\n",
      "Epoch 46/100\n",
      "23/23 - 0s - 7ms/step - loss: 126.5579 - root_mean_squared_error: 11.2498 - val_loss: 152.9240 - val_root_mean_squared_error: 12.3662\n",
      "Epoch 47/100\n",
      "23/23 - 0s - 7ms/step - loss: 125.1094 - root_mean_squared_error: 11.1852 - val_loss: 148.5903 - val_root_mean_squared_error: 12.1898\n",
      "Epoch 48/100\n",
      "23/23 - 0s - 15ms/step - loss: 123.3355 - root_mean_squared_error: 11.1057 - val_loss: 153.6802 - val_root_mean_squared_error: 12.3968\n",
      "Epoch 49/100\n",
      "23/23 - 0s - 7ms/step - loss: 123.1463 - root_mean_squared_error: 11.0971 - val_loss: 147.9384 - val_root_mean_squared_error: 12.1630\n",
      "Epoch 50/100\n",
      "23/23 - 0s - 13ms/step - loss: 121.5561 - root_mean_squared_error: 11.0252 - val_loss: 151.9556 - val_root_mean_squared_error: 12.3270\n",
      "Epoch 51/100\n",
      "23/23 - 0s - 6ms/step - loss: 120.3742 - root_mean_squared_error: 10.9715 - val_loss: 147.8689 - val_root_mean_squared_error: 12.1601\n",
      "Epoch 52/100\n",
      "23/23 - 0s - 6ms/step - loss: 118.5650 - root_mean_squared_error: 10.8888 - val_loss: 147.0981 - val_root_mean_squared_error: 12.1284\n",
      "Epoch 53/100\n",
      "23/23 - 0s - 6ms/step - loss: 117.2520 - root_mean_squared_error: 10.8283 - val_loss: 152.0456 - val_root_mean_squared_error: 12.3307\n",
      "Epoch 54/100\n",
      "23/23 - 0s - 7ms/step - loss: 116.1340 - root_mean_squared_error: 10.7765 - val_loss: 150.7150 - val_root_mean_squared_error: 12.2766\n",
      "Epoch 55/100\n",
      "23/23 - 0s - 7ms/step - loss: 114.5056 - root_mean_squared_error: 10.7007 - val_loss: 149.1169 - val_root_mean_squared_error: 12.2113\n",
      "Epoch 56/100\n",
      "23/23 - 0s - 13ms/step - loss: 113.6295 - root_mean_squared_error: 10.6597 - val_loss: 148.9041 - val_root_mean_squared_error: 12.2026\n",
      "Epoch 57/100\n",
      "23/23 - 0s - 11ms/step - loss: 111.8497 - root_mean_squared_error: 10.5759 - val_loss: 145.1944 - val_root_mean_squared_error: 12.0497\n",
      "Epoch 58/100\n",
      "23/23 - 0s - 6ms/step - loss: 110.8825 - root_mean_squared_error: 10.5301 - val_loss: 145.7156 - val_root_mean_squared_error: 12.0713\n",
      "Epoch 59/100\n",
      "23/23 - 0s - 7ms/step - loss: 109.2414 - root_mean_squared_error: 10.4519 - val_loss: 146.7228 - val_root_mean_squared_error: 12.1129\n",
      "Epoch 60/100\n",
      "23/23 - 0s - 7ms/step - loss: 108.7172 - root_mean_squared_error: 10.4268 - val_loss: 142.5445 - val_root_mean_squared_error: 11.9392\n",
      "Epoch 61/100\n",
      "23/23 - 0s - 7ms/step - loss: 107.0065 - root_mean_squared_error: 10.3444 - val_loss: 144.9240 - val_root_mean_squared_error: 12.0384\n",
      "Epoch 62/100\n",
      "23/23 - 0s - 7ms/step - loss: 105.4334 - root_mean_squared_error: 10.2681 - val_loss: 144.7735 - val_root_mean_squared_error: 12.0322\n",
      "Epoch 63/100\n",
      "23/23 - 0s - 12ms/step - loss: 105.1561 - root_mean_squared_error: 10.2546 - val_loss: 143.0208 - val_root_mean_squared_error: 11.9591\n",
      "Epoch 64/100\n",
      "23/23 - 0s - 7ms/step - loss: 103.7381 - root_mean_squared_error: 10.1852 - val_loss: 144.8752 - val_root_mean_squared_error: 12.0364\n",
      "Epoch 65/100\n",
      "23/23 - 0s - 6ms/step - loss: 102.0462 - root_mean_squared_error: 10.1018 - val_loss: 139.5802 - val_root_mean_squared_error: 11.8144\n",
      "Epoch 66/100\n",
      "23/23 - 0s - 13ms/step - loss: 100.3748 - root_mean_squared_error: 10.0187 - val_loss: 141.4231 - val_root_mean_squared_error: 11.8921\n",
      "Epoch 67/100\n",
      "23/23 - 0s - 8ms/step - loss: 99.0719 - root_mean_squared_error: 9.9535 - val_loss: 138.4782 - val_root_mean_squared_error: 11.7677\n",
      "Epoch 68/100\n",
      "23/23 - 0s - 8ms/step - loss: 97.8288 - root_mean_squared_error: 9.8908 - val_loss: 146.4719 - val_root_mean_squared_error: 12.1026\n",
      "Epoch 69/100\n",
      "23/23 - 0s - 10ms/step - loss: 96.5554 - root_mean_squared_error: 9.8263 - val_loss: 135.8957 - val_root_mean_squared_error: 11.6574\n",
      "Epoch 70/100\n",
      "23/23 - 0s - 7ms/step - loss: 94.7761 - root_mean_squared_error: 9.7353 - val_loss: 139.6993 - val_root_mean_squared_error: 11.8194\n",
      "Epoch 71/100\n",
      "23/23 - 0s - 7ms/step - loss: 93.8684 - root_mean_squared_error: 9.6886 - val_loss: 130.3275 - val_root_mean_squared_error: 11.4161\n",
      "Epoch 72/100\n",
      "23/23 - 0s - 7ms/step - loss: 93.3399 - root_mean_squared_error: 9.6613 - val_loss: 142.7776 - val_root_mean_squared_error: 11.9490\n",
      "Epoch 73/100\n",
      "23/23 - 0s - 6ms/step - loss: 91.1672 - root_mean_squared_error: 9.5481 - val_loss: 128.2815 - val_root_mean_squared_error: 11.3261\n",
      "Epoch 74/100\n",
      "23/23 - 0s - 7ms/step - loss: 89.8665 - root_mean_squared_error: 9.4798 - val_loss: 134.8156 - val_root_mean_squared_error: 11.6110\n",
      "Epoch 75/100\n",
      "23/23 - 0s - 18ms/step - loss: 88.8921 - root_mean_squared_error: 9.4283 - val_loss: 129.7969 - val_root_mean_squared_error: 11.3928\n",
      "Epoch 76/100\n",
      "23/23 - 0s - 7ms/step - loss: 87.0161 - root_mean_squared_error: 9.3282 - val_loss: 128.7452 - val_root_mean_squared_error: 11.3466\n",
      "Epoch 77/100\n",
      "23/23 - 0s - 6ms/step - loss: 85.5897 - root_mean_squared_error: 9.2515 - val_loss: 128.9064 - val_root_mean_squared_error: 11.3537\n",
      "Epoch 78/100\n",
      "23/23 - 0s - 7ms/step - loss: 85.2085 - root_mean_squared_error: 9.2308 - val_loss: 121.3141 - val_root_mean_squared_error: 11.0143\n",
      "Epoch 79/100\n",
      "23/23 - 0s - 7ms/step - loss: 83.0448 - root_mean_squared_error: 9.1129 - val_loss: 133.5768 - val_root_mean_squared_error: 11.5575\n",
      "Epoch 80/100\n",
      "23/23 - 0s - 6ms/step - loss: 83.2941 - root_mean_squared_error: 9.1266 - val_loss: 117.9065 - val_root_mean_squared_error: 10.8585\n",
      "Epoch 81/100\n",
      "23/23 - 0s - 7ms/step - loss: 82.8066 - root_mean_squared_error: 9.0998 - val_loss: 119.1688 - val_root_mean_squared_error: 10.9164\n",
      "Epoch 82/100\n",
      "23/23 - 0s - 6ms/step - loss: 79.9423 - root_mean_squared_error: 8.9410 - val_loss: 119.1414 - val_root_mean_squared_error: 10.9152\n",
      "Epoch 83/100\n",
      "23/23 - 0s - 21ms/step - loss: 79.3340 - root_mean_squared_error: 8.9070 - val_loss: 117.3518 - val_root_mean_squared_error: 10.8329\n",
      "Epoch 84/100\n",
      "23/23 - 0s - 7ms/step - loss: 77.4359 - root_mean_squared_error: 8.7998 - val_loss: 116.0032 - val_root_mean_squared_error: 10.7705\n",
      "Epoch 85/100\n",
      "23/23 - 0s - 6ms/step - loss: 76.7351 - root_mean_squared_error: 8.7599 - val_loss: 116.7658 - val_root_mean_squared_error: 10.8058\n",
      "Epoch 86/100\n",
      "23/23 - 0s - 6ms/step - loss: 75.1601 - root_mean_squared_error: 8.6695 - val_loss: 111.1701 - val_root_mean_squared_error: 10.5437\n",
      "Epoch 87/100\n",
      "23/23 - 0s - 6ms/step - loss: 73.5924 - root_mean_squared_error: 8.5786 - val_loss: 112.1987 - val_root_mean_squared_error: 10.5924\n",
      "Epoch 88/100\n",
      "23/23 - 0s - 7ms/step - loss: 72.7983 - root_mean_squared_error: 8.5322 - val_loss: 113.9422 - val_root_mean_squared_error: 10.6744\n",
      "Epoch 89/100\n",
      "23/23 - 0s - 13ms/step - loss: 71.4582 - root_mean_squared_error: 8.4533 - val_loss: 106.1769 - val_root_mean_squared_error: 10.3042\n",
      "Epoch 90/100\n",
      "23/23 - 0s - 7ms/step - loss: 70.3044 - root_mean_squared_error: 8.3848 - val_loss: 108.9284 - val_root_mean_squared_error: 10.4369\n",
      "Epoch 91/100\n",
      "23/23 - 0s - 12ms/step - loss: 69.5647 - root_mean_squared_error: 8.3405 - val_loss: 107.9918 - val_root_mean_squared_error: 10.3919\n",
      "Epoch 92/100\n",
      "23/23 - 0s - 7ms/step - loss: 67.5746 - root_mean_squared_error: 8.2204 - val_loss: 102.2522 - val_root_mean_squared_error: 10.1120\n",
      "Epoch 93/100\n",
      "23/23 - 0s - 6ms/step - loss: 66.3166 - root_mean_squared_error: 8.1435 - val_loss: 105.8684 - val_root_mean_squared_error: 10.2892\n",
      "Epoch 94/100\n",
      "23/23 - 0s - 6ms/step - loss: 65.7197 - root_mean_squared_error: 8.1068 - val_loss: 103.2909 - val_root_mean_squared_error: 10.1632\n",
      "Epoch 95/100\n",
      "23/23 - 0s - 7ms/step - loss: 63.9151 - root_mean_squared_error: 7.9947 - val_loss: 105.5876 - val_root_mean_squared_error: 10.2756\n",
      "Epoch 96/100\n",
      "23/23 - 0s - 7ms/step - loss: 63.0807 - root_mean_squared_error: 7.9423 - val_loss: 100.7388 - val_root_mean_squared_error: 10.0369\n",
      "Epoch 97/100\n",
      "23/23 - 0s - 7ms/step - loss: 62.2351 - root_mean_squared_error: 7.8889 - val_loss: 115.2076 - val_root_mean_squared_error: 10.7335\n",
      "Epoch 98/100\n",
      "23/23 - 0s - 16ms/step - loss: 61.7058 - root_mean_squared_error: 7.8553 - val_loss: 94.8455 - val_root_mean_squared_error: 9.7389\n",
      "Epoch 99/100\n",
      "23/23 - 0s - 9ms/step - loss: 60.2238 - root_mean_squared_error: 7.7604 - val_loss: 106.4990 - val_root_mean_squared_error: 10.3198\n",
      "Epoch 100/100\n",
      "23/23 - 0s - 10ms/step - loss: 59.5512 - root_mean_squared_error: 7.7169 - val_loss: 96.4581 - val_root_mean_squared_error: 9.8213\n"
     ]
    },
    {
     "data": {
      "text/plain": [
       "<keras.src.callbacks.history.History at 0x7f13dd500b60>"
      ]
     },
     "execution_count": 50,
     "metadata": {},
     "output_type": "execute_result"
    }
   ],
   "source": [
    "# fit the model\n",
    "model.fit(predictors_norm, target, validation_split=0.3, epochs=100, verbose=2)"
   ]
  },
  {
   "cell_type": "markdown",
   "metadata": {},
   "source": [
    "## Inspecting the model:"
   ]
  },
  {
   "cell_type": "code",
   "execution_count": 53,
   "metadata": {},
   "outputs": [
    {
     "data": {
      "text/html": [
       "<pre style=\"white-space:pre;overflow-x:auto;line-height:normal;font-family:Menlo,'DejaVu Sans Mono',consolas,'Courier New',monospace\"><span style=\"font-weight: bold\">Model: \"sequential_11\"</span>\n",
       "</pre>\n"
      ],
      "text/plain": [
       "\u001b[1mModel: \"sequential_11\"\u001b[0m\n"
      ]
     },
     "metadata": {},
     "output_type": "display_data"
    },
    {
     "data": {
      "text/html": [
       "<pre style=\"white-space:pre;overflow-x:auto;line-height:normal;font-family:Menlo,'DejaVu Sans Mono',consolas,'Courier New',monospace\">┏━━━━━━━━━━━━━━━━━━━━━━━━━━━━━━━━━┳━━━━━━━━━━━━━━━━━━━━━━━━┳━━━━━━━━━━━━━━━┓\n",
       "┃<span style=\"font-weight: bold\"> Layer (type)                    </span>┃<span style=\"font-weight: bold\"> Output Shape           </span>┃<span style=\"font-weight: bold\">       Param # </span>┃\n",
       "┡━━━━━━━━━━━━━━━━━━━━━━━━━━━━━━━━━╇━━━━━━━━━━━━━━━━━━━━━━━━╇━━━━━━━━━━━━━━━┩\n",
       "│ dense_39 (<span style=\"color: #0087ff; text-decoration-color: #0087ff\">Dense</span>)                │ (<span style=\"color: #00d7ff; text-decoration-color: #00d7ff\">None</span>, <span style=\"color: #00af00; text-decoration-color: #00af00\">20</span>)             │           <span style=\"color: #00af00; text-decoration-color: #00af00\">180</span> │\n",
       "├─────────────────────────────────┼────────────────────────┼───────────────┤\n",
       "│ dense_40 (<span style=\"color: #0087ff; text-decoration-color: #0087ff\">Dense</span>)                │ (<span style=\"color: #00d7ff; text-decoration-color: #00d7ff\">None</span>, <span style=\"color: #00af00; text-decoration-color: #00af00\">20</span>)             │           <span style=\"color: #00af00; text-decoration-color: #00af00\">420</span> │\n",
       "├─────────────────────────────────┼────────────────────────┼───────────────┤\n",
       "│ dense_41 (<span style=\"color: #0087ff; text-decoration-color: #0087ff\">Dense</span>)                │ (<span style=\"color: #00d7ff; text-decoration-color: #00d7ff\">None</span>, <span style=\"color: #00af00; text-decoration-color: #00af00\">10</span>)             │           <span style=\"color: #00af00; text-decoration-color: #00af00\">210</span> │\n",
       "├─────────────────────────────────┼────────────────────────┼───────────────┤\n",
       "│ dense_42 (<span style=\"color: #0087ff; text-decoration-color: #0087ff\">Dense</span>)                │ (<span style=\"color: #00d7ff; text-decoration-color: #00d7ff\">None</span>, <span style=\"color: #00af00; text-decoration-color: #00af00\">5</span>)              │            <span style=\"color: #00af00; text-decoration-color: #00af00\">55</span> │\n",
       "├─────────────────────────────────┼────────────────────────┼───────────────┤\n",
       "│ dense_43 (<span style=\"color: #0087ff; text-decoration-color: #0087ff\">Dense</span>)                │ (<span style=\"color: #00d7ff; text-decoration-color: #00d7ff\">None</span>, <span style=\"color: #00af00; text-decoration-color: #00af00\">1</span>)              │             <span style=\"color: #00af00; text-decoration-color: #00af00\">6</span> │\n",
       "└─────────────────────────────────┴────────────────────────┴───────────────┘\n",
       "</pre>\n"
      ],
      "text/plain": [
       "┏━━━━━━━━━━━━━━━━━━━━━━━━━━━━━━━━━┳━━━━━━━━━━━━━━━━━━━━━━━━┳━━━━━━━━━━━━━━━┓\n",
       "┃\u001b[1m \u001b[0m\u001b[1mLayer (type)                   \u001b[0m\u001b[1m \u001b[0m┃\u001b[1m \u001b[0m\u001b[1mOutput Shape          \u001b[0m\u001b[1m \u001b[0m┃\u001b[1m \u001b[0m\u001b[1m      Param #\u001b[0m\u001b[1m \u001b[0m┃\n",
       "┡━━━━━━━━━━━━━━━━━━━━━━━━━━━━━━━━━╇━━━━━━━━━━━━━━━━━━━━━━━━╇━━━━━━━━━━━━━━━┩\n",
       "│ dense_39 (\u001b[38;5;33mDense\u001b[0m)                │ (\u001b[38;5;45mNone\u001b[0m, \u001b[38;5;34m20\u001b[0m)             │           \u001b[38;5;34m180\u001b[0m │\n",
       "├─────────────────────────────────┼────────────────────────┼───────────────┤\n",
       "│ dense_40 (\u001b[38;5;33mDense\u001b[0m)                │ (\u001b[38;5;45mNone\u001b[0m, \u001b[38;5;34m20\u001b[0m)             │           \u001b[38;5;34m420\u001b[0m │\n",
       "├─────────────────────────────────┼────────────────────────┼───────────────┤\n",
       "│ dense_41 (\u001b[38;5;33mDense\u001b[0m)                │ (\u001b[38;5;45mNone\u001b[0m, \u001b[38;5;34m10\u001b[0m)             │           \u001b[38;5;34m210\u001b[0m │\n",
       "├─────────────────────────────────┼────────────────────────┼───────────────┤\n",
       "│ dense_42 (\u001b[38;5;33mDense\u001b[0m)                │ (\u001b[38;5;45mNone\u001b[0m, \u001b[38;5;34m5\u001b[0m)              │            \u001b[38;5;34m55\u001b[0m │\n",
       "├─────────────────────────────────┼────────────────────────┼───────────────┤\n",
       "│ dense_43 (\u001b[38;5;33mDense\u001b[0m)                │ (\u001b[38;5;45mNone\u001b[0m, \u001b[38;5;34m1\u001b[0m)              │             \u001b[38;5;34m6\u001b[0m │\n",
       "└─────────────────────────────────┴────────────────────────┴───────────────┘\n"
      ]
     },
     "metadata": {},
     "output_type": "display_data"
    },
    {
     "data": {
      "text/html": [
       "<pre style=\"white-space:pre;overflow-x:auto;line-height:normal;font-family:Menlo,'DejaVu Sans Mono',consolas,'Courier New',monospace\"><span style=\"font-weight: bold\"> Total params: </span><span style=\"color: #00af00; text-decoration-color: #00af00\">871</span> (3.40 KB)\n",
       "</pre>\n"
      ],
      "text/plain": [
       "\u001b[1m Total params: \u001b[0m\u001b[38;5;34m871\u001b[0m (3.40 KB)\n"
      ]
     },
     "metadata": {},
     "output_type": "display_data"
    },
    {
     "data": {
      "text/html": [
       "<pre style=\"white-space:pre;overflow-x:auto;line-height:normal;font-family:Menlo,'DejaVu Sans Mono',consolas,'Courier New',monospace\"><span style=\"font-weight: bold\"> Trainable params: </span><span style=\"color: #00af00; text-decoration-color: #00af00\">871</span> (3.40 KB)\n",
       "</pre>\n"
      ],
      "text/plain": [
       "\u001b[1m Trainable params: \u001b[0m\u001b[38;5;34m871\u001b[0m (3.40 KB)\n"
      ]
     },
     "metadata": {},
     "output_type": "display_data"
    },
    {
     "data": {
      "text/html": [
       "<pre style=\"white-space:pre;overflow-x:auto;line-height:normal;font-family:Menlo,'DejaVu Sans Mono',consolas,'Courier New',monospace\"><span style=\"font-weight: bold\"> Non-trainable params: </span><span style=\"color: #00af00; text-decoration-color: #00af00\">0</span> (0.00 B)\n",
       "</pre>\n"
      ],
      "text/plain": [
       "\u001b[1m Non-trainable params: \u001b[0m\u001b[38;5;34m0\u001b[0m (0.00 B)\n"
      ]
     },
     "metadata": {},
     "output_type": "display_data"
    },
    {
     "name": "stdout",
     "output_type": "stream",
     "text": [
      "None\n"
     ]
    }
   ],
   "source": [
    "print(model.summary())"
   ]
  },
  {
   "cell_type": "code",
   "execution_count": 54,
   "metadata": {},
   "outputs": [
    {
     "data": {
      "image/png": "[encoded data removed]",
      "text/plain": [
       "<IPython.core.display.Image object>"
      ]
     },
     "execution_count": 54,
     "metadata": {},
     "output_type": "execute_result"
    }
   ],
   "source": [
    "from tensorflow.keras.utils import plot_model\n",
    "plot_model(model, to_file='model_plot.png', show_shapes=True, show_layer_names=True)"
   ]
  },
  {
   "cell_type": "markdown",
   "metadata": {},
   "source": [
    "<strong>You can refer to this [link](https://keras.io/models/sequential/) to learn about other functions that you can use for prediction or evaluation.</strong>\n"
   ]
  },
  {
   "cell_type": "markdown",
   "metadata": {},
   "source": [
    "Feel free to vary the following and note what impact each change has on the model's performance:\n",
    "\n",
    "1. Increase or decreate number of neurons in hidden layers\n",
    "2. Add more hidden layers\n",
    "3. Increase number of epochs\n"
   ]
  },
  {
   "cell_type": "markdown",
   "metadata": {},
   "source": [
    "### Thank you for completing this lab!\n",
    "\n",
    "This notebook was created by [Alex Aklson](https://www.linkedin.com/in/aklson/). I hope you found this lab interesting and educational. Feel free to contact me if you have any questions!\n"
   ]
  },
  {
   "cell_type": "markdown",
   "metadata": {},
   "source": [
    "<!--\n",
    "## Change Log\n",
    "\n",
    "|  Date (YYYY-MM-DD) |  Version | Changed By  |  Change Description |\n",
    "|---|---|---|---|\n",
    "| 2024-11-20  | 3.0  | Aman  |  Updated the library versions to current |\n",
    "| 2020-09-21  | 2.0  | Srishti  |  Migrated Lab to Markdown and added to course repo in GitLab |\n",
    "\n",
    "\n",
    "\n",
    "<hr>\n",
    "\n",
    "## <h3 align=\"center\"> © IBM Corporation. All rights reserved. <h3/>\n"
   ]
  },
  {
   "cell_type": "markdown",
   "metadata": {},
   "source": [
    "<hr>\n",
    "\n",
    "Copyright &copy; [IBM Developer Skills Network](https://cognitiveclass.ai/?utm_source=bducopyrightlink&utm_medium=dswb&utm_campaign=bdu). This notebook and its source code are released under the terms of the [MIT License](https://opensource.org/license/mit).\n"
   ]
  },
  {
   "cell_type": "code",
   "execution_count": null,
   "metadata": {},
   "outputs": [],
   "source": []
  }
 ],
 "metadata": {
  "kernelspec": {
   "display_name": "Python 3 (ipykernel)",
   "language": "python",
   "name": "python3"
  },
  "language_info": {
   "codemirror_mode": {
    "name": "ipython",
    "version": 3
   },
   "file_extension": ".py",
   "mimetype": "text/x-python",
   "name": "python",
   "nbconvert_exporter": "python",
   "pygments_lexer": "ipython3",
   "version": "3.12.8"
  },
  "prev_pub_hash": "2ab6b5dee853e752327ec5aea92a88a55ca7798d1bf8f8f9f3350d0e187a1d54"
 },
 "nbformat": 4,
 "nbformat_minor": 4
}
