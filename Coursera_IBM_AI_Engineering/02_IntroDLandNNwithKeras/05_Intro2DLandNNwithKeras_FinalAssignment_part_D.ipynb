{
 "cells": [
  {
   "cell_type": "markdown",
   "id": "f305d594-f12a-48d3-9050-0e4a5c5851d5",
   "metadata": {},
   "source": [
    "# Part D - Increase the number of hidden layers\n",
    "\n",
    "Repeat part B but use a neural network with the following instead:\n",
    "\n",
    "- Three hidden layers, each of 10 nodes and ReLU activation function.\n",
    "\n",
    "How does the mean of the mean squared errors compare to that from Step B?"
   ]
  },
  {
   "cell_type": "code",
   "execution_count": 1,
   "id": "4f367f20-facf-44b0-8fef-59f21214c059",
   "metadata": {},
   "outputs": [
    {
     "name": "stderr",
     "output_type": "stream",
     "text": [
      "2025-01-21 18:12:54.227024: E external/local_xla/xla/stream_executor/cuda/cuda_fft.cc:477] Unable to register cuFFT factory: Attempting to register factory for plugin cuFFT when one has already been registered\n",
      "WARNING: All log messages before absl::InitializeLog() is called are written to STDERR\n",
      "E0000 00:00:1737479574.251662  556517 cuda_dnn.cc:8310] Unable to register cuDNN factory: Attempting to register factory for plugin cuDNN when one has already been registered\n",
      "E0000 00:00:1737479574.261202  556517 cuda_blas.cc:1418] Unable to register cuBLAS factory: Attempting to register factory for plugin cuBLAS when one has already been registered\n",
      "2025-01-21 18:12:54.283708: I tensorflow/core/platform/cpu_feature_guard.cc:210] This TensorFlow binary is optimized to use available CPU instructions in performance-critical operations.\n",
      "To enable the following instructions: AVX2 FMA, in other operations, rebuild TensorFlow with the appropriate compiler flags.\n"
     ]
    }
   ],
   "source": [
    "#import libraries\n",
    "import pandas as pd\n",
    "import numpy as np\n",
    "import keras\n",
    "\n",
    "from keras.models import Sequential\n",
    "from keras.layers import Dense, Input\n",
    "\n",
    "from sklearn.model_selection import train_test_split\n",
    "\n",
    "import warnings\n",
    "warnings.simplefilter('ignore', FutureWarning)"
   ]
  },
  {
   "cell_type": "markdown",
   "id": "bd6cadcd-5ce8-4e49-86b6-a1a196f73206",
   "metadata": {},
   "source": [
    "### Import and check data"
   ]
  },
  {
   "cell_type": "code",
   "execution_count": 2,
   "id": "b3afb1e3-b33d-4ecc-856a-790fd3b9f06b",
   "metadata": {},
   "outputs": [
    {
     "data": {
      "text/plain": [
       "(1030, 9)"
      ]
     },
     "execution_count": 2,
     "metadata": {},
     "output_type": "execute_result"
    }
   ],
   "source": [
    "# download the data and read it into a pandas dataframe.\n",
    "concrete_data = pd.read_csv(\"concrete_data.csv\")\n",
    "\n",
    "concrete_data.shape"
   ]
  },
  {
   "cell_type": "code",
   "execution_count": 3,
   "id": "04ee37ff-d7fd-42d1-a252-20cb93962f42",
   "metadata": {},
   "outputs": [],
   "source": [
    "# Already done in part A\n",
    "#concrete_data.head()\n",
    "#concrete_data.tail()\n",
    "#concrete_data.isnull().sum()"
   ]
  },
  {
   "cell_type": "markdown",
   "id": "1c4f4188-9a3d-4400-b983-1d84dcf2281a",
   "metadata": {},
   "source": [
    "#### Split data into predictors and target"
   ]
  },
  {
   "cell_type": "code",
   "execution_count": 4,
   "id": "c83cd534-697a-4853-92ab-416e7db0bb00",
   "metadata": {},
   "outputs": [
    {
     "name": "stdout",
     "output_type": "stream",
     "text": [
      "predictors shape: (1030, 8)\n",
      "target shape: (1030,)\n"
     ]
    }
   ],
   "source": [
    "predictors = concrete_data[concrete_data.columns[concrete_data.columns != 'Strength']] \n",
    "target = concrete_data['Strength'] \n",
    "print(f\"predictors shape: {predictors.shape}\")\n",
    "print(f\"target shape: {target.shape}\")"
   ]
  },
  {
   "cell_type": "markdown",
   "id": "ee5c74dc-31ac-4fdf-ae15-e77d96333e4c",
   "metadata": {},
   "source": [
    "#### Normalize the data"
   ]
  },
  {
   "cell_type": "code",
   "execution_count": 5,
   "id": "73e2fd79-3d77-4443-90c7-75d0cbdbcdd6",
   "metadata": {},
   "outputs": [],
   "source": [
    "predictors_norm = (predictors - predictors.mean()) / predictors.std()"
   ]
  },
  {
   "cell_type": "markdown",
   "id": "3a98174a-49f7-423c-81e2-6c241c473ce4",
   "metadata": {},
   "source": [
    "### Build the neural network"
   ]
  },
  {
   "cell_type": "code",
   "execution_count": 6,
   "id": "93b5491b-a3db-4f84-91ba-282a98def55c",
   "metadata": {},
   "outputs": [],
   "source": [
    "# define regression model with 3 hiden layers now\n",
    "def regression_model():\n",
    "    # create model\n",
    "    model = Sequential()\n",
    "    model.add(Input(shape=(8,)))\n",
    "    model.add(Dense(10, activation='relu'))\n",
    "    model.add(Dense(10, activation='relu'))\n",
    "    model.add(Dense(10, activation='relu'))\n",
    "    model.add(Dense(1))\n",
    "    \n",
    "    # compile model\n",
    "    model.compile(optimizer='adam', loss='mean_squared_error')   \n",
    "    return model"
   ]
  },
  {
   "cell_type": "markdown",
   "id": "4a580587-e291-40f1-92e7-3a015f9a798e",
   "metadata": {},
   "source": [
    "### Repeat 50 times and show mean and standard deviation of the results"
   ]
  },
  {
   "cell_type": "code",
   "execution_count": 7,
   "id": "159cd3ef-6714-42fc-b3f3-eb7760ea88f4",
   "metadata": {},
   "outputs": [
    {
     "name": "stderr",
     "output_type": "stream",
     "text": [
      "2025-01-21 18:12:57.469252: E external/local_xla/xla/stream_executor/cuda/cuda_driver.cc:152] failed call to cuInit: INTERNAL: CUDA error: Failed call to cuInit: UNKNOWN ERROR (303)\n"
     ]
    }
   ],
   "source": [
    "model = regression_model()\n",
    "mean_squared_errors = []"
   ]
  },
  {
   "cell_type": "code",
   "execution_count": 8,
   "id": "f7e58b5b-0582-47a1-906d-031fe6eeb079",
   "metadata": {},
   "outputs": [
    {
     "name": "stdout",
     "output_type": "stream",
     "text": [
      "CPU times: user 6min 30s, sys: 21.5 s, total: 6min 51s\n",
      "Wall time: 5min 42s\n"
     ]
    }
   ],
   "source": [
    "%%time\n",
    "\n",
    "for i in range(50):\n",
    "    # i) split data\n",
    "    x_train, x_test, y_train, y_test = train_test_split(predictors, target, test_size=0.3, random_state=9)\n",
    "    ## ii) fit model\n",
    "    model.fit(x_train, y_train, validation_data=(x_test, y_test), epochs=50, verbose=0)\n",
    "    # iii) evaluate model\n",
    "    mse = model.evaluate(x_test, y_test, verbose=0)\n",
    "    mean_squared_errors.append(mse)"
   ]
  },
  {
   "cell_type": "markdown",
   "id": "d6801140-f4f4-45a0-95c5-c41660c6c2c3",
   "metadata": {},
   "source": [
    "Calculate mean and std. deviation"
   ]
  },
  {
   "cell_type": "code",
   "execution_count": 9,
   "id": "a70c0fb5-09c0-43df-8ee7-7e8b5f760003",
   "metadata": {},
   "outputs": [
    {
     "name": "stdout",
     "output_type": "stream",
     "text": [
      "Mean of calculated mse: 56.93883010864258\n",
      "Standard deviation of calculated mse: 10.916908658774547\n"
     ]
    }
   ],
   "source": [
    "#Calculate the mean and standard deviation of the mean squared errors\n",
    "mse_mean = np.mean(mean_squared_errors)\n",
    "mse_std = np.std(mean_squared_errors)\n",
    "\n",
    "print(f\"Mean of calculated mse: {mse_mean}\")\n",
    "print(f\"Standard deviation of calculated mse: {mse_std}\")"
   ]
  },
  {
   "cell_type": "markdown",
   "id": "818888a9-c6f6-44cf-a52e-884abb08b4cf",
   "metadata": {},
   "source": [
    "          "
   ]
  },
  {
   "cell_type": "markdown",
   "id": "b902c6a4-4383-4c30-9a45-1b0f97299eea",
   "metadata": {},
   "source": [
    "How does the mean of the mean squared errors compare to that from Step B?"
   ]
  },
  {
   "cell_type": "markdown",
   "id": "1fb869b2-aad0-4b24-ac1b-9f3166c3408a",
   "metadata": {},
   "source": [
    "First execution:<br>\n",
    "Mean of calculated mse: 54.81726654052734 <br>\n",
    "Std. deviation of calculated mse: 8.387985485964666  <br>\n",
    "CPU times: user 6min 23s, sys: 21.6 s, total: 6min 44s <br>\n",
    "Wall time: 5min 33s\n",
    "<br>\n",
    "<br>\n",
    "Second execution:<br>\n",
    "Mean of calculated mse:  56.93883010864258  <br>\n",
    "Std. deviation of calculated mse:  10.916908658774547 <br>\n",
    "CPU times: user 6min 30s, sys: 21.5 s, total: 6min 51s <br>\n",
    "Wall time: 5min 42s"
   ]
  },
  {
   "cell_type": "markdown",
   "id": "508977a7-ea9e-4836-bf87-62108dc932e0",
   "metadata": {},
   "source": [
    "There is a .. quite appreciable improvement comparing with part B. (Specially regarding std. deviation). <br>\n",
    "The results here are also similar to those in part C with epoch=100, but it seems that the additional hidden layers achieve the same result in much less time.\n"
   ]
  },
  {
   "cell_type": "markdown",
   "id": "ea58a7b8-c53d-40b7-9f3d-f0ad9d0926a6",
   "metadata": {},
   "source": [
    "<br>"
   ]
  }
 ],
 "metadata": {
  "kernelspec": {
   "display_name": "Python 3 (ipykernel)",
   "language": "python",
   "name": "python3"
  },
  "language_info": {
   "codemirror_mode": {
    "name": "ipython",
    "version": 3
   },
   "file_extension": ".py",
   "mimetype": "text/x-python",
   "name": "python",
   "nbconvert_exporter": "python",
   "pygments_lexer": "ipython3",
   "version": "3.12.8"
  }
 },
 "nbformat": 4,
 "nbformat_minor": 5
}
