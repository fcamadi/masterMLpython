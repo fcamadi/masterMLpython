{
 "cells": [
  {
   "cell_type": "markdown",
   "id": "f305d594-f12a-48d3-9050-0e4a5c5851d5",
   "metadata": {},
   "source": [
    "# Part C - Increase the number of epochs\n",
    "\n",
    "Repeat Part B but use 100 epochs this time for training.<br>\n",
    "<br>\n",
    "How does the mean of the mean squared errors compare to that from Step B?"
   ]
  },
  {
   "cell_type": "code",
   "execution_count": 1,
   "id": "4f367f20-facf-44b0-8fef-59f21214c059",
   "metadata": {},
   "outputs": [
    {
     "name": "stderr",
     "output_type": "stream",
     "text": [
      "2025-01-21 19:32:03.554688: E external/local_xla/xla/stream_executor/cuda/cuda_fft.cc:477] Unable to register cuFFT factory: Attempting to register factory for plugin cuFFT when one has already been registered\n",
      "WARNING: All log messages before absl::InitializeLog() is called are written to STDERR\n",
      "E0000 00:00:1737484323.576693  986003 cuda_dnn.cc:8310] Unable to register cuDNN factory: Attempting to register factory for plugin cuDNN when one has already been registered\n",
      "E0000 00:00:1737484323.583323  986003 cuda_blas.cc:1418] Unable to register cuBLAS factory: Attempting to register factory for plugin cuBLAS when one has already been registered\n",
      "2025-01-21 19:32:03.618932: I tensorflow/core/platform/cpu_feature_guard.cc:210] This TensorFlow binary is optimized to use available CPU instructions in performance-critical operations.\n",
      "To enable the following instructions: AVX2 FMA, in other operations, rebuild TensorFlow with the appropriate compiler flags.\n"
     ]
    }
   ],
   "source": [
    "#import libraries\n",
    "import pandas as pd\n",
    "import numpy as np\n",
    "import keras\n",
    "\n",
    "from keras.models import Sequential\n",
    "from keras.layers import Dense, Input\n",
    "\n",
    "from sklearn.model_selection import train_test_split\n",
    "\n",
    "import warnings\n",
    "warnings.simplefilter('ignore', FutureWarning)"
   ]
  },
  {
   "cell_type": "markdown",
   "id": "bd6cadcd-5ce8-4e49-86b6-a1a196f73206",
   "metadata": {},
   "source": [
    "### Import and check data"
   ]
  },
  {
   "cell_type": "code",
   "execution_count": 2,
   "id": "b3afb1e3-b33d-4ecc-856a-790fd3b9f06b",
   "metadata": {},
   "outputs": [
    {
     "data": {
      "text/plain": [
       "(1030, 9)"
      ]
     },
     "execution_count": 2,
     "metadata": {},
     "output_type": "execute_result"
    }
   ],
   "source": [
    "# download the data and read it into a pandas dataframe.\n",
    "concrete_data = pd.read_csv(\"concrete_data.csv\")\n",
    "\n",
    "concrete_data.shape"
   ]
  },
  {
   "cell_type": "code",
   "execution_count": 3,
   "id": "04ee37ff-d7fd-42d1-a252-20cb93962f42",
   "metadata": {},
   "outputs": [],
   "source": [
    "# Already done in part A\n",
    "#concrete_data.head()\n",
    "#concrete_data.tail()\n",
    "#concrete_data.isnull().sum()"
   ]
  },
  {
   "cell_type": "markdown",
   "id": "1c4f4188-9a3d-4400-b983-1d84dcf2281a",
   "metadata": {},
   "source": [
    "#### Split data into predictors and target"
   ]
  },
  {
   "cell_type": "code",
   "execution_count": 4,
   "id": "c83cd534-697a-4853-92ab-416e7db0bb00",
   "metadata": {},
   "outputs": [
    {
     "name": "stdout",
     "output_type": "stream",
     "text": [
      "predictors shape: (1030, 8)\n",
      "target shape: (1030,)\n"
     ]
    }
   ],
   "source": [
    "predictors = concrete_data[concrete_data.columns[concrete_data.columns != 'Strength']] \n",
    "target = concrete_data['Strength'] \n",
    "print(f\"predictors shape: {predictors.shape}\")\n",
    "print(f\"target shape: {target.shape}\")"
   ]
  },
  {
   "cell_type": "markdown",
   "id": "ee5c74dc-31ac-4fdf-ae15-e77d96333e4c",
   "metadata": {},
   "source": [
    "#### Normalize the data"
   ]
  },
  {
   "cell_type": "code",
   "execution_count": 5,
   "id": "73e2fd79-3d77-4443-90c7-75d0cbdbcdd6",
   "metadata": {},
   "outputs": [
    {
     "data": {
      "text/html": [
       "<div>\n",
       "<style scoped>\n",
       "    .dataframe tbody tr th:only-of-type {\n",
       "        vertical-align: middle;\n",
       "    }\n",
       "\n",
       "    .dataframe tbody tr th {\n",
       "        vertical-align: top;\n",
       "    }\n",
       "\n",
       "    .dataframe thead th {\n",
       "        text-align: right;\n",
       "    }\n",
       "</style>\n",
       "<table border=\"1\" class=\"dataframe\">\n",
       "  <thead>\n",
       "    <tr style=\"text-align: right;\">\n",
       "      <th></th>\n",
       "      <th>Cement</th>\n",
       "      <th>Blast Furnace Slag</th>\n",
       "      <th>Fly Ash</th>\n",
       "      <th>Water</th>\n",
       "      <th>Superplasticizer</th>\n",
       "      <th>Coarse Aggregate</th>\n",
       "      <th>Fine Aggregate</th>\n",
       "      <th>Age</th>\n",
       "    </tr>\n",
       "  </thead>\n",
       "  <tbody>\n",
       "    <tr>\n",
       "      <th>0</th>\n",
       "      <td>2.476712</td>\n",
       "      <td>-0.856472</td>\n",
       "      <td>-0.846733</td>\n",
       "      <td>-0.916319</td>\n",
       "      <td>-0.620147</td>\n",
       "      <td>0.862735</td>\n",
       "      <td>-1.217079</td>\n",
       "      <td>-0.279597</td>\n",
       "    </tr>\n",
       "    <tr>\n",
       "      <th>1</th>\n",
       "      <td>2.476712</td>\n",
       "      <td>-0.856472</td>\n",
       "      <td>-0.846733</td>\n",
       "      <td>-0.916319</td>\n",
       "      <td>-0.620147</td>\n",
       "      <td>1.055651</td>\n",
       "      <td>-1.217079</td>\n",
       "      <td>-0.279597</td>\n",
       "    </tr>\n",
       "    <tr>\n",
       "      <th>2</th>\n",
       "      <td>0.491187</td>\n",
       "      <td>0.795140</td>\n",
       "      <td>-0.846733</td>\n",
       "      <td>2.174405</td>\n",
       "      <td>-1.038638</td>\n",
       "      <td>-0.526262</td>\n",
       "      <td>-2.239829</td>\n",
       "      <td>3.551340</td>\n",
       "    </tr>\n",
       "    <tr>\n",
       "      <th>3</th>\n",
       "      <td>0.491187</td>\n",
       "      <td>0.795140</td>\n",
       "      <td>-0.846733</td>\n",
       "      <td>2.174405</td>\n",
       "      <td>-1.038638</td>\n",
       "      <td>-0.526262</td>\n",
       "      <td>-2.239829</td>\n",
       "      <td>5.055221</td>\n",
       "    </tr>\n",
       "    <tr>\n",
       "      <th>4</th>\n",
       "      <td>-0.790075</td>\n",
       "      <td>0.678079</td>\n",
       "      <td>-0.846733</td>\n",
       "      <td>0.488555</td>\n",
       "      <td>-1.038638</td>\n",
       "      <td>0.070492</td>\n",
       "      <td>0.647569</td>\n",
       "      <td>4.976069</td>\n",
       "    </tr>\n",
       "  </tbody>\n",
       "</table>\n",
       "</div>"
      ],
      "text/plain": [
       "     Cement  Blast Furnace Slag   Fly Ash     Water  Superplasticizer  \\\n",
       "0  2.476712           -0.856472 -0.846733 -0.916319         -0.620147   \n",
       "1  2.476712           -0.856472 -0.846733 -0.916319         -0.620147   \n",
       "2  0.491187            0.795140 -0.846733  2.174405         -1.038638   \n",
       "3  0.491187            0.795140 -0.846733  2.174405         -1.038638   \n",
       "4 -0.790075            0.678079 -0.846733  0.488555         -1.038638   \n",
       "\n",
       "   Coarse Aggregate  Fine Aggregate       Age  \n",
       "0          0.862735       -1.217079 -0.279597  \n",
       "1          1.055651       -1.217079 -0.279597  \n",
       "2         -0.526262       -2.239829  3.551340  \n",
       "3         -0.526262       -2.239829  5.055221  \n",
       "4          0.070492        0.647569  4.976069  "
      ]
     },
     "execution_count": 5,
     "metadata": {},
     "output_type": "execute_result"
    }
   ],
   "source": [
    "predictors_norm = (predictors - predictors.mean()) / predictors.std()\n",
    "predictors_norm.head()"
   ]
  },
  {
   "cell_type": "markdown",
   "id": "3a98174a-49f7-423c-81e2-6c241c473ce4",
   "metadata": {},
   "source": [
    "### Build the neural network"
   ]
  },
  {
   "cell_type": "code",
   "execution_count": 6,
   "id": "93b5491b-a3db-4f84-91ba-282a98def55c",
   "metadata": {},
   "outputs": [],
   "source": [
    "# define same regression model\n",
    "def regression_model():\n",
    "    # create model\n",
    "    model = Sequential()\n",
    "    model.add(Input(shape=(8,)))\n",
    "    model.add(Dense(10, activation='relu'))\n",
    "    model.add(Dense(1))\n",
    "    \n",
    "    # compile model\n",
    "    model.compile(optimizer='adam', loss='mean_squared_error')   \n",
    "    return model"
   ]
  },
  {
   "cell_type": "markdown",
   "id": "4a580587-e291-40f1-92e7-3a015f9a798e",
   "metadata": {},
   "source": [
    "### Repeat 50 times now and show mean and standard deviation of the results\n",
    "\n",
    "This time training the model 100 times"
   ]
  },
  {
   "cell_type": "code",
   "execution_count": 7,
   "id": "2fb9bc13-5133-49d1-b86c-87e1ecc3be1f",
   "metadata": {},
   "outputs": [
    {
     "name": "stderr",
     "output_type": "stream",
     "text": [
      "2025-01-21 19:32:06.855343: E external/local_xla/xla/stream_executor/cuda/cuda_driver.cc:152] failed call to cuInit: INTERNAL: CUDA error: Failed call to cuInit: UNKNOWN ERROR (303)\n"
     ]
    }
   ],
   "source": [
    "model = regression_model()\n",
    "mean_squared_errors = []"
   ]
  },
  {
   "cell_type": "code",
   "execution_count": 8,
   "id": "f7e58b5b-0582-47a1-906d-031fe6eeb079",
   "metadata": {},
   "outputs": [
    {
     "name": "stdout",
     "output_type": "stream",
     "text": [
      "CPU times: user 12min 5s, sys: 40.3 s, total: 12min 45s\n",
      "Wall time: 10min 44s\n"
     ]
    }
   ],
   "source": [
    "%%time\n",
    "\n",
    "for i in range(50):\n",
    "    # i) split data\n",
    "    x_train, x_test, y_train, y_test = train_test_split(predictors, target, test_size=0.3, random_state=9)\n",
    "    ## ii) fit model\n",
    "    model.fit(x_train, y_train, validation_data=(x_test, y_test), epochs=100, verbose=0)\n",
    "    # iii) evaluate model\n",
    "    mse = model.evaluate(x_test, y_test, verbose=0)\n",
    "    mean_squared_errors.append(mse)"
   ]
  },
  {
   "cell_type": "markdown",
   "id": "d6801140-f4f4-45a0-95c5-c41660c6c2c3",
   "metadata": {},
   "source": [
    "Calculate mean and std. deviation"
   ]
  },
  {
   "cell_type": "code",
   "execution_count": 9,
   "id": "a70c0fb5-09c0-43df-8ee7-7e8b5f760003",
   "metadata": {},
   "outputs": [
    {
     "name": "stdout",
     "output_type": "stream",
     "text": [
      "Mean of calculated mse: 57.55678237915039\n",
      "Standard deviation of calculated mse: 10.578683935862834\n"
     ]
    }
   ],
   "source": [
    "#Calculate the mean and standard deviation of the mean squared errors\n",
    "mse_mean = np.mean(mean_squared_errors)\n",
    "mse_std = np.std(mean_squared_errors)\n",
    "\n",
    "print(f\"Mean of calculated mse: {mse_mean}\")\n",
    "print(f\"Standard deviation of calculated mse: {mse_std}\")"
   ]
  },
  {
   "cell_type": "markdown",
   "id": "b902c6a4-4383-4c30-9a45-1b0f97299eea",
   "metadata": {},
   "source": [
    "How does the mean of the mean squared errors compare to that from Step B?"
   ]
  },
  {
   "cell_type": "markdown",
   "id": "1fb869b2-aad0-4b24-ac1b-9f3166c3408a",
   "metadata": {},
   "source": [
    "First execution:<br>\n",
    "Mean of calculated mse: 52.08996025085449  <br>\n",
    "Std. deviation of calculated mse: 15.724933259168857 <br>\n",
    "CPU times: user 12min 9s, sys: 38.7 s, total: 12min 48s <br>\n",
    "Wall time: 10min 46s <br>\n",
    "<br>\n",
    "Second execution:<br>\n",
    "Mean of calculated mse:  57.55678237915039 <br>\n",
    "Std. deviation of calculated mse: 10.578683935862834  <br>\n",
    "CPU times: user 12min 5s, sys: 40.3 s, total: 12min 45s <br>\n",
    "Wall time: 10min 44s"
   ]
  },
  {
   "cell_type": "markdown",
   "id": "67a33071-c7e3-40a7-87ec-5c14a8f7e082",
   "metadata": {},
   "source": [
    "The results are better than in part B. (But at the cost of a much higher execution time because of epoch = 100)"
   ]
  }
 ],
 "metadata": {
  "kernelspec": {
   "display_name": "Python 3 (ipykernel)",
   "language": "python",
   "name": "python3"
  },
  "language_info": {
   "codemirror_mode": {
    "name": "ipython",
    "version": 3
   },
   "file_extension": ".py",
   "mimetype": "text/x-python",
   "name": "python",
   "nbconvert_exporter": "python",
   "pygments_lexer": "ipython3",
   "version": "3.12.8"
  }
 },
 "nbformat": 4,
 "nbformat_minor": 5
}
