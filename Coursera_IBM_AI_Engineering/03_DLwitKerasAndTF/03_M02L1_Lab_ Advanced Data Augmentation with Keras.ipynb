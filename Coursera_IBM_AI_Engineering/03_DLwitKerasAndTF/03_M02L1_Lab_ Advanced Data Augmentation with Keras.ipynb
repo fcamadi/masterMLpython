{
 "cells": [
  {
   "cell_type": "markdown",
   "metadata": {},
   "source": [
    "<center><img src=\"https://cf-courses-data.s3.us.cloud-object-storage.appdomain.cloud/assets/logos/SN_web_lightmode.png\" width=\"200\" alt=\"Skills Network Logo\"  /></center>\n",
    "  \n"
   ]
  },
  {
   "cell_type": "markdown",
   "metadata": {},
   "source": [
    "## Lab: Advanced Data Augmentation with Keras \n"
   ]
  },
  {
   "cell_type": "markdown",
   "metadata": {},
   "source": [
    "##### Estimated time needed:  30 minutes\n"
   ]
  },
  {
   "cell_type": "markdown",
   "metadata": {},
   "source": [
    "You will learn to implement and experiment with various data augmentation techniques using Keras in this lab. \n",
    "\n",
    "#### Learning objectives \n",
    "\n",
    "By the end of this lab, you will: \n",
    "\n",
    "- Implement various data augmentation techniques using Keras \n",
    "- Implement feature-wise and sample-wise normalization on the data set. \n",
    "- Define and apply a custom augmentation function that adds random noise to images. \n",
    "- Display the augmented images to understand the effect of different augmentation techniques.  \n"
   ]
  },
  {
   "cell_type": "markdown",
   "metadata": {},
   "source": [
    "#### Step-by-step instructions \n",
    "\n",
    "##### Step 1: Setup the environment \n",
    "\n",
    "First, you need to import the necessary libraries and load the data set as follows: \n"
   ]
  },
  {
   "cell_type": "code",
   "execution_count": null,
   "metadata": {},
   "outputs": [],
   "source": [
    "# Install required libraries\n",
    "!pip install tensorflow==2.16.2 matplotlib==3.9.1 scipy\n",
    "\n",
    "# Import necessary libraries\n",
    "import tensorflow as tf\n",
    "import numpy as np\n",
    "import matplotlib.pyplot as plt\n",
    "from tensorflow.keras.preprocessing.image import ImageDataGenerator\n",
    "\n",
    "# Load CIFAR-10 dataset for training images\n",
    "(x_train, y_train), (x_test, y_test) = tf.keras.datasets.cifar10.load_data()\n",
    "\n",
    "# Normalize the pixel values for augmentation\n",
    "x_train = x_train.astype('float32') / 255.0\n",
    "x_test = x_test.astype('float32') / 255.0\n",
    "\n",
    "# Display a sample of the training images\n",
    "plt.figure(figsize=(10, 10))\n",
    "for i in range(16):\n",
    "    plt.subplot(4, 4, i+1)\n",
    "    plt.imshow(x_train[i])\n",
    "    plt.axis('off')\n",
    "plt.show()\n"
   ]
  },
  {
   "cell_type": "markdown",
   "metadata": {},
   "source": [
    "### **Create sample.jpg for the Lab**\n"
   ]
  },
  {
   "cell_type": "code",
   "execution_count": null,
   "metadata": {},
   "outputs": [],
   "source": [
    "from PIL import Image, ImageDraw\n",
    "\n",
    "# Create a blank white image\n",
    "image = Image.new('RGB', (224, 224), color = (255, 255, 255))\n",
    "\n",
    "# Draw a red square\n",
    "draw = ImageDraw.Draw(image)\n",
    "draw.rectangle([(50, 50), (174, 174)], fill=(255, 0, 0))\n",
    "\n",
    "# Save the image\n",
    "image.save('sample.jpg')\n"
   ]
  },
  {
   "cell_type": "code",
   "execution_count": null,
   "metadata": {},
   "outputs": [],
   "source": [
    "import numpy as np \n",
    "import matplotlib.pyplot as plt \n",
    "from tensorflow.keras.preprocessing.image import ImageDataGenerator, load_img, img_to_array \n",
    "\n",
    "# Load a sample image \n",
    "img_path = 'sample.jpg' \n",
    "img = load_img(img_path) \n",
    "x = img_to_array(img) \n",
    "x = np.expand_dims(x, axis=0) "
   ]
  },
  {
   "cell_type": "markdown",
   "metadata": {},
   "source": [
    "In the code: \n",
    "- `!pip install tensorflow==2.16.2 matplotlib==3.9.1` installs the specified versions of `TensorFlow and Matplotlib`.  \n",
    "\n",
    "- `tensorflow` is the main library for machine learning in Python.  \n",
    "\n",
    "- `Model` is used to create a model with the Functional API. \n",
    "\n",
    "- `Input` and ‘Dense’ are types of layers that you will use in your model.  \n"
   ]
  },
  {
   "cell_type": "markdown",
   "metadata": {},
   "source": [
    "#### Step 2: Basic data augmentation \n",
    "\n",
    "Apply basic augmentations such as rotation, width shift, height shift, shear, zoom, and horizontal flip using the ImageDataGenerator as follows:\n"
   ]
  },
  {
   "cell_type": "code",
   "execution_count": null,
   "metadata": {},
   "outputs": [],
   "source": [
    "import numpy as np\n",
    "import matplotlib.pyplot as plt\n",
    "from tensorflow.keras.preprocessing.image import ImageDataGenerator, load_img, img_to_array\n",
    "\n",
    "# Load the sample image\n",
    "img_path = 'sample.jpg'\n",
    "img = load_img(img_path)\n",
    "x = img_to_array(img)\n",
    "x = np.expand_dims(x, axis=0)\n",
    "\n",
    "# Create an instance of ImageDataGenerator with basic augmentations\n",
    "datagen = ImageDataGenerator(\n",
    "    rotation_range=40,\n",
    "    width_shift_range=0.2,\n",
    "    height_shift_range=0.2,\n",
    "    shear_range=0.2,\n",
    "    zoom_range=0.2,\n",
    "    horizontal_flip=True,\n",
    "    fill_mode='nearest'\n",
    ")\n",
    "\n",
    "# Generate batches of augmented images\n",
    "i = 0\n",
    "for batch in datagen.flow(x, batch_size=1):\n",
    "    plt.figure(i)\n",
    "    imgplot = plt.imshow(batch[0].astype('uint8'))\n",
    "    i += 1\n",
    "    if i % 4 == 0:\n",
    "        break\n",
    "\n",
    "plt.show()\n"
   ]
  },
  {
   "cell_type": "markdown",
   "metadata": {},
   "source": [
    "\n",
    "#### Step 3: Feature-wise and sample-wise normalization \n",
    "\n",
    "Implement feature-wise and sample-wise normalization on the data set as follows:    \n"
   ]
  },
  {
   "cell_type": "code",
   "execution_count": null,
   "metadata": {},
   "outputs": [],
   "source": [
    "# Create an instance of ImageDataGenerator with normalization options\n",
    "datagen = ImageDataGenerator(\n",
    "    featurewise_center=True,\n",
    "    featurewise_std_normalization=True,\n",
    "    samplewise_center=True,\n",
    "    samplewise_std_normalization=True\n",
    ")\n",
    "\n",
    "# Load the sample image again and fit the generator (normally done on the training set)\n",
    "datagen.fit(x)\n",
    "\n",
    "# Generate batches of normalized images\n",
    "i = 0\n",
    "for batch in datagen.flow(x, batch_size=1):\n",
    "    plt.figure(i)\n",
    "    imgplot = plt.imshow(batch[0].astype('uint8'))\n",
    "    i += 1\n",
    "    if i % 4 == 0:\n",
    "        break\n",
    "\n",
    "plt.show()\n"
   ]
  },
  {
   "cell_type": "markdown",
   "metadata": {},
   "source": [
    "\n",
    "\n",
    "#### Step 4: Custom data augmentation function \n",
    "\n",
    "Next, you define and apply a custom augmentation function that adds random noise to images as follows: \n"
   ]
  },
  {
   "cell_type": "code",
   "execution_count": null,
   "metadata": {},
   "outputs": [],
   "source": [
    "# Define a custom data augmentation function\n",
    "def add_random_noise(image):\n",
    "    noise = np.random.normal(0, 0.1, image.shape)\n",
    "    return image + noise\n",
    "\n",
    "# Create an instance of ImageDataGenerator with the custom augmentation\n",
    "datagen = ImageDataGenerator(preprocessing_function=add_random_noise)\n",
    "\n",
    "# Generate batches of augmented images with noise\n",
    "i = 0\n",
    "for batch in datagen.flow(x, batch_size=1):\n",
    "    plt.figure(i)\n",
    "    imgplot = plt.imshow(batch[0].astype('uint8'))\n",
    "    i += 1\n",
    "    if i % 4 == 0:\n",
    "        break\n",
    "\n",
    "plt.show()"
   ]
  },
  {
   "cell_type": "markdown",
   "metadata": {},
   "source": [
    "#### Step 5: Visualize augmented images \n",
    "\n",
    "Visualize the augmented images to understand the impact of each augmentation technique. \n"
   ]
  },
  {
   "cell_type": "code",
   "execution_count": null,
   "metadata": {},
   "outputs": [],
   "source": [
    "# Visualizing multiple augmented versions of the same image\n",
    "plt.figure(figsize=(10, 10))\n",
    "for i, batch in enumerate(datagen.flow(x, batch_size=1)):\n",
    "    if i >= 4:  # Show only 4 versions\n",
    "        break\n",
    "    plt.subplot(2, 2, i+1)\n",
    "    plt.imshow(batch[0].astype('uint8'))\n",
    "plt.show()\n"
   ]
  },
  {
   "cell_type": "markdown",
   "metadata": {},
   "source": [
    "\n",
    "This Markdown explanation will provide clarity in a Jupyter Notebook, making the code and its purpose easier to understand.\n"
   ]
  },
  {
   "cell_type": "markdown",
   "metadata": {},
   "source": [
    "## Practice Exercises:\n"
   ]
  },
  {
   "cell_type": "markdown",
   "metadata": {},
   "source": [
    "### Exercise 1: Apply and Visualize Different Augmentation Techniques \n",
    "\n",
    "  \n",
    "\n",
    "Objective: Experiment with different augmentation techniques and visualize their effects. \n"
   ]
  },
  {
   "cell_type": "markdown",
   "metadata": {},
   "source": [
    "### Instructions: \n",
    "\n",
    "1. Create an instance of `ImageDataGenerator` with various augmentations such as rotation, width shift, height shift, shear, zoom, and horizontal flip. \n",
    "\n",
    "2. Generate and visualize augmented images. \n"
   ]
  },
  {
   "cell_type": "code",
   "execution_count": null,
   "metadata": {},
   "outputs": [],
   "source": []
  },
  {
   "cell_type": "markdown",
   "metadata": {},
   "source": [
    "<details>\n",
    "    <summary>Click here for Solution</summary>\n",
    "\n",
    "```python\n",
    "\n",
    " \n",
    "\n",
    "from tensorflow.keras.preprocessing.image import ImageDataGenerator, load_img, img_to_array, array_to_img  \n",
    "\n",
    "import matplotlib.pyplot as plt  \n",
    "\n",
    "import numpy as np  \n",
    "\n",
    " \n",
    "\n",
    "# Define the augmentation parameters  \n",
    "\n",
    "datagen = ImageDataGenerator(  \n",
    "\n",
    "    rotation_range=40,  \n",
    "\n",
    "    width_shift_range=0.2,  \n",
    "\n",
    "    height_shift_range=0.2,  \n",
    "\n",
    "    shear_range=0.2,  \n",
    "\n",
    "    zoom_range=0.2,  \n",
    "\n",
    "    horizontal_flip=True,  \n",
    "\n",
    "    fill_mode='nearest'  \n",
    "\n",
    ")  \n",
    "\n",
    " \n",
    "\n",
    "# Load and preprocess the dataset  \n",
    "\n",
    "image_paths = [  \n",
    "\n",
    "    'sample_images/training_images1.jpg',  \n",
    "\n",
    "    'sample_images/training_images2.jpg',  \n",
    "\n",
    "    'sample_images/training_images3.jpg'  \n",
    "\n",
    "]  \n",
    "\n",
    " \n",
    "\n",
    "training_images = []  \n",
    "\n",
    "for image_path in image_paths:  \n",
    "\n",
    "    img = load_img(image_path, target_size=(224, 224))  \n",
    "\n",
    "    img_array = img_to_array(img)  \n",
    "\n",
    "    training_images.append(img_array)  \n",
    "\n",
    "training_images = np.array(training_images)  \n",
    "\n",
    " \n",
    "\n",
    "# Generate and visualize augmented images  \n",
    "\n",
    "i = 0  \n",
    "\n",
    "for batch in datagen.flow(training_images, batch_size=1):  \n",
    "\n",
    "    plt.figure(i)  \n",
    "\n",
    "    imgplot = plt.imshow(array_to_img(batch[0]))  \n",
    "\n",
    "    plt.title(f'Augmented Image {i + 1}')  \n",
    "\n",
    "    i += 1  \n",
    "\n",
    "    if i % 4 == 0:  \n",
    "\n",
    "        break  \n",
    "\n",
    "plt.show()  \n",
    "\n",
    " ```   \n",
    "\n",
    "</details>\n"
   ]
  },
  {
   "cell_type": "markdown",
   "metadata": {},
   "source": [
    "### Exercise 2: Implement Feature-wise and Sample-wise Normalization\n",
    " \n",
    "Objective: Apply feature-wise and sample-wise normalization to the dataset.\n",
    " \n",
    "Instructions:\n",
    "1. Create an instance of `ImageDataGenerator` with feature-wise and sample-wise normalization.\n",
    "2. Fit the `ImageDataGenerator` to the data set and visualize the normalized images.\n"
   ]
  },
  {
   "cell_type": "code",
   "execution_count": null,
   "metadata": {},
   "outputs": [],
   "source": []
  },
  {
   "cell_type": "markdown",
   "metadata": {},
   "source": [
    "<details>\n",
    "    <summary>Click here for Solution</summary>\n",
    "\n",
    "```python\n",
    " \n",
    "\n",
    "# Create an instance of ImageDataGenerator with normalization options  \n",
    "\n",
    "datagen = ImageDataGenerator(  \n",
    "\n",
    "    featurewise_center=True,  \n",
    "\n",
    "    featurewise_std_normalization=True,  \n",
    "\n",
    "    samplewise_center=True,  \n",
    "\n",
    "    samplewise_std_normalization=True  \n",
    "\n",
    ")  \n",
    "\n",
    " \n",
    "\n",
    "# Fit the ImageDataGenerator to the dataset  \n",
    "\n",
    "datagen.fit(training_images)  \n",
    "\n",
    " \n",
    "\n",
    "# Generate and visualize normalized images  \n",
    "\n",
    "i = 0  \n",
    "\n",
    "for batch in datagen.flow(training_images, batch_size=1):  \n",
    "\n",
    "    plt.figure(i)  \n",
    "\n",
    "    imgplot = plt.imshow(array_to_img(batch[0]))  \n",
    "\n",
    "    plt.title(f'Normalized Image {i + 1}')  \n",
    "\n",
    "    i += 1  \n",
    "\n",
    "    if i % 4 == 0:  \n",
    "\n",
    "        break  \n",
    "\n",
    "plt.show()  \n",
    "\n",
    " \n",
    "\n",
    " ```   \n",
    "\n",
    "</details>\n",
    "\n",
    "  \n"
   ]
  },
  {
   "cell_type": "markdown",
   "metadata": {},
   "source": [
    "### Exercise 3: Create and Apply a Custom Data Augmentation Function\n",
    " \n",
    "Objective: Define a custom data augmentation function that adds random noise to images and apply it.\n",
    " \n",
    "Instructions:\n",
    "1. Define a function that adds random noise to an image.\n",
    "2. Create an instance of `ImageDataGenerator` with the custom augmentation function.\n",
    "3. Generate and visualize augmented images.\n"
   ]
  },
  {
   "cell_type": "code",
   "execution_count": null,
   "metadata": {},
   "outputs": [],
   "source": []
  },
  {
   "cell_type": "markdown",
   "metadata": {},
   "source": [
    "<details>\n",
    "    <summary>Click here for Solution</summary>\n",
    "\n",
    "```python\n",
    "\n",
    " \n",
    "\n",
    "# Define a custom augmentation function to add random noise  \n",
    "\n",
    "def add_random_noise(image):  \n",
    "\n",
    "    noise = np.random.normal(0, 0.1, image.shape)  \n",
    "\n",
    "    return image + noise  \n",
    "\n",
    " \n",
    "\n",
    "# Create an instance of ImageDataGenerator with custom augmentation  \n",
    "\n",
    "datagen = ImageDataGenerator(preprocessing_function=add_random_noise)  \n",
    "\n",
    " \n",
    "\n",
    "# Generate and visualize augmented images  \n",
    "\n",
    "i = 0  \n",
    "\n",
    "for batch in datagen.flow(training_images, batch_size=1):  \n",
    "\n",
    "    plt.figure(i)  \n",
    "\n",
    "    imgplot = plt.imshow(array_to_img(batch[0]))  \n",
    "\n",
    "    plt.title(f'Noisy Image {i + 1}')  \n",
    "\n",
    "    i += 1  \n",
    "\n",
    "    if i % 4 == 0:  \n",
    "\n",
    "        break  \n",
    "\n",
    "plt.show()  \n",
    "\n",
    " ```   \n",
    "\n",
    "</details>\n"
   ]
  },
  {
   "cell_type": "markdown",
   "metadata": {},
   "source": [
    "## **Conclusion**\n",
    "Congratulations! You have successfully implemented and experimented with various data augmentation techniques using Keras. This lab exercise demonstrated how to use Keras to enhance your datasets through augmentation and normalization techniques. \n"
   ]
  },
  {
   "cell_type": "markdown",
   "metadata": {},
   "source": [
    "## Authors\n"
   ]
  },
  {
   "cell_type": "markdown",
   "metadata": {},
   "source": [
    "Skillup \n"
   ]
  },
  {
   "cell_type": "markdown",
   "metadata": {},
   "source": [
    "Copyright © IBM Corporation. All rights reserved.\n"
   ]
  }
 ],
 "metadata": {
  "kernelspec": {
   "display_name": "Python 3 (ipykernel)",
   "language": "python",
   "name": "python3"
  },
  "language_info": {
   "codemirror_mode": {
    "name": "ipython",
    "version": 3
   },
   "file_extension": ".py",
   "mimetype": "text/x-python",
   "name": "python",
   "nbconvert_exporter": "python",
   "pygments_lexer": "ipython3",
   "version": "3.12.8"
  },
  "prev_pub_hash": "2f1f7cc6cc119cc4a7793f3c85e225e54885fff95809aab0c888496c80bd7719"
 },
 "nbformat": 4,
 "nbformat_minor": 4
}
