{
 "cells": [
  {
   "cell_type": "markdown",
   "id": "b476b3a2-3a92-47a9-82c2-33ad63fa5a2e",
   "metadata": {},
   "source": [
    "## How to use gpu power\n",
    "\n",
    "Create a conda environment with these dependencies:</br>\n",
    "(no '< / b r >' of course)\n",
    "\n",
    "channels:\n",
    "  - anaconda\n",
    "  - conda-forge\n",
    "  - defaults\n",
    "  - https://repo.anaconda.com/pkgs/main\n",
    "  - https://repo.anaconda.com/pkgs/r\n",
    "</br>\n",
    "dependencies:\n",
    "  - python=3.11.11\n",
    "  - keras==3.6.0\n",
    "  - tensorflow-base=2.17.0\n",
    "</br>\n",
    "prefix: /home/francd/anaconda3/envs/masterMLpythonGPU\n",
    "\n",
    "\n",
    "And this command:\n",
    "\n",
    "   conda env create -f masterMLpythonGPU.yml \n",
    "   "
   ]
  },
  {
   "cell_type": "markdown",
   "id": "57a2cc4a-7542-461a-8e78-376b5112da78",
   "metadata": {},
   "source": [
    "### Install tensorflow-gpu to add gpu support:\n",
    "\n",
    "execute:</br>\n",
    "&nbsp;&nbsp;&nbsp;conda install conda-forge::tensorflow-gpu   \n",
    "&nbsp;&nbsp;&nbsp;conda install conda-forge::jupyterlab\n",
    "\n",
    "When starting jupyter-lab, it crashes with message error</br>\n",
    "\n",
    " \"ImportError: /home/francd/anaconda3/envs/masterMLpythonConda/lib/python3.11/lib-dynload/_sqlite3.cpython-311-x86_64-linux-gnu.so: undefined symbol: sqlite3_deserialize\"</br>\n",
    "  \n",
    "Update all packages:  \n",
    "&nbsp;&nbsp;&nbsp;conda  update --all\n",
    "\n",
    "And it is solved!!!!\n",
    "</br>\n",
    "</br>\n",
    "\n",
    "### To allow gpu use, add a new kernel:</br>  \n",
    "\n",
    "Activate environment: </br>\n",
    "&nbsp;&nbsp;&nbsp;conda activate masterMLpythonGPU\n",
    "\n",
    "Create kernel for that environment: </br>\n",
    "&nbsp;&nbsp;&nbsp;ipython kernel install --user --name=masterMLpythonGPU\n",
    "\n",
    "Output:</br>\n",
    "&nbsp;&nbsp;&nbsp;(masterMLpythonGPU) francd@debianato:~/git/masterMLpython$   ipython kernel install --user --name=masterMLpythonGPU  </br>\n",
    "&nbsp;&nbsp;&nbsp;Installed kernelspec masterMLpythonGPU in /home/francd/.local/share/jupyter/kernels/mastermlpythongpu\n",
    "\n",
    "\n",
    "\n",
    "\n",
    "\n",
    "Very useful info: </br>\n",
    "&nbsp;&nbsp;&nbsp;https://www.techentice.com/how-to-make-jupyter-notebook-to-run-on-gpu/\n"
   ]
  },
  {
   "cell_type": "markdown",
   "id": "34e61a31-8913-48f5-9e65-19b21e34bfde",
   "metadata": {},
   "source": [
    "Check everything:"
   ]
  },
  {
   "cell_type": "code",
   "execution_count": 8,
   "id": "dede3958-1182-4524-8a3b-5d10a3dc03d3",
   "metadata": {},
   "outputs": [],
   "source": [
    "import tensorflow as tf"
   ]
  },
  {
   "cell_type": "code",
   "execution_count": 2,
   "id": "943ad34f-5b98-4aa2-9a10-21cda375c3af",
   "metadata": {},
   "outputs": [
    {
     "data": {
      "text/plain": [
       "True"
      ]
     },
     "execution_count": 2,
     "metadata": {},
     "output_type": "execute_result"
    }
   ],
   "source": [
    "tf.test.is_built_with_cuda()"
   ]
  },
  {
   "cell_type": "code",
   "execution_count": 7,
   "id": "1fee59de-1a1b-4a47-b0d9-c578f61d74f7",
   "metadata": {},
   "outputs": [
    {
     "data": {
      "text/plain": [
       "[PhysicalDevice(name='/physical_device:CPU:0', device_type='CPU'),\n",
       " PhysicalDevice(name='/physical_device:GPU:0', device_type='GPU')]"
      ]
     },
     "execution_count": 7,
     "metadata": {},
     "output_type": "execute_result"
    }
   ],
   "source": [
    "tf.config.list_physical_devices()"
   ]
  },
  {
   "cell_type": "code",
   "execution_count": 9,
   "id": "be9c39ed-9b5c-45ea-beea-973c2b147e8e",
   "metadata": {},
   "outputs": [
    {
     "name": "stderr",
     "output_type": "stream",
     "text": [
      "2025-03-23 19:36:15.720328: I tensorflow/core/common_runtime/gpu/gpu_device.cc:2021] Created device /device:GPU:0 with 219 MB memory:  -> device: 0, name: NVIDIA GeForce GTX 1050, pci bus id: 0000:01:00.0, compute capability: 6.1\n"
     ]
    },
    {
     "data": {
      "text/plain": [
       "[name: \"/device:CPU:0\"\n",
       " device_type: \"CPU\"\n",
       " memory_limit: 268435456\n",
       " locality {\n",
       " }\n",
       " incarnation: 5117844158520840246\n",
       " xla_global_id: -1,\n",
       " name: \"/device:GPU:0\"\n",
       " device_type: \"GPU\"\n",
       " memory_limit: 229965824\n",
       " locality {\n",
       "   bus_id: 1\n",
       "   links {\n",
       "   }\n",
       " }\n",
       " incarnation: 10408102231106246848\n",
       " physical_device_desc: \"device: 0, name: NVIDIA GeForce GTX 1050, pci bus id: 0000:01:00.0, compute capability: 6.1\"\n",
       " xla_global_id: 416903419]"
      ]
     },
     "execution_count": 9,
     "metadata": {},
     "output_type": "execute_result"
    }
   ],
   "source": [
    "from tensorflow.python.client import device_lib\n",
    "\n",
    "device_lib.list_local_devices()\n",
    "\n",
    "#to remove the warnings, run in a console:\n",
    "# for a in /sys/bus/pci/devices/*; do echo 0 | sudo tee -a $a/numa_node; done"
   ]
  },
  {
   "cell_type": "markdown",
   "id": "75069a4c-a690-4466-b103-2b25f837028e",
   "metadata": {},
   "source": [
    "### To watch gpu memory usage\n",
    "\n",
    "watch -n 2 nvidia-smi"
   ]
  },
  {
   "cell_type": "markdown",
   "id": "5e8ea1eb-b3c7-4115-bc1f-75d3d232db47",
   "metadata": {},
   "source": [
    "### Session info"
   ]
  },
  {
   "cell_type": "code",
   "execution_count": 5,
   "id": "ff42624a-91ef-43ec-ba74-c4aabe803925",
   "metadata": {},
   "outputs": [
    {
     "name": "stdout",
     "output_type": "stream",
     "text": [
      "-----\n",
      "session_info        1.0.0\n",
      "tensorflow          2.17.0\n",
      "-----\n",
      "IPython             8.30.0\n",
      "jupyter_client      8.6.3\n",
      "jupyter_core        5.7.2\n",
      "jupyterlab          4.3.6\n",
      "-----\n",
      "Python 3.11.8 | packaged by conda-forge | (main, Feb 16 2024, 20:53:32) [GCC 12.3.0]\n",
      "Linux-6.1.0-32-amd64-x86_64-with-glibc2.36\n",
      "-----\n",
      "Session information updated at 2025-03-23 19:18\n"
     ]
    }
   ],
   "source": [
    "import session_info\n",
    "session_info.show(html=False)"
   ]
  }
 ],
 "metadata": {
  "kernelspec": {
   "display_name": "masterMLpythonConda",
   "language": "python",
   "name": "mastermlpythonconda"
  },
  "language_info": {
   "codemirror_mode": {
    "name": "ipython",
    "version": 3
   },
   "file_extension": ".py",
   "mimetype": "text/x-python",
   "name": "python",
   "nbconvert_exporter": "python",
   "pygments_lexer": "ipython3",
   "version": "3.11.8"
  }
 },
 "nbformat": 4,
 "nbformat_minor": 5
}
