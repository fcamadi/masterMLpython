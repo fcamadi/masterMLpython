{
 "cells": [
  {
   "cell_type": "markdown",
   "id": "b476b3a2-3a92-47a9-82c2-33ad63fa5a2e",
   "metadata": {},
   "source": [
    "## How to use gpu power\n",
    "\n",
    "Create a conda environment with these dependencies:</br>\n",
    "(no '< / b r >' of course)\n",
    "\n",
    "channels:\n",
    "  - anaconda\n",
    "  - conda-forge\n",
    "  - defaults\n",
    "  - https://repo.anaconda.com/pkgs/main\n",
    "  - https://repo.anaconda.com/pkgs/r\n",
    "</br>\n",
    "dependencies:\n",
    "  - python=3.11.11\n",
    "  - keras==3.6.0\n",
    "  - tensorflow-base=2.17.0\n",
    "</br>\n",
    "prefix: /home/francd/anaconda3/envs/masterMLpythonGPU\n",
    "\n",
    "\n",
    "And this command:\n",
    "\n",
    "   conda env create -f masterMLpythonGPU.yml \n",
    "   "
   ]
  },
  {
   "cell_type": "markdown",
   "id": "57a2cc4a-7542-461a-8e78-376b5112da78",
   "metadata": {},
   "source": [
    "### Install tensorflow-gpu to add gpu support:\n",
    "\n",
    "execute:</br>\n",
    "&nbsp;&nbsp;&nbsp;conda install conda-forge::tensorflow-gpu   \n",
    "&nbsp;&nbsp;&nbsp;conda install conda-forge::jupyterlab\n",
    "\n",
    "When starting jupyter-lab, it crashes with message error</br>\n",
    "\n",
    " \"ImportError: /home/francd/anaconda3/envs/masterMLpythonConda/lib/python3.11/lib-dynload/_sqlite3.cpython-311-x86_64-linux-gnu.so: undefined symbol: sqlite3_deserialize\"</br>\n",
    "  \n",
    "Update all packages:  \n",
    "&nbsp;&nbsp;&nbsp;conda  update --all\n",
    "\n",
    "And it is solved!!!!\n",
    "</br>\n",
    "</br>\n",
    "\n",
    "### To allow gpu use, add a new kernel:</br>  \n",
    "\n",
    "Activate environment: </br>\n",
    "&nbsp;&nbsp;&nbsp;conda activate masterMLpythonGPU\n",
    "\n",
    "Create kernel for that environment: </br>\n",
    "&nbsp;&nbsp;&nbsp;ipython kernel install --user --name=masterMLpythonGPU\n",
    "\n",
    "Output:</br>\n",
    "&nbsp;&nbsp;&nbsp;(masterMLpythonGPU) francd@debianato:~/git/masterMLpython$   ipython kernel install --user --name=masterMLpythonGPU  </br>\n",
    "&nbsp;&nbsp;&nbsp;Installed kernelspec masterMLpythonGPU in /home/francd/.local/share/jupyter/kernels/mastermlpythongpu\n",
    "\n",
    "\n",
    "\n",
    "\n",
    "\n",
    "Very useful info: </br>\n",
    "&nbsp;&nbsp;&nbsp;https://www.techentice.com/how-to-make-jupyter-notebook-to-run-on-gpu/\n"
   ]
  },
  {
   "cell_type": "markdown",
   "id": "34e61a31-8913-48f5-9e65-19b21e34bfde",
   "metadata": {},
   "source": [
    "Check everything:"
   ]
  },
  {
   "cell_type": "code",
   "execution_count": 1,
   "id": "dede3958-1182-4524-8a3b-5d10a3dc03d3",
   "metadata": {},
   "outputs": [
    {
     "name": "stderr",
     "output_type": "stream",
     "text": [
      "2025-03-07 16:33:36.682752: E external/local_xla/xla/stream_executor/cuda/cuda_fft.cc:485] Unable to register cuFFT factory: Attempting to register factory for plugin cuFFT when one has already been registered\n",
      "2025-03-07 16:33:36.700126: E external/local_xla/xla/stream_executor/cuda/cuda_dnn.cc:8454] Unable to register cuDNN factory: Attempting to register factory for plugin cuDNN when one has already been registered\n",
      "2025-03-07 16:33:36.704828: E external/local_xla/xla/stream_executor/cuda/cuda_blas.cc:1452] Unable to register cuBLAS factory: Attempting to register factory for plugin cuBLAS when one has already been registered\n",
      "2025-03-07 16:33:36.717140: I tensorflow/core/platform/cpu_feature_guard.cc:210] This TensorFlow binary is optimized to use available CPU instructions in performance-critical operations.\n",
      "To enable the following instructions: SSE4.1 SSE4.2 AVX AVX2 FMA, in other operations, rebuild TensorFlow with the appropriate compiler flags.\n"
     ]
    }
   ],
   "source": [
    "import tensorflow as tf\n"
   ]
  },
  {
   "cell_type": "code",
   "execution_count": 2,
   "id": "943ad34f-5b98-4aa2-9a10-21cda375c3af",
   "metadata": {},
   "outputs": [
    {
     "data": {
      "text/plain": [
       "True"
      ]
     },
     "execution_count": 2,
     "metadata": {},
     "output_type": "execute_result"
    }
   ],
   "source": [
    "tf.test.is_built_with_cuda()"
   ]
  },
  {
   "cell_type": "code",
   "execution_count": 3,
   "id": "1fee59de-1a1b-4a47-b0d9-c578f61d74f7",
   "metadata": {},
   "outputs": [
    {
     "name": "stderr",
     "output_type": "stream",
     "text": [
      "WARNING: All log messages before absl::InitializeLog() is called are written to STDERR\n",
      "I0000 00:00:1741361765.843888   64871 cuda_executor.cc:1015] successful NUMA node read from SysFS had negative value (-1), but there must be at least one NUMA node, so returning NUMA node zero. See more at https://github.com/torvalds/linux/blob/v6.0/Documentation/ABI/testing/sysfs-bus-pci#L344-L355\n",
      "I0000 00:00:1741361765.894283   64871 cuda_executor.cc:1015] successful NUMA node read from SysFS had negative value (-1), but there must be at least one NUMA node, so returning NUMA node zero. See more at https://github.com/torvalds/linux/blob/v6.0/Documentation/ABI/testing/sysfs-bus-pci#L344-L355\n",
      "I0000 00:00:1741361765.894464   64871 cuda_executor.cc:1015] successful NUMA node read from SysFS had negative value (-1), but there must be at least one NUMA node, so returning NUMA node zero. See more at https://github.com/torvalds/linux/blob/v6.0/Documentation/ABI/testing/sysfs-bus-pci#L344-L355\n"
     ]
    },
    {
     "data": {
      "text/plain": [
       "[PhysicalDevice(name='/physical_device:CPU:0', device_type='CPU'),\n",
       " PhysicalDevice(name='/physical_device:GPU:0', device_type='GPU')]"
      ]
     },
     "execution_count": 3,
     "metadata": {},
     "output_type": "execute_result"
    }
   ],
   "source": [
    "\n",
    "\n",
    "tf.config.list_physical_devices()"
   ]
  },
  {
   "cell_type": "code",
   "execution_count": 6,
   "id": "be9c39ed-9b5c-45ea-beea-973c2b147e8e",
   "metadata": {},
   "outputs": [
    {
     "name": "stderr",
     "output_type": "stream",
     "text": [
      "I0000 00:00:1741361881.869154   64871 cuda_executor.cc:1015] successful NUMA node read from SysFS had negative value (-1), but there must be at least one NUMA node, so returning NUMA node zero. See more at https://github.com/torvalds/linux/blob/v6.0/Documentation/ABI/testing/sysfs-bus-pci#L344-L355\n",
      "I0000 00:00:1741361881.870170   64871 cuda_executor.cc:1015] successful NUMA node read from SysFS had negative value (-1), but there must be at least one NUMA node, so returning NUMA node zero. See more at https://github.com/torvalds/linux/blob/v6.0/Documentation/ABI/testing/sysfs-bus-pci#L344-L355\n",
      "I0000 00:00:1741361881.870630   64871 cuda_executor.cc:1015] successful NUMA node read from SysFS had negative value (-1), but there must be at least one NUMA node, so returning NUMA node zero. See more at https://github.com/torvalds/linux/blob/v6.0/Documentation/ABI/testing/sysfs-bus-pci#L344-L355\n",
      "I0000 00:00:1741361881.962311   64871 cuda_executor.cc:1015] successful NUMA node read from SysFS had negative value (-1), but there must be at least one NUMA node, so returning NUMA node zero. See more at https://github.com/torvalds/linux/blob/v6.0/Documentation/ABI/testing/sysfs-bus-pci#L344-L355\n",
      "I0000 00:00:1741361881.962493   64871 cuda_executor.cc:1015] successful NUMA node read from SysFS had negative value (-1), but there must be at least one NUMA node, so returning NUMA node zero. See more at https://github.com/torvalds/linux/blob/v6.0/Documentation/ABI/testing/sysfs-bus-pci#L344-L355\n",
      "I0000 00:00:1741361881.962642   64871 cuda_executor.cc:1015] successful NUMA node read from SysFS had negative value (-1), but there must be at least one NUMA node, so returning NUMA node zero. See more at https://github.com/torvalds/linux/blob/v6.0/Documentation/ABI/testing/sysfs-bus-pci#L344-L355\n",
      "2025-03-07 16:38:01.962754: I tensorflow/core/common_runtime/gpu/gpu_device.cc:2021] Created device /device:GPU:0 with 3402 MB memory:  -> device: 0, name: NVIDIA GeForce GTX 1050, pci bus id: 0000:01:00.0, compute capability: 6.1\n"
     ]
    },
    {
     "data": {
      "text/plain": [
       "[name: \"/device:CPU:0\"\n",
       " device_type: \"CPU\"\n",
       " memory_limit: 268435456\n",
       " locality {\n",
       " }\n",
       " incarnation: 17391002882861474238\n",
       " xla_global_id: -1,\n",
       " name: \"/device:GPU:0\"\n",
       " device_type: \"GPU\"\n",
       " memory_limit: 3567583232\n",
       " locality {\n",
       "   bus_id: 1\n",
       "   links {\n",
       "   }\n",
       " }\n",
       " incarnation: 1885074272399517560\n",
       " physical_device_desc: \"device: 0, name: NVIDIA GeForce GTX 1050, pci bus id: 0000:01:00.0, compute capability: 6.1\"\n",
       " xla_global_id: 416903419]"
      ]
     },
     "execution_count": 6,
     "metadata": {},
     "output_type": "execute_result"
    }
   ],
   "source": [
    "from tensorflow.python.client import device_lib\n",
    "\n",
    "device_lib.list_local_devices()"
   ]
  }
 ],
 "metadata": {
  "kernelspec": {
   "display_name": "masterMLpythonConda",
   "language": "python",
   "name": "mastermlpythonconda"
  },
  "language_info": {
   "codemirror_mode": {
    "name": "ipython",
    "version": 3
   },
   "file_extension": ".py",
   "mimetype": "text/x-python",
   "name": "python",
   "nbconvert_exporter": "python",
   "pygments_lexer": "ipython3",
   "version": "3.11.8"
  }
 },
 "nbformat": 4,
 "nbformat_minor": 5
}
