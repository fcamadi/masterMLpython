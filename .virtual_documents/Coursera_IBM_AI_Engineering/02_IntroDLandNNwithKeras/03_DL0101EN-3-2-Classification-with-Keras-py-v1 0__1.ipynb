























# All Libraries required for this lab are listed below. The libraries pre-installed on Skills Network Labs are commented. 
# If you run this notebook on a different environment, e.g. your desktop, you may need to uncomment and install certain libraries.

#pip install numpy==2.0.2
#!pip install pandas==2.2.2
#!pip install tensorflow_cpu==2.18.0
#!pip install matplotlib==3.9.2
!which python


import keras

from keras.models import Sequential
from keras.layers import Dense
from keras.layers import Input
from keras.utils import to_categorical





import matplotlib.pyplot as plt





# import the data
from keras.datasets import mnist

# read the data
(X_train, y_train), (X_test, y_test) = mnist.load_data()





X_train.shape


X_test.shape








plt.imshow(X_train[0])





# flatten images into one-dimensional vector

num_pixels = X_train.shape[1] * X_train.shape[2] # find size of one-dimensional vector
print(f"num_pixels: {num_pixels}")
X_train = X_train.reshape(X_train.shape[0], num_pixels).astype('float32') # flatten training images
X_test = X_test.reshape(X_test.shape[0], num_pixels).astype('float32') # flatten test images





# normalize inputs from 0-255 to 0-1
X_train = X_train / 255
X_test = X_test / 255





# one hot encode outputs
y_train = to_categorical(y_train)
y_test = to_categorical(y_test)

num_classes = y_test.shape[1]
print(num_classes)








# define classification model
def classification_model():
    # create model
    
    model = Sequential()
    model.add(Input(shape=(num_pixels,)))
    model.add(Dense(num_pixels, activation='relu'))
    model.add(Dense(100, activation='relu'))
    model.add(Dense(num_classes, activation='softmax'))
    
    
    # compile model
    model.compile(optimizer='adam', loss='categorical_crossentropy', metrics=['accuracy'])
    return model








# build the model
model = classification_model()

# fit the model
model.fit(X_train, y_train, validation_data=(X_test, y_test), epochs=10, verbose=2)


# evaluate the model
scores = model.evaluate(X_test, y_test, verbose=2)





print('Accuracy: {}% \n Error: {}'.format(scores[1], 1 - scores[1]))        








model.save('classification_model.keras')








pretrained_model = keras.saving.load_model('classification_model.keras')





print(model.summary())


from tensorflow.keras.utils import plot_model
plot_model(model, to_file='model_plot.png', show_shapes=True, show_layer_names=True)












