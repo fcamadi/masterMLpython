{
 "cells": [
  {
   "cell_type": "markdown",
   "id": "0fca5900-9942-42b9-9503-ead760f489b8",
   "metadata": {},
   "source": [
    "# Tema 4 - Ejercicio \n",
    "## Aprendizaje Probabilístico. Clasificación mediante Naive Bayes\n",
    "\n",
    "El fichero “Movie_pang02.csv”, disponible en la carpeta de Pruebas de Evaluación del Máster, contiene una muestra de 2000 reviews de películas de la página web IMDB utilizada en el artículo de Pang, B. y Lee, L., A Sentimental\n",
    "Education: Sentiment Analysis Using Subjectivity Summarization Based on Minimum Cuts, Proceedings of ACL 2004. Dichas reviews están etiquetadas mediante la variable class como positivas (“Pos”) o negativas (“Neg”). \n",
    "Utilizando dicho dataset, elabore un modelo de clasificación de reviews en base a su texto siguiendo el procedimiento descrito en el capítulo 4 del texto base en el ejemplo de SMS Spam. En particular, genere las nubes de  palabras para las reviews positivas y negativas, y obtenga el modelo asignando los valores 0 y 1 al parámetro laplace de la función naiveBayes(), comparando las matrices de confusión de cada variante del modelo.\n",
    "\n"
   ]
  },
  {
   "cell_type": "markdown",
   "id": "3f54a291-f5bf-4fcb-a6f8-eef7190ba810",
   "metadata": {},
   "source": [
    "Importamos dependencias"
   ]
  },
  {
   "cell_type": "code",
   "execution_count": 49,
   "id": "76cbe20b-808a-4829-a1c8-41185e03ab28",
   "metadata": {},
   "outputs": [
    {
     "name": "stderr",
     "output_type": "stream",
     "text": [
      "[nltk_data] Downloading package stopwords to /home/francd/nltk_data...\n",
      "[nltk_data]   Package stopwords is already up-to-date!\n"
     ]
    }
   ],
   "source": [
    "import pandas as pd\n",
    "import numpy as np\n",
    "import matplotlib.pyplot as plt\n",
    "from matplotlib.colors import ListedColormap\n",
    "import matplotlib.patches as mpatches\n",
    "import seaborn as sb\n",
    "\n",
    "%matplotlib inline\n",
    "plt.rcParams['figure.figsize'] = (16, 9)\n",
    "plt.style.use('ggplot')\n",
    "\n",
    "import string\n",
    "import nltk\n",
    "import nltk\n",
    "nltk.download('stopwords')\n",
    "from nltk.corpus import stopwords\n",
    "from nltk import PorterStemmer as Stemmer\n",
    "\n",
    "from sklearn.model_selection import train_test_split\n",
    "from sklearn.feature_extraction.text import CountVectorizer, TfidfVectorizer"
   ]
  },
  {
   "cell_type": "code",
   "execution_count": 2,
   "id": "c3f29d34-1f71-4803-83d5-ff41a5feb7d8",
   "metadata": {},
   "outputs": [],
   "source": [
    "# Surpress warnings:\n",
    "def warn(*args, **kwargs):\n",
    "    pass\n",
    "import warnings\n",
    "warnings.warn = warn"
   ]
  },
  {
   "cell_type": "markdown",
   "id": "b2939adf-cdf1-4fc4-b2e9-a83623a6f5d4",
   "metadata": {},
   "source": [
    "Cargamos el archivo entrada csv con pandas, indicando como separador la coma. Con head(5) vemos los 5 primeros registros."
   ]
  },
  {
   "cell_type": "code",
   "execution_count": 3,
   "id": "b3cb2609-dc85-491b-8c70-1b067ce0c6c3",
   "metadata": {},
   "outputs": [
    {
     "data": {
      "text/html": [
       "<div>\n",
       "<style scoped>\n",
       "    .dataframe tbody tr th:only-of-type {\n",
       "        vertical-align: middle;\n",
       "    }\n",
       "\n",
       "    .dataframe tbody tr th {\n",
       "        vertical-align: top;\n",
       "    }\n",
       "\n",
       "    .dataframe thead th {\n",
       "        text-align: right;\n",
       "    }\n",
       "</style>\n",
       "<table border=\"1\" class=\"dataframe\">\n",
       "  <thead>\n",
       "    <tr style=\"text-align: right;\">\n",
       "      <th></th>\n",
       "      <th>class</th>\n",
       "      <th>text</th>\n",
       "    </tr>\n",
       "  </thead>\n",
       "  <tbody>\n",
       "    <tr>\n",
       "      <th>0</th>\n",
       "      <td>Pos</td>\n",
       "      <td>films adapted from comic books have had plent...</td>\n",
       "    </tr>\n",
       "    <tr>\n",
       "      <th>1</th>\n",
       "      <td>Pos</td>\n",
       "      <td>every now and then a movie comes along from a...</td>\n",
       "    </tr>\n",
       "    <tr>\n",
       "      <th>2</th>\n",
       "      <td>Pos</td>\n",
       "      <td>you ve got mail works alot better than it des...</td>\n",
       "    </tr>\n",
       "    <tr>\n",
       "      <th>3</th>\n",
       "      <td>Pos</td>\n",
       "      <td>jaws   is a rare film that grabs your atte...</td>\n",
       "    </tr>\n",
       "    <tr>\n",
       "      <th>4</th>\n",
       "      <td>Pos</td>\n",
       "      <td>moviemaking is a lot like being the general m...</td>\n",
       "    </tr>\n",
       "  </tbody>\n",
       "</table>\n",
       "</div>"
      ],
      "text/plain": [
       "  class                                               text\n",
       "0   Pos   films adapted from comic books have had plent...\n",
       "1   Pos   every now and then a movie comes along from a...\n",
       "2   Pos   you ve got mail works alot better than it des...\n",
       "3   Pos      jaws   is a rare film that grabs your atte...\n",
       "4   Pos   moviemaking is a lot like being the general m..."
      ]
     },
     "execution_count": 3,
     "metadata": {},
     "output_type": "execute_result"
    }
   ],
   "source": [
    "reviewsdf = pd.read_csv(r\"Movie_pang02.csv\",sep=',')\n",
    "reviewsdf.head(5)"
   ]
  },
  {
   "cell_type": "code",
   "execution_count": 4,
   "id": "4499dff9-5075-42ff-a373-88becccc8b6f",
   "metadata": {},
   "outputs": [
    {
     "data": {
      "text/html": [
       "<div>\n",
       "<style scoped>\n",
       "    .dataframe tbody tr th:only-of-type {\n",
       "        vertical-align: middle;\n",
       "    }\n",
       "\n",
       "    .dataframe tbody tr th {\n",
       "        vertical-align: top;\n",
       "    }\n",
       "\n",
       "    .dataframe thead th {\n",
       "        text-align: right;\n",
       "    }\n",
       "</style>\n",
       "<table border=\"1\" class=\"dataframe\">\n",
       "  <thead>\n",
       "    <tr style=\"text-align: right;\">\n",
       "      <th></th>\n",
       "      <th>class</th>\n",
       "      <th>text</th>\n",
       "    </tr>\n",
       "  </thead>\n",
       "  <tbody>\n",
       "    <tr>\n",
       "      <th>1995</th>\n",
       "      <td>Neg</td>\n",
       "      <td>if anything     stigmata   should be taken as...</td>\n",
       "    </tr>\n",
       "    <tr>\n",
       "      <th>1996</th>\n",
       "      <td>Neg</td>\n",
       "      <td>john boorman s   zardoz   is a goofy cinemati...</td>\n",
       "    </tr>\n",
       "    <tr>\n",
       "      <th>1997</th>\n",
       "      <td>Neg</td>\n",
       "      <td>the kids in the hall are an acquired taste   ...</td>\n",
       "    </tr>\n",
       "    <tr>\n",
       "      <th>1998</th>\n",
       "      <td>Neg</td>\n",
       "      <td>there was a time when john carpenter was a gr...</td>\n",
       "    </tr>\n",
       "    <tr>\n",
       "      <th>1999</th>\n",
       "      <td>Neg</td>\n",
       "      <td>two party guys bob their heads to haddaway s ...</td>\n",
       "    </tr>\n",
       "  </tbody>\n",
       "</table>\n",
       "</div>"
      ],
      "text/plain": [
       "     class                                               text\n",
       "1995   Neg   if anything     stigmata   should be taken as...\n",
       "1996   Neg   john boorman s   zardoz   is a goofy cinemati...\n",
       "1997   Neg   the kids in the hall are an acquired taste   ...\n",
       "1998   Neg   there was a time when john carpenter was a gr...\n",
       "1999   Neg   two party guys bob their heads to haddaway s ..."
      ]
     },
     "execution_count": 4,
     "metadata": {},
     "output_type": "execute_result"
    }
   ],
   "source": [
    "reviewsdf.tail(5)"
   ]
  },
  {
   "cell_type": "markdown",
   "id": "af38280c-7022-457d-af33-f23a2001a8d4",
   "metadata": {},
   "source": [
    "**Resumen estadístico**\n",
    "\n",
    "El equivalente a la función summary de R en pandas es describe:"
   ]
  },
  {
   "cell_type": "code",
   "execution_count": 5,
   "id": "b969e047-ee4c-487c-8d64-c9ab4cd30eb2",
   "metadata": {},
   "outputs": [
    {
     "data": {
      "text/html": [
       "<div>\n",
       "<style scoped>\n",
       "    .dataframe tbody tr th:only-of-type {\n",
       "        vertical-align: middle;\n",
       "    }\n",
       "\n",
       "    .dataframe tbody tr th {\n",
       "        vertical-align: top;\n",
       "    }\n",
       "\n",
       "    .dataframe thead th {\n",
       "        text-align: right;\n",
       "    }\n",
       "</style>\n",
       "<table border=\"1\" class=\"dataframe\">\n",
       "  <thead>\n",
       "    <tr style=\"text-align: right;\">\n",
       "      <th></th>\n",
       "      <th>class</th>\n",
       "      <th>text</th>\n",
       "    </tr>\n",
       "  </thead>\n",
       "  <tbody>\n",
       "    <tr>\n",
       "      <th>count</th>\n",
       "      <td>2000</td>\n",
       "      <td>2000</td>\n",
       "    </tr>\n",
       "    <tr>\n",
       "      <th>unique</th>\n",
       "      <td>2</td>\n",
       "      <td>2000</td>\n",
       "    </tr>\n",
       "    <tr>\n",
       "      <th>top</th>\n",
       "      <td>Pos</td>\n",
       "      <td>tommy lee jones chases an innocent victim aro...</td>\n",
       "    </tr>\n",
       "    <tr>\n",
       "      <th>freq</th>\n",
       "      <td>1000</td>\n",
       "      <td>1</td>\n",
       "    </tr>\n",
       "  </tbody>\n",
       "</table>\n",
       "</div>"
      ],
      "text/plain": [
       "       class                                               text\n",
       "count   2000                                               2000\n",
       "unique     2                                               2000\n",
       "top      Pos   tommy lee jones chases an innocent victim aro...\n",
       "freq    1000                                                  1"
      ]
     },
     "execution_count": 5,
     "metadata": {},
     "output_type": "execute_result"
    }
   ],
   "source": [
    "reviewsdf.describe()"
   ]
  },
  {
   "cell_type": "code",
   "execution_count": 6,
   "id": "cc75f296-d4c1-409a-8171-b3abd2e4582e",
   "metadata": {},
   "outputs": [
    {
     "name": "stdout",
     "output_type": "stream",
     "text": [
      "class\n",
      "Neg    1000\n",
      "Pos    1000\n",
      "dtype: int64\n"
     ]
    }
   ],
   "source": [
    "#Summary of target variable\n",
    "reviewsTable = reviewsdf.groupby(\"class\")\n",
    "totals = reviewsTable.size()\n",
    "total = sum(totals)\n",
    "print(totals)"
   ]
  },
  {
   "cell_type": "markdown",
   "id": "6803dd83-0672-43fc-9bc2-f1e9c5ff45d9",
   "metadata": {},
   "source": [
    "Se comprueba que hay igual número de críticas positivas y negativas en el fichero."
   ]
  },
  {
   "cell_type": "code",
   "execution_count": 7,
   "id": "4575480e-790b-4c03-8d73-0aeeba70999b",
   "metadata": {},
   "outputs": [
    {
     "data": {
      "text/html": [
       "<div>\n",
       "<style scoped>\n",
       "    .dataframe tbody tr th:only-of-type {\n",
       "        vertical-align: middle;\n",
       "    }\n",
       "\n",
       "    .dataframe tbody tr th {\n",
       "        vertical-align: top;\n",
       "    }\n",
       "\n",
       "    .dataframe thead tr th {\n",
       "        text-align: left;\n",
       "    }\n",
       "\n",
       "    .dataframe thead tr:last-of-type th {\n",
       "        text-align: right;\n",
       "    }\n",
       "</style>\n",
       "<table border=\"1\" class=\"dataframe\">\n",
       "  <thead>\n",
       "    <tr>\n",
       "      <th></th>\n",
       "      <th colspan=\"4\" halign=\"left\">text</th>\n",
       "    </tr>\n",
       "    <tr>\n",
       "      <th></th>\n",
       "      <th>count</th>\n",
       "      <th>unique</th>\n",
       "      <th>top</th>\n",
       "      <th>freq</th>\n",
       "    </tr>\n",
       "    <tr>\n",
       "      <th>class</th>\n",
       "      <th></th>\n",
       "      <th></th>\n",
       "      <th></th>\n",
       "      <th></th>\n",
       "    </tr>\n",
       "  </thead>\n",
       "  <tbody>\n",
       "    <tr>\n",
       "      <th>Neg</th>\n",
       "      <td>1000</td>\n",
       "      <td>1000</td>\n",
       "      <td>two party guys bob their heads to haddaway s ...</td>\n",
       "      <td>1</td>\n",
       "    </tr>\n",
       "    <tr>\n",
       "      <th>Pos</th>\n",
       "      <td>1000</td>\n",
       "      <td>1000</td>\n",
       "      <td>truman     true man     burbank is the perfec...</td>\n",
       "      <td>1</td>\n",
       "    </tr>\n",
       "  </tbody>\n",
       "</table>\n",
       "</div>"
      ],
      "text/plain": [
       "       text                                                               \n",
       "      count unique                                                top freq\n",
       "class                                                                     \n",
       "Neg    1000   1000   two party guys bob their heads to haddaway s ...    1\n",
       "Pos    1000   1000   truman     true man     burbank is the perfec...    1"
      ]
     },
     "execution_count": 7,
     "metadata": {},
     "output_type": "execute_result"
    }
   ],
   "source": [
    "#An easier way\n",
    "reviewsdf.groupby('class').describe()"
   ]
  },
  {
   "cell_type": "markdown",
   "id": "c7e2975f-7498-40ef-b95f-80e73aad1088",
   "metadata": {},
   "source": [
    "**Separar las críticas en dos conjuntos diferentes (entrenamiento y test):**"
   ]
  },
  {
   "cell_type": "code",
   "execution_count": 77,
   "id": "8c3137a4-ecdd-4da2-880b-b745af070eed",
   "metadata": {},
   "outputs": [],
   "source": [
    "reviewsdf_train, reviewsdf_test = train_test_split(reviewsdf, test_size=0.25)"
   ]
  },
  {
   "cell_type": "code",
   "execution_count": 78,
   "id": "3c126536-2bdd-4b7f-ae4c-adc83408bc2c",
   "metadata": {},
   "outputs": [
    {
     "data": {
      "text/html": [
       "<div>\n",
       "<style scoped>\n",
       "    .dataframe tbody tr th:only-of-type {\n",
       "        vertical-align: middle;\n",
       "    }\n",
       "\n",
       "    .dataframe tbody tr th {\n",
       "        vertical-align: top;\n",
       "    }\n",
       "\n",
       "    .dataframe thead tr th {\n",
       "        text-align: left;\n",
       "    }\n",
       "\n",
       "    .dataframe thead tr:last-of-type th {\n",
       "        text-align: right;\n",
       "    }\n",
       "</style>\n",
       "<table border=\"1\" class=\"dataframe\">\n",
       "  <thead>\n",
       "    <tr>\n",
       "      <th></th>\n",
       "      <th colspan=\"4\" halign=\"left\">text</th>\n",
       "    </tr>\n",
       "    <tr>\n",
       "      <th></th>\n",
       "      <th>count</th>\n",
       "      <th>unique</th>\n",
       "      <th>top</th>\n",
       "      <th>freq</th>\n",
       "    </tr>\n",
       "    <tr>\n",
       "      <th>class</th>\n",
       "      <th></th>\n",
       "      <th></th>\n",
       "      <th></th>\n",
       "      <th></th>\n",
       "    </tr>\n",
       "  </thead>\n",
       "  <tbody>\n",
       "    <tr>\n",
       "      <th>Neg</th>\n",
       "      <td>754</td>\n",
       "      <td>754</td>\n",
       "      <td>there is a scene in patch adams in which patc...</td>\n",
       "      <td>1</td>\n",
       "    </tr>\n",
       "    <tr>\n",
       "      <th>Pos</th>\n",
       "      <td>746</td>\n",
       "      <td>746</td>\n",
       "      <td>it s a curious thing   i ve found that when w...</td>\n",
       "      <td>1</td>\n",
       "    </tr>\n",
       "  </tbody>\n",
       "</table>\n",
       "</div>"
      ],
      "text/plain": [
       "       text                                                               \n",
       "      count unique                                                top freq\n",
       "class                                                                     \n",
       "Neg     754    754   there is a scene in patch adams in which patc...    1\n",
       "Pos     746    746   it s a curious thing   i ve found that when w...    1"
      ]
     },
     "execution_count": 78,
     "metadata": {},
     "output_type": "execute_result"
    }
   ],
   "source": [
    "reviewsdf_train.groupby('class').describe()"
   ]
  },
  {
   "cell_type": "code",
   "execution_count": 79,
   "id": "acd989a9-3347-4b6c-bea4-d86eab8ab43a",
   "metadata": {},
   "outputs": [
    {
     "data": {
      "text/html": [
       "<div>\n",
       "<style scoped>\n",
       "    .dataframe tbody tr th:only-of-type {\n",
       "        vertical-align: middle;\n",
       "    }\n",
       "\n",
       "    .dataframe tbody tr th {\n",
       "        vertical-align: top;\n",
       "    }\n",
       "\n",
       "    .dataframe thead tr th {\n",
       "        text-align: left;\n",
       "    }\n",
       "\n",
       "    .dataframe thead tr:last-of-type th {\n",
       "        text-align: right;\n",
       "    }\n",
       "</style>\n",
       "<table border=\"1\" class=\"dataframe\">\n",
       "  <thead>\n",
       "    <tr>\n",
       "      <th></th>\n",
       "      <th colspan=\"4\" halign=\"left\">text</th>\n",
       "    </tr>\n",
       "    <tr>\n",
       "      <th></th>\n",
       "      <th>count</th>\n",
       "      <th>unique</th>\n",
       "      <th>top</th>\n",
       "      <th>freq</th>\n",
       "    </tr>\n",
       "    <tr>\n",
       "      <th>class</th>\n",
       "      <th></th>\n",
       "      <th></th>\n",
       "      <th></th>\n",
       "      <th></th>\n",
       "    </tr>\n",
       "  </thead>\n",
       "  <tbody>\n",
       "    <tr>\n",
       "      <th>Neg</th>\n",
       "      <td>246</td>\n",
       "      <td>246</td>\n",
       "      <td>what were they thinking    nostalgia for the ...</td>\n",
       "      <td>1</td>\n",
       "    </tr>\n",
       "    <tr>\n",
       "      <th>Pos</th>\n",
       "      <td>254</td>\n",
       "      <td>254</td>\n",
       "      <td>the central focus of michael winterbottom s  ...</td>\n",
       "      <td>1</td>\n",
       "    </tr>\n",
       "  </tbody>\n",
       "</table>\n",
       "</div>"
      ],
      "text/plain": [
       "       text                                                               \n",
       "      count unique                                                top freq\n",
       "class                                                                     \n",
       "Neg     246    246   what were they thinking    nostalgia for the ...    1\n",
       "Pos     254    254   the central focus of michael winterbottom s  ...    1"
      ]
     },
     "execution_count": 79,
     "metadata": {},
     "output_type": "execute_result"
    }
   ],
   "source": [
    "reviewsdf_test.groupby('class').describe()"
   ]
  },
  {
   "cell_type": "markdown",
   "id": "842baca4-8b18-461f-bc0f-390f1d59585c",
   "metadata": {},
   "source": [
    "La proporción de críticas positivas y negativas se mantiene."
   ]
  },
  {
   "cell_type": "markdown",
   "id": "7207b970-4f5c-4e9b-b9a9-09045b73d830",
   "metadata": {},
   "source": [
    "### Limpieza y preparación"
   ]
  },
  {
   "cell_type": "code",
   "execution_count": 25,
   "id": "5fbd82c3-acfe-49c3-af01-90a9c146e984",
   "metadata": {},
   "outputs": [],
   "source": [
    "def process(text):\n",
    "    \n",
    "    #To lowercase\n",
    "    text = text.lower()\n",
    "\n",
    "    #Remove numbers\n",
    "    text = ''.join([t for t in text if not t.isdigit()])\n",
    "\n",
    "    # remove punctuation\n",
    "    text = ''.join([t for t in text if t not in string.punctuation])\n",
    "    \n",
    "    # remove stopwords\n",
    "    text = [t for t in text.split() if t not in stopwords.words('english')]\n",
    "\n",
    "    #Eliminate unneeded whitespace\n",
    "    \n",
    "    # Stemming\n",
    "    st = Stemmer()\n",
    "    text = [st.stem(t) for t in text]\n",
    "\n",
    "    result = ' '.join([t for t in text])\n",
    "    # return token list\n",
    "    return result\n"
   ]
  },
  {
   "cell_type": "markdown",
   "id": "12b31236-0fd5-4dd0-9b89-8798c9f4f748",
   "metadata": {},
   "source": [
    "Probamos esta función:"
   ]
  },
  {
   "cell_type": "code",
   "execution_count": 76,
   "id": "5cdc03b9-f08d-4972-8877-6a88760ddda7",
   "metadata": {},
   "outputs": [],
   "source": [
    "#Testing function process with one of the reviews\n",
    "#\n",
    "#text = \"\"\"\n",
    "#the film pales in comparison to that in the black and white comic    oscar winner martin childs    shakespeare in love   production design turns the original prague surroundings into one creepy place    \n",
    "#even the acting in from hell is solid   with the dreamy depp turning in a typically strong performance and deftly handling a british accent    ians holm   joe gould s secret   and richardson   102 dalmatians   \n",
    "#log in great supporting roles   but the big surprise here is graham    i cringed the first time she opened her mouth   imagining her attempt at an irish accent   but it actually wasn t half bad    \n",
    "#the film   however   is all good    2   00   r for strong violence/gore   sexuality   language and drug content \"\n",
    "#\"\"\"\n",
    "#print(text)\n",
    "#\n",
    "#result = process(text)\n",
    "#print(result)"
   ]
  },
  {
   "cell_type": "markdown",
   "id": "49559dc2-9fd2-49e6-8dc3-9222786a4a06",
   "metadata": {},
   "source": [
    "Aplicar la función a todos los textos de los dos dataframes:"
   ]
  },
  {
   "cell_type": "code",
   "execution_count": 58,
   "id": "bb1296c9-349b-4d0f-82ab-0fd993a5543c",
   "metadata": {},
   "outputs": [],
   "source": [
    "clean_reviewsdf_train = reviewsdf_train['text'].apply(process)\n",
    "clean_reviewsdf_test = reviewsdf_test['text'].apply(process)"
   ]
  },
  {
   "cell_type": "code",
   "execution_count": 73,
   "id": "a185c7e6-b6e8-4c74-924b-b92c0564a013",
   "metadata": {},
   "outputs": [],
   "source": [
    "#clean_reviewsdf_train.head(5)"
   ]
  },
  {
   "cell_type": "code",
   "execution_count": 72,
   "id": "fb3c7d27-8119-48dd-8810-9479a6b6be80",
   "metadata": {},
   "outputs": [],
   "source": [
    "#clean_reviewsdf_test.head(5)"
   ]
  },
  {
   "cell_type": "code",
   "execution_count": 74,
   "id": "5c782e80-1174-4b61-b683-3b994ed73280",
   "metadata": {},
   "outputs": [],
   "source": [
    "#have a look\n",
    "#print(reviewsdf['text'][337])\n",
    "#print(\"\\n\")\n",
    "#print(clean_reviewsdf_train[337])"
   ]
  },
  {
   "cell_type": "code",
   "execution_count": 75,
   "id": "762aa3bc-d4e9-4b4a-a8dd-d333c12ff786",
   "metadata": {},
   "outputs": [],
   "source": [
    "#have a look\n",
    "#print(reviewsdf['text'][799])\n",
    "#print(\"\\n\")\n",
    "#print(clean_reviewsdf_test[799])"
   ]
  },
  {
   "cell_type": "markdown",
   "id": "4b641636-f500-4b0d-ba6a-ef5d11b10084",
   "metadata": {},
   "source": [
    "Crear la DTM con el data frame de entrenamiento (clean_reviewsdf_train)"
   ]
  },
  {
   "cell_type": "code",
   "execution_count": 96,
   "id": "356b66f4-847d-4544-9083-d22ade6d697b",
   "metadata": {},
   "outputs": [
    {
     "name": "stdout",
     "output_type": "stream",
     "text": [
      "TfidfVectorizer feature names length: 801\n",
      "dtm_train_count.shape:  (1500, 801)\n"
     ]
    }
   ],
   "source": [
    "# Sample documents\n",
    "#documents = [\n",
    "#    cleanreviewsdf[1],\n",
    "#    cleanreviewsdf[10],\n",
    "#    cleanreviewsdf[100],\n",
    "#    cleanreviewsdf[1000],\n",
    "#]\n",
    "\n",
    "# CountVectorizer/TfidfVectorizer\n",
    "tfidf_vectorizer = TfidfVectorizer(min_df = 100)\n",
    "dtm_train_count = tfidf_vectorizer.fit_transform(clean_reviewsdf_train)\n",
    "\n",
    "# Get the feature names (tokens)\n",
    "feature_names_count = tfidf_vectorizer.get_feature_names_out()\n",
    "\n",
    "# Print the feature names\n",
    "print(\"TfidfVectorizer feature names length:\", len(feature_names_count))\n",
    "\n",
    "# Print the feature names\n",
    "#print(\"TfidfVectorizer feature names:\", feature_names_count)\n",
    "\n",
    "# Print the document-term matrices\n",
    "#print(\"TfidfVectorizer document-term matrix:\")\n",
    "#print(dtm_train_count.toarray())\n",
    "print(\"dtm_train_count.shape: \",dtm_train_count.shape)"
   ]
  },
  {
   "cell_type": "markdown",
   "id": "7e82712c-781c-440f-91a6-569679e50988",
   "metadata": {},
   "source": [
    "Si se obtiene la DTM del total de críticas, el resultado es muy similar al obtenido en R: en R se obtenían 1027 palabras, con TfidfVectorizer(min_df = 100) se obtienen 50 más. Sin embargo, al crear la DTM solo sobre el conjunto de entrenamiento, ahora se obtienen 200 palabras menos."
   ]
  },
  {
   "cell_type": "code",
   "execution_count": 43,
   "id": "c84b3542-c296-416a-8168-faccc9f948b3",
   "metadata": {},
   "outputs": [],
   "source": [
    "# Se puede intentar hacer todos los pasos posibles con el TfidfVectorizer: pasar a minúsculas (ya lo hace por defecto), las \"stopwords\" .. \n",
    "# no hace los números y los signos de puntuación, todo lo demás creo que sí\n",
    "\n",
    "# CountVectorizer/TfidfVectorizer\n",
    "#\n",
    "# tfidf_vectorizer = TfidfVectorizer(stop_words='english', min_df = 100)\n",
    "# X_count = tfidf_vectorizer.fit_transform(reviewsdf['text'])\n",
    "\n",
    "# feature_names_count = tfidf_vectorizer.get_feature_names_out()\n",
    "#\n",
    "# print(\"TfidfVectorizer feature names length:\", len(feature_names_count))\n",
    "#\n",
    "# print(\"TfidfVectorizer feature names:\", feature_names_count)\n",
    "#\n",
    "# print(\"TfidfVectorizer document-term matrix:\")\n",
    "# print(X_count.toarray())\n",
    "# print(X_count.shape)\n",
    "#\n",
    "# TfidfVectorizer feature names length: 887\n",
    "# TfidfVectorizer feature names: ['10' '1998' 'ability' 'able' 'absolutely' 'act' 'acting' 'action' 'actor'\n",
    "#  'actors' 'actress' 'actual' 'actually' 'add' 'adds' 'admit' 'age' 'agent'\n",
    "#  ..."
   ]
  },
  {
   "cell_type": "markdown",
   "id": "f28f98bb-9658-47d8-8b7e-3ce3ced72ef5",
   "metadata": {},
   "source": [
    "Crear la DTM con el data frame de test (clean_reviewsdf_test)"
   ]
  },
  {
   "cell_type": "code",
   "execution_count": 97,
   "id": "03f1b7d9-d171-4d98-b21c-729b4352ba8e",
   "metadata": {},
   "outputs": [
    {
     "name": "stdout",
     "output_type": "stream",
     "text": [
      "TfidfVectorizer feature names length: 197\n",
      "dtm_test_count.shape:  (500, 197)\n"
     ]
    }
   ],
   "source": [
    "# CountVectorizer/TfidfVectorizer\n",
    "tfidf_vectorizer = TfidfVectorizer(min_df = 100)\n",
    "dtm_test_count = tfidf_vectorizer.fit_transform(clean_reviewsdf_test)\n",
    "\n",
    "# Get the feature names (tokens)\n",
    "feature_names_count = tfidf_vectorizer.get_feature_names_out()\n",
    "\n",
    "# Print the feature names\n",
    "print(\"TfidfVectorizer feature names length:\", len(feature_names_count))\n",
    "\n",
    "# Print the feature names\n",
    "#print(\"TfidfVectorizer feature names:\", feature_names_count)\n",
    "\n",
    "# Print the document-term matrices\n",
    "#print(\"TfidfVectorizer document-term matrix:\")\n",
    "#print(dtm_train_count.toarray())\n",
    "print(\"dtm_test_count.shape: \",dtm_test_count.shape)"
   ]
  },
  {
   "cell_type": "code",
   "execution_count": null,
   "id": "1587ff5e-2e52-45e9-9de4-9e72cf4f33c0",
   "metadata": {},
   "outputs": [],
   "source": []
  }
 ],
 "metadata": {
  "kernelspec": {
   "display_name": "Python 3 (ipykernel)",
   "language": "python",
   "name": "python3"
  },
  "language_info": {
   "codemirror_mode": {
    "name": "ipython",
    "version": 3
   },
   "file_extension": ".py",
   "mimetype": "text/x-python",
   "name": "python",
   "nbconvert_exporter": "python",
   "pygments_lexer": "ipython3",
   "version": "3.12.8"
  }
 },
 "nbformat": 4,
 "nbformat_minor": 5
}
