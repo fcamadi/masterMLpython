{
 "cells": [
  {
   "cell_type": "markdown",
   "id": "0fca5900-9942-42b9-9503-ead760f489b8",
   "metadata": {},
   "source": [
    "# Tema 4 - Ejercicio \n",
    "## Aprendizaje Probabilístico. Clasificación mediante Naive Bayes\n",
    "\n",
    "El fichero “Movie_pang02.csv”, disponible en la carpeta de Pruebas de Evaluación del Máster, contiene una muestra de 2000 reviews de películas de la página web IMDB utilizada en el artículo de Pang, B. y Lee, L., A Sentimental\n",
    "Education: Sentiment Analysis Using Subjectivity Summarization Based on Minimum Cuts, Proceedings of ACL 2004. Dichas reviews están etiquetadas mediante la variable class como positivas (“Pos”) o negativas (“Neg”). \n",
    "Utilizando dicho dataset, elabore un modelo de clasificación de reviews en base a su texto siguiendo el procedimiento descrito en el capítulo 4 del texto base en el ejemplo de SMS Spam. En particular, genere las nubes de  palabras para las reviews positivas y negativas, y obtenga el modelo asignando los valores 0 y 1 al parámetro laplace de la función naiveBayes(), comparando las matrices de confusión de cada variante del modelo.\n",
    "\n"
   ]
  },
  {
   "cell_type": "markdown",
   "id": "3f54a291-f5bf-4fcb-a6f8-eef7190ba810",
   "metadata": {},
   "source": [
    "Importamos dependencias"
   ]
  },
  {
   "cell_type": "code",
   "execution_count": 11,
   "id": "76cbe20b-808a-4829-a1c8-41185e03ab28",
   "metadata": {},
   "outputs": [
    {
     "name": "stderr",
     "output_type": "stream",
     "text": [
      "[nltk_data] Downloading package stopwords to /home/francd/nltk_data...\n",
      "[nltk_data]   Unzipping corpora/stopwords.zip.\n"
     ]
    }
   ],
   "source": [
    "import pandas as pd\n",
    "import numpy as np\n",
    "import matplotlib.pyplot as plt\n",
    "from matplotlib.colors import ListedColormap\n",
    "import matplotlib.patches as mpatches\n",
    "import seaborn as sb\n",
    "\n",
    "%matplotlib inline\n",
    "plt.rcParams['figure.figsize'] = (16, 9)\n",
    "plt.style.use('ggplot')\n",
    "\n",
    "import string\n",
    "import nltk\n",
    "import nltk\n",
    "nltk.download('stopwords')\n",
    "from nltk.corpus import stopwords\n",
    "from nltk import PorterStemmer as Stemmer\n",
    "\n"
   ]
  },
  {
   "cell_type": "code",
   "execution_count": 2,
   "id": "c3f29d34-1f71-4803-83d5-ff41a5feb7d8",
   "metadata": {},
   "outputs": [],
   "source": [
    "# Surpress warnings:\n",
    "def warn(*args, **kwargs):\n",
    "    pass\n",
    "import warnings\n",
    "warnings.warn = warn"
   ]
  },
  {
   "cell_type": "markdown",
   "id": "b2939adf-cdf1-4fc4-b2e9-a83623a6f5d4",
   "metadata": {},
   "source": [
    "Cargamos el archivo entrada csv con pandas, indicando como separador la coma. Con head(5) vemos los 5 primeros registros."
   ]
  },
  {
   "cell_type": "code",
   "execution_count": 3,
   "id": "b3cb2609-dc85-491b-8c70-1b067ce0c6c3",
   "metadata": {},
   "outputs": [
    {
     "data": {
      "text/html": [
       "<div>\n",
       "<style scoped>\n",
       "    .dataframe tbody tr th:only-of-type {\n",
       "        vertical-align: middle;\n",
       "    }\n",
       "\n",
       "    .dataframe tbody tr th {\n",
       "        vertical-align: top;\n",
       "    }\n",
       "\n",
       "    .dataframe thead th {\n",
       "        text-align: right;\n",
       "    }\n",
       "</style>\n",
       "<table border=\"1\" class=\"dataframe\">\n",
       "  <thead>\n",
       "    <tr style=\"text-align: right;\">\n",
       "      <th></th>\n",
       "      <th>class</th>\n",
       "      <th>text</th>\n",
       "    </tr>\n",
       "  </thead>\n",
       "  <tbody>\n",
       "    <tr>\n",
       "      <th>0</th>\n",
       "      <td>Pos</td>\n",
       "      <td>films adapted from comic books have had plent...</td>\n",
       "    </tr>\n",
       "    <tr>\n",
       "      <th>1</th>\n",
       "      <td>Pos</td>\n",
       "      <td>every now and then a movie comes along from a...</td>\n",
       "    </tr>\n",
       "    <tr>\n",
       "      <th>2</th>\n",
       "      <td>Pos</td>\n",
       "      <td>you ve got mail works alot better than it des...</td>\n",
       "    </tr>\n",
       "    <tr>\n",
       "      <th>3</th>\n",
       "      <td>Pos</td>\n",
       "      <td>jaws   is a rare film that grabs your atte...</td>\n",
       "    </tr>\n",
       "    <tr>\n",
       "      <th>4</th>\n",
       "      <td>Pos</td>\n",
       "      <td>moviemaking is a lot like being the general m...</td>\n",
       "    </tr>\n",
       "  </tbody>\n",
       "</table>\n",
       "</div>"
      ],
      "text/plain": [
       "  class                                               text\n",
       "0   Pos   films adapted from comic books have had plent...\n",
       "1   Pos   every now and then a movie comes along from a...\n",
       "2   Pos   you ve got mail works alot better than it des...\n",
       "3   Pos      jaws   is a rare film that grabs your atte...\n",
       "4   Pos   moviemaking is a lot like being the general m..."
      ]
     },
     "execution_count": 3,
     "metadata": {},
     "output_type": "execute_result"
    }
   ],
   "source": [
    "reviewsdf = pd.read_csv(r\"Movie_pang02.csv\",sep=',')\n",
    "reviewsdf.head(5)"
   ]
  },
  {
   "cell_type": "code",
   "execution_count": 4,
   "id": "4499dff9-5075-42ff-a373-88becccc8b6f",
   "metadata": {},
   "outputs": [
    {
     "data": {
      "text/html": [
       "<div>\n",
       "<style scoped>\n",
       "    .dataframe tbody tr th:only-of-type {\n",
       "        vertical-align: middle;\n",
       "    }\n",
       "\n",
       "    .dataframe tbody tr th {\n",
       "        vertical-align: top;\n",
       "    }\n",
       "\n",
       "    .dataframe thead th {\n",
       "        text-align: right;\n",
       "    }\n",
       "</style>\n",
       "<table border=\"1\" class=\"dataframe\">\n",
       "  <thead>\n",
       "    <tr style=\"text-align: right;\">\n",
       "      <th></th>\n",
       "      <th>class</th>\n",
       "      <th>text</th>\n",
       "    </tr>\n",
       "  </thead>\n",
       "  <tbody>\n",
       "    <tr>\n",
       "      <th>1995</th>\n",
       "      <td>Neg</td>\n",
       "      <td>if anything     stigmata   should be taken as...</td>\n",
       "    </tr>\n",
       "    <tr>\n",
       "      <th>1996</th>\n",
       "      <td>Neg</td>\n",
       "      <td>john boorman s   zardoz   is a goofy cinemati...</td>\n",
       "    </tr>\n",
       "    <tr>\n",
       "      <th>1997</th>\n",
       "      <td>Neg</td>\n",
       "      <td>the kids in the hall are an acquired taste   ...</td>\n",
       "    </tr>\n",
       "    <tr>\n",
       "      <th>1998</th>\n",
       "      <td>Neg</td>\n",
       "      <td>there was a time when john carpenter was a gr...</td>\n",
       "    </tr>\n",
       "    <tr>\n",
       "      <th>1999</th>\n",
       "      <td>Neg</td>\n",
       "      <td>two party guys bob their heads to haddaway s ...</td>\n",
       "    </tr>\n",
       "  </tbody>\n",
       "</table>\n",
       "</div>"
      ],
      "text/plain": [
       "     class                                               text\n",
       "1995   Neg   if anything     stigmata   should be taken as...\n",
       "1996   Neg   john boorman s   zardoz   is a goofy cinemati...\n",
       "1997   Neg   the kids in the hall are an acquired taste   ...\n",
       "1998   Neg   there was a time when john carpenter was a gr...\n",
       "1999   Neg   two party guys bob their heads to haddaway s ..."
      ]
     },
     "execution_count": 4,
     "metadata": {},
     "output_type": "execute_result"
    }
   ],
   "source": [
    "reviewsdf.tail(5)"
   ]
  },
  {
   "cell_type": "markdown",
   "id": "af38280c-7022-457d-af33-f23a2001a8d4",
   "metadata": {},
   "source": [
    "**Resumen estadístico**\n",
    "\n",
    "El equivalente a la función summary de R en pandas es describe:"
   ]
  },
  {
   "cell_type": "code",
   "execution_count": 5,
   "id": "b969e047-ee4c-487c-8d64-c9ab4cd30eb2",
   "metadata": {},
   "outputs": [
    {
     "data": {
      "text/html": [
       "<div>\n",
       "<style scoped>\n",
       "    .dataframe tbody tr th:only-of-type {\n",
       "        vertical-align: middle;\n",
       "    }\n",
       "\n",
       "    .dataframe tbody tr th {\n",
       "        vertical-align: top;\n",
       "    }\n",
       "\n",
       "    .dataframe thead th {\n",
       "        text-align: right;\n",
       "    }\n",
       "</style>\n",
       "<table border=\"1\" class=\"dataframe\">\n",
       "  <thead>\n",
       "    <tr style=\"text-align: right;\">\n",
       "      <th></th>\n",
       "      <th>class</th>\n",
       "      <th>text</th>\n",
       "    </tr>\n",
       "  </thead>\n",
       "  <tbody>\n",
       "    <tr>\n",
       "      <th>count</th>\n",
       "      <td>2000</td>\n",
       "      <td>2000</td>\n",
       "    </tr>\n",
       "    <tr>\n",
       "      <th>unique</th>\n",
       "      <td>2</td>\n",
       "      <td>2000</td>\n",
       "    </tr>\n",
       "    <tr>\n",
       "      <th>top</th>\n",
       "      <td>Pos</td>\n",
       "      <td>tommy lee jones chases an innocent victim aro...</td>\n",
       "    </tr>\n",
       "    <tr>\n",
       "      <th>freq</th>\n",
       "      <td>1000</td>\n",
       "      <td>1</td>\n",
       "    </tr>\n",
       "  </tbody>\n",
       "</table>\n",
       "</div>"
      ],
      "text/plain": [
       "       class                                               text\n",
       "count   2000                                               2000\n",
       "unique     2                                               2000\n",
       "top      Pos   tommy lee jones chases an innocent victim aro...\n",
       "freq    1000                                                  1"
      ]
     },
     "execution_count": 5,
     "metadata": {},
     "output_type": "execute_result"
    }
   ],
   "source": [
    "reviewsdf.describe()"
   ]
  },
  {
   "cell_type": "code",
   "execution_count": 6,
   "id": "cc75f296-d4c1-409a-8171-b3abd2e4582e",
   "metadata": {},
   "outputs": [
    {
     "name": "stdout",
     "output_type": "stream",
     "text": [
      "class\n",
      "Neg    1000\n",
      "Pos    1000\n",
      "dtype: int64\n"
     ]
    }
   ],
   "source": [
    "#Summary of target variable\n",
    "reviewsTable = reviewsdf.groupby(\"class\")\n",
    "totals = reviewsTable.size()\n",
    "total = sum(totals)\n",
    "print(totals)"
   ]
  },
  {
   "cell_type": "markdown",
   "id": "6803dd83-0672-43fc-9bc2-f1e9c5ff45d9",
   "metadata": {},
   "source": [
    "Se comprueba que hay igual número de críticas positivas y negativas en el fichero."
   ]
  },
  {
   "cell_type": "code",
   "execution_count": 7,
   "id": "4575480e-790b-4c03-8d73-0aeeba70999b",
   "metadata": {},
   "outputs": [
    {
     "data": {
      "text/html": [
       "<div>\n",
       "<style scoped>\n",
       "    .dataframe tbody tr th:only-of-type {\n",
       "        vertical-align: middle;\n",
       "    }\n",
       "\n",
       "    .dataframe tbody tr th {\n",
       "        vertical-align: top;\n",
       "    }\n",
       "\n",
       "    .dataframe thead tr th {\n",
       "        text-align: left;\n",
       "    }\n",
       "\n",
       "    .dataframe thead tr:last-of-type th {\n",
       "        text-align: right;\n",
       "    }\n",
       "</style>\n",
       "<table border=\"1\" class=\"dataframe\">\n",
       "  <thead>\n",
       "    <tr>\n",
       "      <th></th>\n",
       "      <th colspan=\"4\" halign=\"left\">text</th>\n",
       "    </tr>\n",
       "    <tr>\n",
       "      <th></th>\n",
       "      <th>count</th>\n",
       "      <th>unique</th>\n",
       "      <th>top</th>\n",
       "      <th>freq</th>\n",
       "    </tr>\n",
       "    <tr>\n",
       "      <th>class</th>\n",
       "      <th></th>\n",
       "      <th></th>\n",
       "      <th></th>\n",
       "      <th></th>\n",
       "    </tr>\n",
       "  </thead>\n",
       "  <tbody>\n",
       "    <tr>\n",
       "      <th>Neg</th>\n",
       "      <td>1000</td>\n",
       "      <td>1000</td>\n",
       "      <td>two party guys bob their heads to haddaway s ...</td>\n",
       "      <td>1</td>\n",
       "    </tr>\n",
       "    <tr>\n",
       "      <th>Pos</th>\n",
       "      <td>1000</td>\n",
       "      <td>1000</td>\n",
       "      <td>truman     true man     burbank is the perfec...</td>\n",
       "      <td>1</td>\n",
       "    </tr>\n",
       "  </tbody>\n",
       "</table>\n",
       "</div>"
      ],
      "text/plain": [
       "       text                                                               \n",
       "      count unique                                                top freq\n",
       "class                                                                     \n",
       "Neg    1000   1000   two party guys bob their heads to haddaway s ...    1\n",
       "Pos    1000   1000   truman     true man     burbank is the perfec...    1"
      ]
     },
     "execution_count": 7,
     "metadata": {},
     "output_type": "execute_result"
    }
   ],
   "source": [
    "#An easier way\n",
    "reviewsdf.groupby('class').describe()"
   ]
  },
  {
   "cell_type": "markdown",
   "id": "7207b970-4f5c-4e9b-b9a9-09045b73d830",
   "metadata": {},
   "source": [
    "### Limpieza y preparación"
   ]
  },
  {
   "cell_type": "code",
   "execution_count": 40,
   "id": "5fbd82c3-acfe-49c3-af01-90a9c146e984",
   "metadata": {},
   "outputs": [],
   "source": [
    "def process(text):\n",
    "    \n",
    "    #To lowercase\n",
    "    text = text.lower()\n",
    "\n",
    "    #Remove numbers\n",
    "    text = ''.join([t for t in text if not t.isdigit()])\n",
    "\n",
    "    # remove punctuation\n",
    "    text = ''.join([t for t in text if t not in string.punctuation])\n",
    "    \n",
    "    # remove stopwords\n",
    "    text = [t for t in text.split() if t not in stopwords.words('english')]\n",
    "\n",
    "    #Eliminate unneeded whitespace\n",
    "    \n",
    "    # Stemming\n",
    "    st = Stemmer()\n",
    "    text = [st.stem(t) for t in text]\n",
    "    \n",
    "    # return token list\n",
    "    return text\n"
   ]
  },
  {
   "cell_type": "markdown",
   "id": "12b31236-0fd5-4dd0-9b89-8798c9f4f748",
   "metadata": {},
   "source": [
    "Probamos esta función:"
   ]
  },
  {
   "cell_type": "code",
   "execution_count": 41,
   "id": "5cdc03b9-f08d-4972-8877-6a88760ddda7",
   "metadata": {},
   "outputs": [
    {
     "name": "stdout",
     "output_type": "stream",
     "text": [
      "\n",
      "the film pales in comparison to that in the black and white comic    oscar winner martin childs    shakespeare in love   production design turns the original prague surroundings into one creepy place    \n",
      "even the acting in from hell is solid   with the dreamy depp turning in a typically strong performance and deftly handling a british accent    ians holm   joe gould s secret   and richardson   102 dalmatians   \n",
      "log in great supporting roles   but the big surprise here is graham    i cringed the first time she opened her mouth   imagining her attempt at an irish accent   but it actually wasn t half bad    \n",
      "the film   however   is all good    2   00   r for strong violence/gore   sexuality   language and drug content \"\n",
      "\n",
      "['film', 'pale', 'comparison', 'black', 'white', 'comic', 'oscar', 'winner', 'martin', 'child', 'shakespear', 'love', 'product', 'design', 'turn', 'origin', 'pragu', 'surround', 'one', 'creepi', 'place', 'even', 'act', 'hell', 'solid', 'dreami', 'depp', 'turn', 'typic', 'strong', 'perform', 'deftli', 'handl', 'british', 'accent', 'ian', 'holm', 'joe', 'gould', 'secret', 'richardson', 'dalmatian', 'log', 'great', 'support', 'role', 'big', 'surpris', 'graham', 'cring', 'first', 'time', 'open', 'mouth', 'imagin', 'attempt', 'irish', 'accent', 'actual', 'half', 'bad', 'film', 'howev', 'good', 'r', 'strong', 'violencegor', 'sexual', 'languag', 'drug', 'content']\n"
     ]
    }
   ],
   "source": [
    "#Testing process with one of the reviews\n",
    "\n",
    "text = \"\"\"\n",
    "the film pales in comparison to that in the black and white comic    oscar winner martin childs    shakespeare in love   production design turns the original prague surroundings into one creepy place    \n",
    "even the acting in from hell is solid   with the dreamy depp turning in a typically strong performance and deftly handling a british accent    ians holm   joe gould s secret   and richardson   102 dalmatians   \n",
    "log in great supporting roles   but the big surprise here is graham    i cringed the first time she opened her mouth   imagining her attempt at an irish accent   but it actually wasn t half bad    \n",
    "the film   however   is all good    2   00   r for strong violence/gore   sexuality   language and drug content \"\n",
    "\"\"\"\n",
    "print(text)\n",
    "\n",
    "print(process(text))\n"
   ]
  },
  {
   "cell_type": "markdown",
   "id": "49559dc2-9fd2-49e6-8dc3-9222786a4a06",
   "metadata": {},
   "source": [
    "Aplicar la función a todos los textos del dataframe reviewsdf"
   ]
  },
  {
   "cell_type": "code",
   "execution_count": 55,
   "id": "bb1296c9-349b-4d0f-82ab-0fd993a5543c",
   "metadata": {},
   "outputs": [],
   "source": [
    "cleanreviewsdf = reviewsdf['text'].apply(process)"
   ]
  },
  {
   "cell_type": "code",
   "execution_count": 65,
   "id": "5c782e80-1174-4b61-b683-3b994ed73280",
   "metadata": {},
   "outputs": [],
   "source": [
    "#have a look\n",
    "#print(reviewsdf['text'][10])\n",
    "#print(cleanreviewsdf[10])"
   ]
  },
  {
   "cell_type": "code",
   "execution_count": 62,
   "id": "f81925b6-6632-475d-8672-3c66e689b6a5",
   "metadata": {},
   "outputs": [
    {
     "name": "stdout",
     "output_type": "stream",
     "text": [
      "['watch', 'rat', 'race', 'last', 'week', 'notic', 'cheek', 'sore', 'realiz', 'laugh', 'aloud', 'held', 'grin', 'virtual', 'film', 'minut', 'saturday', 'night', 'attend', 'anoth', 'sneak', 'preview', 'movi', 'damn', 'enjoy', 'much', 'second', 'time', 'first', 'rat', 'race', 'great', 'goofi', 'delight', 'dandi', 'mix', 'energet', 'perform', 'inspir', 'sight', 'gag', 'flat', 'silli', 'hand', 'fun', 'film', 'summer', 'movi', 'begin', 'zippi', 'retro', 'style', 'open', 'credit', 'look', 'like', 'torn', 'straight', 'slapstick', 'comedi', 'featur', 'anim', 'photo', 'cast', 'attach', 'herki', 'jerki', 'bodi', 'bound', 'around', 'screen', 'come', 'setup', 'donald', 'sinclair', 'john', 'clees', 'extrem', 'rich', 'owner', 'venetian', 'hotel', 'casino', 'la', 'vega', 'enjoy', 'concoct', 'unusu', 'bet', 'high', 'roll', 'client', 'end', 'place', 'half', 'dozen', 'special', 'token', 'slot', 'machin', 'gather', 'togeth', 'lucki', 'token', 'holder', 'explain', 'today', 'chanc', 'play', 'game', 'odd', 'win', 'one', 'six', 'competit', 'simpl', 'contest', 'get', 'key', 'open', 'locker', 'silver', 'citi', 'n', 'contain', 'million', 'cash', 'transmitt', 'everi', 'key', 'sinclair', 'croni', 'keep', 'track', 'ahead', 'race', 'rule', 'whichev', 'contest', 'reach', 'locker', 'first', 'get', 'money', 'sinc', 'would', 'wrong', 'spoil', 'joke', 'let', 'use', 'next', 'paragraph', 'profil', 'racer', 'deck', 'flashi', 'trashi', 'cloth', 'sport', 'big', 'hair', 'vera', 'baker', 'whoopi', 'goldberg', 'town', 'reunit', 'daughter', 'gave', 'adopt', 'babi', 'find', 'grown', 'merril', 'lanai', 'chapman', 'erudit', 'conserv', 'littl', 'bit', 'wari', 'stranger', 'tri', 'jump', 'life', 'thrown', 'togeth', 'becom', 'clear', 'women', 'share', 'fierc', 'competit', 'natur', 'owen', 'templeton', 'cuba', 'good', 'jr', 'current', 'hate', 'man', 'america', 'nfl', 'refere', 'cost', 'gambler', 'countri', 'enorm', 'amount', 'money', 'blow', 'call', 'high', 'profil', 'game', 'escap', 'veng', 'cab', 'driver', 'owen', 'get', 'new', 'mexico', 'masquerad', 'driver', 'busload', 'luci', 'ricardo', 'imperson', 'head', 'convent', 'mr', 'pollini', 'rowan', 'atkinson', 'cheer', 'odd', 'littl', 'italian', 'man', 'holiday', 'america', 'also', 'narcolept', 'fall', 'asleep', 'inopportun', 'time', 'pollini', 'hitch', 'ride', 'zack', 'wayn', 'knight', 'hyper', 'tens', 'ambul', 'driver', 'carri', 'human', 'heart', 'across', 'countri', 'transplant', 'oper', 'randi', 'pear', 'jon', 'lovitz', 'promis', 'wife', 'beverli', 'kathi', 'najimi', 'two', 'kid', 'fun', 'fill', 'vacat', 'la', 'vega', 'fear', 'beverli', 'angri', 'involv', 'race', 'claim', 'must', 'travel', 'silver', 'citi', 'job', 'interview', 'beverli', 'insist', 'famili', 'stay', 'togeth', 'hop', 'mini', 'van', 'tear', 'desert', 'brother', 'duan', 'seth', 'green', 'blain', 'vinc', 'vieluf', 'codi', 'young', 'crook', 'stupid', 'blain', 'speech', 'impedi', 'due', 'poorli', 'self', 'done', 'tongu', 'pierc', 'duan', 'person', 'come', 'close', 'understand', 'boy', 'stop', 'noth', 'reach', 'goal', 'final', 'nick', 'shaffer', 'breckin', 'meyer', 'nonsens', 'lawyer', 'train', 'recruit', 'helicopt', 'pilot', 'traci', 'faucet', 'ami', 'smart', 'journey', 'first', 'glanc', 'seem', 'blandli', 'wholesom', 'chang', 'traci', 'buzz', 'home', 'boyfriend', 'shawn', 'dean', 'cain', 'spi', 'swim', 'anoth', 'woman', 'director', 'jerri', 'zucker', 'airplan', 'ghost', 'leap', 'racer', 'racer', 'period', 'return', 'la', 'vega', 'sinclair', 'mr', 'grisham', 'dave', 'thoma', 'person', 'impair', 'right', 'hand', 'man', 'continu', 'cook', 'bizarr', 'bet', 'gambler', 'zucker', 'product', 'joke', 'fall', 'flat', 'momentum', 'comedi', 'zoom', 'past', 'misstep', 'high', 'point', 'includ', 'bit', 'involv', 'kathi', 'bate', 'roadsid', 'squirrel', 'salesperson', 'intric', 'set', 'gag', 'carri', 'jon', 'lovitz', 'famili', 'bizarr', 'museum', 'outdoor', 'ralli', 'utterli', 'tasteless', 'screamingli', 'funni', 'pay', 'part', 'filmmak', 'team', 'would', 'ditch', 'joke', 'key', 'drop', 'babi', 'cloth', 'instead', 'key', 'get', 'lost', 'cleavag', 'doze', 'societi', 'matron', 'would', 'drawn', 'laugh', 'without', 'squirm', 'induc', 'hint', 'child', 'molest', 'also', 'would', 'select', 'differ', 'band', 'concert', 'sequenc', 'god', 'realli', 'need', 'yet', 'anoth', 'movi', 'smash', 'mouth', 'perform', 'star', 'enough', 'carp', 'rat', 'race', 'riot', 'terrif', 'hold', 'bar', 'perform', 'divers', 'cast', 'see', 'see', 'dvd', 'come', 'buy', 'movi', 'hilari', 'sure', 'outtak', 'die']\n"
     ]
    }
   ],
   "source": []
  }
 ],
 "metadata": {
  "kernelspec": {
   "display_name": "Python 3 (ipykernel)",
   "language": "python",
   "name": "python3"
  },
  "language_info": {
   "codemirror_mode": {
    "name": "ipython",
    "version": 3
   },
   "file_extension": ".py",
   "mimetype": "text/x-python",
   "name": "python",
   "nbconvert_exporter": "python",
   "pygments_lexer": "ipython3",
   "version": "3.12.8"
  }
 },
 "nbformat": 4,
 "nbformat_minor": 5
}
